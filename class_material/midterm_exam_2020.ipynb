{
 "cells": [
  {
   "cell_type": "markdown",
   "metadata": {},
   "source": [
    "# YData: Analysis of Baseball Data Midterm\n",
    "\n",
    "\n",
    "Welcome to the YData: Analysis of Baseball Data midterm exam. You have 110 minutes to take this exam. \n",
    "\n",
    "You are allowed to use your notes, class slides, and the Internet to help you answer the questions. However no interaction is allowed with your classmates (or anyone else who is not involved in teaching the class). \n",
    "\n",
    "If you get stuck on a problem, move on to the next problem and then come back to the problem you are stuck on. Good luck!\n"
   ]
  },
  {
   "cell_type": "markdown",
   "metadata": {},
   "source": [
    "# Part 1: Visualizing information about baseball games\n",
    "\n",
    "For the first part of the exam you will manipulate and visualize data from individual baseball games. The code below loads the data needed for these exercises and loads the packages that you will need for the exam.\n"
   ]
  },
  {
   "cell_type": "code",
   "execution_count": 1,
   "metadata": {},
   "outputs": [
    {
     "name": "stderr",
     "output_type": "stream",
     "text": [
      "/Users/ethan/anaconda3/envs/ydata123/lib/python3.7/site-packages/IPython/core/interactiveshell.py:3049: DtypeWarning: Columns (12,13,14,15,19,20,81,83,85,87,93,94,95,96,97,98,99,100,105,106,108,109,111,112,114,115,117,118,120,121,123,124,126,127,129,130,132,133,135,136,138,139,141,142,144,145,147,148,150,151,153,154,156,157,160) have mixed types. Specify dtype option on import or set low_memory=False.\n",
      "  interactivity=interactivity, compiler=compiler, result=result)\n"
     ]
    }
   ],
   "source": [
    "from datascience import *\n",
    "import numpy as np\n",
    "import pandas as pd\n",
    "\n",
    "%matplotlib inline\n",
    "\n",
    "game_info = Table.from_df(pd.read_csv('https://yale.box.com/shared/static/un9xq5rm2ackorbphpuo9xvjhsg8o8r3.gz'))"
   ]
  },
  {
   "cell_type": "markdown",
   "metadata": {},
   "source": [
    "## 1.1 Visualizing how the average length of baseball games as changed (6 points)\n",
    "\n",
    "For the first problem, show how the average length of baseball games has changed over time. To do this, calculate the average length of a baseball game for each year, and plot these average lengths as a function of the year. Make sure that your y-axis label reads 'Average game length'. \n",
    "\n",
    "Hint: the columns `Year` and `Duration` will be useful!\n"
   ]
  },
  {
   "cell_type": "code",
   "execution_count": null,
   "metadata": {},
   "outputs": [],
   "source": [
    "\n",
    "\n",
    "\n",
    "\n"
   ]
  },
  {
   "cell_type": "markdown",
   "metadata": {},
   "source": [
    "## 1.2 Visualizing how attendance changes as a function of the day of the week  (14 points)\n",
    "\n",
    "For the second problem, create a scatter plot that shows how the average attendance changes as a function of the day of the week using data from after 2000. **Make sure that your x-axis shows the days of the week in order** from Monday through Sunday.  \n"
   ]
  },
  {
   "cell_type": "code",
   "execution_count": null,
   "metadata": {},
   "outputs": [],
   "source": [
    "\n",
    "\n",
    "\n",
    "\n",
    "\n",
    "\n",
    "\n",
    "\n",
    "\n"
   ]
  },
  {
   "cell_type": "markdown",
   "metadata": {},
   "source": [
    "# Part 2: Did cheating help the Houston Astros perform better? \n",
    "\n",
    "Over the course of the 2017 and 2018 seasons, the Houston Astros cheated by using electronic equipment to steal the signs that opposing teams were using. In particular, their cheating enabled them to tell whether an upcoming pitch was going to be a fastball or another type of pitch. This cheating was (presumably) only done for home games where they had cameras set up that could steal the opposing teams' signs. Thus, to analyze whether stealing signs helped the Astros, we can examine whether the Astros did better in particular areas when they were playing at home compared to when they were playing away at another stadium. \n",
    "\n",
    "One area where knowing the opposing teams' signs would be helpful is when the Astros were stealing bases. In particular, it is harder to steal a base when a fastball is thrown, so knowing if an upcoming pitch is a fastball should lead the Astros to have a higher success rate of stealing bases at home compared to stealing bases away. In the first set of questions you will examine whether the Astros indeed had a higher stolen base rate at home versus when they were away using data from the 2017 season (which is loaded below). "
   ]
  },
  {
   "cell_type": "code",
   "execution_count": 2,
   "metadata": {},
   "outputs": [
    {
     "name": "stderr",
     "output_type": "stream",
     "text": [
      "/Users/ethan/anaconda3/envs/ydata123/lib/python3.7/site-packages/IPython/core/interactiveshell.py:3049: DtypeWarning: Columns (64,65,85) have mixed types. Specify dtype option on import or set low_memory=False.\n",
      "  interactivity=interactivity, compiler=compiler, result=result)\n"
     ]
    }
   ],
   "source": [
    "\n",
    "data_url = 'https://raw.githubusercontent.com/emeyers/SDS173/master/data/compressed_retro_data/all_2017.gz'\n",
    "retro_data = Table.from_df(pd.read_csv(data_url))\n"
   ]
  },
  {
   "cell_type": "markdown",
   "metadata": {},
   "source": [
    "## 2.1 Getting the appropriate data I  (6 points)\n",
    "\n",
    "Start by creating two tables `astros_home` and `astros_away` that has the Astros home game and away game data. Please print the number of rows in these tables. \n",
    "\n",
    "Hint: the ndarry function `my_array.astype('U3')` could be helpful to get an ndarray that has the first three characters from an ndarray of character strings. Also, the number of rows you should get is 6310 for home games and 6521 for away games. "
   ]
  },
  {
   "cell_type": "code",
   "execution_count": null,
   "metadata": {},
   "outputs": [],
   "source": [
    "\n",
    "\n",
    "\n"
   ]
  },
  {
   "cell_type": "markdown",
   "metadata": {},
   "source": [
    "## 2.2 Getting the appropriate data II  (14 points)\n",
    "\n",
    "Now create two data tables called `away_sb` and `home_sb` that has only the stolen bases and caught stealing events for the Astros games. These tables should have a single column called `Outcome`, and the values in the rows of this table should be `Stolen` and `Caught Stealing`.  Please show the first 5 rows of the `away_sb` table.\n",
    "\n",
    "Hints: \n",
    "\n",
    "1) The retrosheet codebook for the `EVENT_CD` field is here: https://www.retrosheet.org/datause.txt . \n",
    "2) Creating an intermediate table called `translation_table` could be helpful. \n",
    "\n"
   ]
  },
  {
   "cell_type": "code",
   "execution_count": null,
   "metadata": {},
   "outputs": [],
   "source": [
    "\n",
    "\n",
    "\n",
    "\n"
   ]
  },
  {
   "cell_type": "markdown",
   "metadata": {},
   "source": [
    "## 2.3 Calculating the proportion of stolen bases at home and away (15 points)\n",
    "\n",
    "Now create tables called `tot_sb_home` and `tot_sb_away` that have the counts of the number of times the Astros successfully stole bases and were caught stealing bases for their home and away games and display these tables. Also calculate the proportion of times the Astros successfully stole bases at home and away and report these numbers. Then answer the following questions: \n",
    "\n",
    "\n",
    "1. Is there evidence to suggest that the Astros sign stealing helped them steal more bases? \n",
    "\n",
    "\n",
    "2. If you wanted to run a hypothesis test to examine if the Astros had more stolen bases at home, how would you state the null and alternative hypotheses using the symbols we discussed in class?\n",
    "\n",
    "\n",
    "3. Also if you did run such a test, what would the results show? \n",
    "\n",
    "\n",
    "**Answers:**\n",
    "\n",
    "1. \n",
    "\n",
    "\n",
    "\n",
    "2. \n",
    "\n",
    "\n",
    "\n",
    "3. \n",
    "\n",
    "\n",
    "\n",
    "\n"
   ]
  },
  {
   "cell_type": "code",
   "execution_count": null,
   "metadata": {},
   "outputs": [],
   "source": [
    "\n",
    "\n",
    "\n",
    "\n"
   ]
  },
  {
   "cell_type": "markdown",
   "metadata": {},
   "source": [
    "# Part 3: Using OOP to keep track of a game\n",
    "\n",
    "For this next problem you will use Object Oriented Programming (OOP) to display the batter names in a baseball game. \n",
    "\n",
    "The code below loads information about baseball players that will be useful for this problem. \n"
   ]
  },
  {
   "cell_type": "code",
   "execution_count": 3,
   "metadata": {},
   "outputs": [],
   "source": [
    "players = Table.read_table('https://raw.githubusercontent.com/emeyers/SDS173/master/data/People.csv')  \n"
   ]
  },
  {
   "cell_type": "markdown",
   "metadata": {},
   "source": [
    "## 3.1 Adding player information to the retro data (6 points)\n",
    "\n",
    "Let's start by augmenting the `retro_data` that was loaded in part 1 with the `players` table that is loaded above. In particular, add the player information for each batter in the retro data and save the resulting table in the name `retro_data_augmented`. Then print the number of columns in `retro_data_augmented`.\n"
   ]
  },
  {
   "cell_type": "code",
   "execution_count": 4,
   "metadata": {},
   "outputs": [],
   "source": [
    "retro_data_augmented = ...\n",
    "\n"
   ]
  },
  {
   "cell_type": "markdown",
   "metadata": {},
   "source": [
    "## 3.2 Printing a player's name (13 points)\n",
    "\n",
    "Now write a function called `get_retro_player_name(retro_data_with_names, row_num)` which takes the following arguments: \n",
    "\n",
    "1. `retro_data_with_names`: which is a retro data table that has been augmented with baseball players' names\n",
    "2. `row_num`: a row number in the augmented retro data table (retro_data_with_names)\n",
    "\n",
    "The function should return a string that has the full name of a baseball player who batted in the `row_num` row of the retro data (e.g., it should return a string with something like 'Jose Abreu').  \n",
    "\n",
    "Once you have created the function, run it for the 0th, 100th, and 500th row of the `retro_data_augmented` you created in 2.1 and print out the names that the function returns. Then answer the question of why you get the same baseball player's name for all these row numbers.\n",
    "\n",
    "**Answer**: \n",
    "\n"
   ]
  },
  {
   "cell_type": "code",
   "execution_count": 5,
   "metadata": {},
   "outputs": [],
   "source": [
    "def get_retro_player_name(retro_data_with_names, row_num):\n",
    "    pass\n",
    "    \n",
    "    "
   ]
  },
  {
   "cell_type": "markdown",
   "metadata": {},
   "source": [
    "## 3.3 Creating an object to print all the batters in a game (13 points)\n",
    "\n",
    "Now let's create a class that can be used to print out all the batters in a retrosheet baseball game. The class should have the following features: \n",
    "\n",
    "1. The constructor (i.e., the __init__ method) that should take a GAME_ID and store the relevant retro data. It should also initialize a variable that will keep track of the current batter. \n",
    "\n",
    "2. A method called `get_next_batter` which should return the name of the next batter in the game. \n",
    "\n",
    "\n",
    "Once you have written this function, use it to print the first five batters in the game `ANA201704070`. \n",
    "\n"
   ]
  },
  {
   "cell_type": "code",
   "execution_count": 6,
   "metadata": {},
   "outputs": [],
   "source": [
    "class retro_game():\n",
    "     \n",
    "    def __init__(self, game_id):\n",
    "        pass\n",
    "          \n",
    "    def get_next_batter(self):\n",
    "        pass\n",
    "\n",
    "\n",
    "\n"
   ]
  },
  {
   "cell_type": "markdown",
   "metadata": {},
   "source": [
    "# Part 4: Creating a tree diagram  (15 points)\n"
   ]
  },
  {
   "cell_type": "markdown",
   "metadata": {},
   "source": [
    "Below is an image of the Strat-O-Matic cards for when Evan Longoria is batting against the pitcher Andrew Miller. Using this image, please draw a tree diagram calculating the probability that Evan Longoria will hit a home run against Andrew Miller. Use the Python section below to show your calculations and turn in a drawing of your tree diagram.\n",
    "\n",
    "![stratomatic_image](strat_photo.jpg)\n"
   ]
  },
  {
   "cell_type": "markdown",
   "metadata": {},
   "source": [
    "\n",
    "\n",
    "\n"
   ]
  },
  {
   "cell_type": "markdown",
   "metadata": {},
   "source": [
    "# Part 5: Spring break!!!\n",
    "\n",
    "Have a great spring break! If you would like to read more on analyses examining whether the sign stealing helped the Astros win, [check out this 538 article](https://fivethirtyeight.com/features/if-the-astros-stole-signs-how-much-did-it-help-them/)\n",
    "\n"
   ]
  }
 ],
 "metadata": {
  "kernelspec": {
   "display_name": "Python 3",
   "language": "python",
   "name": "python3"
  },
  "language_info": {
   "codemirror_mode": {
    "name": "ipython",
    "version": 3
   },
   "file_extension": ".py",
   "mimetype": "text/x-python",
   "name": "python",
   "nbconvert_exporter": "python",
   "pygments_lexer": "ipython3",
   "version": "3.7.3"
  }
 },
 "nbformat": 4,
 "nbformat_minor": 2
}
