{
 "cells": [
  {
   "cell_type": "markdown",
   "metadata": {},
   "source": [
    "# Class 7 activities\n",
    "\n",
    "For today's in class activities we will run a hypothesis test for a single proportion, and a hypothesis test for comparing two means. While these activities do not need to be turned in, they will be good practice for lab 6.\n",
    "\n",
    "\n",
    "\n",
    "## Overview\n",
    "\n",
    "**All hypothesis tests have the same logic**. Namely: \n",
    "\n",
    "1. One starts with a *null hypothesis* that states that a parameter has a particular value. \n",
    "2. The parameter value stated in the null hypothesis implies a particular distribution of statistics called the *null distribution*.\n",
    "3. If the observed statistic is unlikely to come from the null distribution (i.e., if one has a small p-value) then one can reject the null hypothesis; i.e., we can state that parameter in the null hypothesis likely not to be true. \n",
    "\n",
    "\n",
    "**All hypothesis test can be run by following these 5 steps**: \n",
    "\n",
    "1. State the null and alternative hypotheses.\n",
    "2. Calculate the observed statistic from the data we have.\n",
    "3. Create a null distribution that is a distribution of statistics that is consistent with the null hypothesis.\n",
    "4. Calculate the p-value which is the probability of getting a statistic in the null distribution that is as more more extreme than the observed statistic.\n",
    "5. Make a decision if you should reject the null hypothesis (i.e., are the results \"statistically significant\"). \n",
    "\n",
    "Let's go through a few examples of this now.\n",
    "\n"
   ]
  },
  {
   "cell_type": "code",
   "execution_count": 2,
   "metadata": {},
   "outputs": [],
   "source": [
    "from datascience import *\n",
    "import pandas as pd\n",
    "import numpy as np\n",
    "from datetime import datetime\n",
    "import matplotlib.pyplot as plt\n",
    "\n",
    "%matplotlib inline\n",
    "\n"
   ]
  },
  {
   "cell_type": "markdown",
   "metadata": {},
   "source": [
    "# Part 1: Hypothesis test for a single proportion \n",
    "\n",
    "Let is start by running a hypothesis test for a single proportion. Namely, we will try to assess whether a parameter π is equal to a particular value, based on a statistic p̂ that is calculated from data.\n",
    "\n",
    "\n",
    "\n",
    "## Hypothesis test to examine whether Paul the Octopus was psychic \n",
    "\n",
    "Paul the Octopus was an octopus who was believed to have psychic abilities. In particular, it was claimed that Paul had the ability to predict the winner of soccer games. \n",
    "\n",
    "To test Paul’s psychic abilities, before each soccer game, two containers of food (mussels) were lowered into the octopus’ tank. The containers were identical, except for country flags of the opposing teams, one on each container. Whichever container Paul opened was deemed his predicted winner. In the 2010 World Cup, Paul (in a German aquarium) became famous for correctly predicting 11 out of 13 soccer games. We will use hypothesis testing to determine the probability that Paul would get 11 out of 13 correct if he was merely guessing.\n",
    "\n",
    "Let's run a hypothesis test to examine whether there is sufficient evidence to determine if Paul is psychic. \n",
    "\n",
    "\n",
    "<img src=\"https://raw.githubusercontent.com/emeyers/SDS173/master/images/Paul.jpg\">\n",
    "\n"
   ]
  },
  {
   "cell_type": "markdown",
   "metadata": {},
   "source": [
    "## 1.1: Stating the null and alternative hypothesis \n",
    "\n",
    "Please write down the null and alternative hypotheses in symbols and words to assess whether Paul is psychic. \n",
    "\n",
    "\n",
    "**Answer**\n",
    "\n",
    "\n",
    "\n",
    "\n",
    "\n"
   ]
  },
  {
   "cell_type": "markdown",
   "metadata": {},
   "source": [
    "## 1.2: Calculate the statistic of interest\n",
    "\n",
    "Please calculate the observed statistic p̂ and assign the value of the observed statistic to a name `paul_stat`\n"
   ]
  },
  {
   "cell_type": "code",
   "execution_count": 7,
   "metadata": {},
   "outputs": [],
   "source": []
  },
  {
   "cell_type": "markdown",
   "metadata": {},
   "source": [
    "## 1.3a: Create a statistic consistent with the null distribution\n",
    "\n",
    "A *null distribution* is a distribution of statistics that we would expect to get if the null hypothesis was true; i.e., if the parameter specified in the null hypothesis was correct. When running a hypothesis test for a single proportion π, we can simulate observed statistics p̂ that are consistent with the null hypothesis by flipping coins. \n",
    "\n",
    "To generate data that is consistent with the null hypothesis, the probability of getting a \"head\" in each coin flip is given by the parameter specified in the null hypothesis. If the actual data set we have collected contains *n* values, then we can then flip the coin *n* times to simulate a \"fake data set\" that is consistent with the null hypothesis.  We can then calculate one statistic (p̂) that from this simulated fake data that is consistent with the null hypothesis. If we repeat this process many times, we can then generate a null distribution of statistics that are consistent with the null hypothesis. \n",
    "\n",
    "Let's start this process of creating a null distribution by writing a function `generate_flip_proportion_heads(num_flips, prob_heads)` that takes a number of coin flips (`num_flips`), and a probability of getting a heads on each flip (`prob_heads`), and returns a statistic (p̂) which is the proportion of heads obtained from flipping the coin `num_flips` times. To do this, the `sample_proportions(num_heads, [prob_heads, 1 - prob_heads])` function in the `datascience` package will be useful.\n",
    "\n",
    "Once you have created the `sample_proportions()` method, run it once to generate one p̂ that is consistent with the null hypothesis that Paul is just guessing.\n"
   ]
  },
  {
   "cell_type": "code",
   "execution_count": 58,
   "metadata": {},
   "outputs": [
    {
     "data": {
      "text/plain": [
       "0.07692307692307693"
      ]
     },
     "execution_count": 58,
     "metadata": {},
     "output_type": "execute_result"
    }
   ],
   "source": [
    "def generate_flip_proportion_heads(num_flips, prob_heads):\n",
    "    pass\n",
    "\n"
   ]
  },
  {
   "cell_type": "markdown",
   "metadata": {},
   "source": [
    "## 1.3b: Create the null distribution\n",
    "\n",
    "Now that you have a function to create a statistic consistent with the null hypothesis, use a for loop to create a null distribution that has 10,000 points in it. Then visualize this null distribution as a histogram.\n",
    "\n"
   ]
  },
  {
   "cell_type": "code",
   "execution_count": 3,
   "metadata": {},
   "outputs": [],
   "source": [
    "null_distribution = make_array()\n",
    "\n",
    "\n"
   ]
  },
  {
   "cell_type": "markdown",
   "metadata": {},
   "source": [
    "## 1.4: Calculate the p-value\n",
    "\n",
    "Now that you have a null distribution, calculate the p-value which is the proportion of points in the null distribution that are as great or greater than the observed statistic (`paul_stat`). To do this, the `np.count_nonzero()` function will be useful.\n",
    "\n",
    "\n"
   ]
  },
  {
   "cell_type": "code",
   "execution_count": null,
   "metadata": {},
   "outputs": [],
   "source": [
    "\n"
   ]
  },
  {
   "cell_type": "markdown",
   "metadata": {},
   "source": [
    "## 1.5: Make a decision\n",
    "\n",
    "Based on the results you have, is Paul psychic? \n",
    "\n"
   ]
  },
  {
   "cell_type": "markdown",
   "metadata": {},
   "source": [
    "# Part 2: Hypothesis test for comparing two means\n",
    "\n",
    "Let's now run a hypothesis test for comparing two means. Like all hypothesis test, this hypothesis test has the same logic, and can be run using the 5-step procedure, that we have discussed. However where we are trying to assess whether two parameters μ1 and μ2 are equal based on two observed statistics x̅1 and x̅2.\n",
    "\n",
    "\n",
    "\n",
    "## Hypothesis test to examine whether baseball games have gotten longer\n",
    "\n",
    "Let's examine whether the average length of baseball games have gotten longer. To do this we will compare the length of baseball games in 1964 to the length of baseball games in 2014. \n",
    "\n",
    "The code below loads data that has the length of baseball games. Please create a name `game_info2` that reduce this data table to only have columns that contain the year, and the length of the games in minutes, and only contains rows for the years 1964 and 2014.\n",
    "\n"
   ]
  },
  {
   "cell_type": "code",
   "execution_count": 4,
   "metadata": {},
   "outputs": [
    {
     "name": "stderr",
     "output_type": "stream",
     "text": [
      "C:\\ProgramData\\Anaconda3\\lib\\site-packages\\IPython\\core\\interactiveshell.py:3057: DtypeWarning: Columns (12,13,14,15,19,20,81,83,85,87,93,94,95,96,97,98,99,100,105,106,108,109,111,112,114,115,117,118,120,121,123,124,126,127,129,130,132,133,135,136,138,139,141,142,144,145,147,148,150,151,153,154,156,157,160) have mixed types. Specify dtype option on import or set low_memory=False.\n",
      "  interactivity=interactivity, compiler=compiler, result=result)\n"
     ]
    },
    {
     "data": {
      "text/html": [
       "<table border=\"1\" class=\"dataframe\">\n",
       "    <thead>\n",
       "        <tr>\n",
       "            <th>Date</th> <th>DoubleHeader</th> <th>DayOfWeek</th> <th>VisitingTeam</th> <th>VisitingTeamLeague</th> <th>VisitingTeamGameNumber</th> <th>HomeTeam</th> <th>HomeTeamLeague</th> <th>HomeTeamGameNumber</th> <th>VisitorRunsScored</th> <th>HomeRunsScore</th> <th>LengthInOuts</th> <th>DayNight</th> <th>CompletionInfo</th> <th>ForfeitInfo</th> <th>ProtestInfo</th> <th>ParkID</th> <th>Attendence</th> <th>Duration</th> <th>VisitorLineScore</th> <th>HomeLineScore</th> <th>VisitorAB</th> <th>VisitorH</th> <th>VisitorD</th> <th>VisitorT</th> <th>VisitorHR</th> <th>VisitorRBI</th> <th>VisitorSH</th> <th>VisitorSF</th> <th>VisitorHBP</th> <th>VisitorBB</th> <th>VisitorIBB</th> <th>VisitorK</th> <th>VisitorSB</th> <th>VisitorCS</th> <th>VisitorGDP</th> <th>VisitorCI</th> <th>VisitorLOB</th> <th>VisitorPitchers</th> <th>VisitorER</th> <th>VisitorTER</th> <th>VisitorWP</th> <th>VisitorBalks</th> <th>VisitorPO</th> <th>VisitorA</th> <th>VisitorE</th> <th>VisitorPassed</th> <th>VisitorDB</th> <th>VisitorTP</th> <th>HomeAB</th> <th>HomeH</th> <th>HomeD</th> <th>HomeT</th> <th>HomeHR</th> <th>HomeRBI</th> <th>HomeSH</th> <th>HomeSF</th> <th>HomeHBP</th> <th>HomeBB</th> <th>HomeIBB</th> <th>HomeK</th> <th>HomeSB</th> <th>HomeCS</th> <th>HomeGDP</th> <th>HomeCI</th> <th>HomeLOB</th> <th>HomePitchers</th> <th>HomeER</th> <th>HomeTER</th> <th>HomeWP</th> <th>HomeBalks</th> <th>HomePO</th> <th>HomeA</th> <th>HomeE</th> <th>HomePassed</th> <th>HomeDB</th> <th>HomeTP</th> <th>UmpireHID</th> <th>UmpireHName</th> <th>Umpire1BID</th> <th>Umpire1BName</th> <th>Umpire2BID</th> <th>Umpire2BName</th> <th>Umpire3BID</th> <th>Umpire3BName</th> <th>UmpireLFID</th> <th>UmpireLFName</th> <th>UmpireRFID</th> <th>UmpireRFName</th> <th>VisitorManagerID</th> <th>VisitorManagerName</th> <th>HomeManagerID</th> <th>HomeManagerName</th> <th>WinningPitcherID</th> <th>WinningPitcherName</th> <th>LosingPitcherID</th> <th>LosingPitcherNAme</th> <th>SavingPitcherID</th> <th>SavingPitcherName</th> <th>GameWinningRBIID</th> <th>GameWinningRBIName</th> <th>VisitorStartingPitcherID</th> <th>VisitorStartingPitcherName</th> <th>HomeStartingPitcherID</th> <th>HomeStartingPitcherName</th> <th>VisitorBatting1PlayerID</th> <th>VisitorBatting1Name</th> <th>VisitorBatting1Position</th> <th>VisitorBatting2PlayerID</th> <th>VisitorBatting2Name</th> <th>VisitorBatting2Position</th> <th>VisitorBatting3PlayerID</th> <th>VisitorBatting3Name</th> <th>VisitorBatting3Position</th> <th>VisitorBatting4PlayerID</th> <th>VisitorBatting4Name</th> <th>VisitorBatting4Position</th> <th>VisitorBatting5PlayerID</th> <th>VisitorBatting5Name</th> <th>VisitorBatting5Position</th> <th>VisitorBatting6PlayerID</th> <th>VisitorBatting6Name</th> <th>VisitorBatting6Position</th> <th>VisitorBatting7PlayerID</th> <th>VisitorBatting7Name</th> <th>VisitorBatting7Position</th> <th>VisitorBatting8PlayerID</th> <th>VisitorBatting8Name</th> <th>VisitorBatting8Position</th> <th>VisitorBatting9PlayerID</th> <th>VisitorBatting9Name</th> <th>VisitorBatting9Position</th> <th>HomeBatting1PlayerID</th> <th>HomeBatting1Name</th> <th>HomeBatting1Position</th> <th>HomeBatting2PlayerID</th> <th>HomeBatting2Name</th> <th>HomeBatting2Position</th> <th>HomeBatting3PlayerID</th> <th>HomeBatting3Name</th> <th>HomeBatting3Position</th> <th>HomeBatting4PlayerID</th> <th>HomeBatting4Name</th> <th>HomeBatting4Position</th> <th>HomeBatting5PlayerID</th> <th>HomeBatting5Name</th> <th>HomeBatting5Position</th> <th>HomeBatting6PlayerID</th> <th>HomeBatting6Name</th> <th>HomeBatting6Position</th> <th>HomeBatting7PlayerID</th> <th>HomeBatting7Name</th> <th>HomeBatting7Position</th> <th>HomeBatting8PlayerID</th> <th>HomeBatting8Name</th> <th>HomeBatting8Position</th> <th>HomeBatting9PlayerID</th> <th>HomeBatting9Name</th> <th>HomeBatting9Position</th> <th>AdditionalInfo</th> <th>AcquisitionInfo</th> <th>Year</th> <th>Month</th> <th>Day</th>\n",
       "        </tr>\n",
       "    </thead>\n",
       "    <tbody>\n",
       "        <tr>\n",
       "            <td>2014-03-22</td> <td>0           </td> <td>Sat      </td> <td>LAN         </td> <td>NL                </td> <td>1                     </td> <td>ARI     </td> <td>NL            </td> <td>1                 </td> <td>3                </td> <td>1            </td> <td>54          </td> <td>N       </td> <td>nan           </td> <td>nan        </td> <td>nan        </td> <td>SYD01 </td> <td>38266     </td> <td>169     </td> <td>10200000.0      </td> <td>000001000    </td> <td>33       </td> <td>5       </td> <td>2       </td> <td>0       </td> <td>1        </td> <td>3         </td> <td>0        </td> <td>0        </td> <td>1         </td> <td>3        </td> <td>0         </td> <td>11      </td> <td>0        </td> <td>0        </td> <td>0         </td> <td>0        </td> <td>7         </td> <td>4              </td> <td>1        </td> <td>1         </td> <td>1        </td> <td>0           </td> <td>27       </td> <td>13      </td> <td>1       </td> <td>0            </td> <td>0        </td> <td>0        </td> <td>33    </td> <td>5    </td> <td>1    </td> <td>0    </td> <td>0     </td> <td>1      </td> <td>0     </td> <td>0     </td> <td>0      </td> <td>2     </td> <td>0      </td> <td>10   </td> <td>0     </td> <td>0     </td> <td>0      </td> <td>0     </td> <td>7      </td> <td>5           </td> <td>3     </td> <td>3      </td> <td>1     </td> <td>0        </td> <td>27    </td> <td>10   </td> <td>1    </td> <td>0         </td> <td>0     </td> <td>0     </td> <td>welkt901 </td> <td>Tim Welke       </td> <td>scotd901  </td> <td>Dale Scott    </td> <td>diazl901  </td> <td>Laz Diaz    </td> <td>carlm901  </td> <td>Mark Carlson</td> <td>nan       </td> <td>(none)      </td> <td>nan       </td> <td>(none)      </td> <td>mattd001        </td> <td>Don Mattingly     </td> <td>gibsk001     </td> <td>Kirk Gibson    </td> <td>kersc001        </td> <td>Clayton Kershaw   </td> <td>milew001       </td> <td>Wade Miley       </td> <td>jansk001       </td> <td>Kenley Jansen    </td> <td>ethia001        </td> <td>Andre Ethier      </td> <td>kersc001                </td> <td>Clayton Kershaw           </td> <td>milew001             </td> <td>Wade Miley             </td> <td>puigy001               </td> <td>Yasiel Puig        </td> <td>9                      </td> <td>turnj001               </td> <td>Justin Turner      </td> <td>4                      </td> <td>ramih003               </td> <td>Hanley Ramirez     </td> <td>6                      </td> <td>gonza003               </td> <td>Adrian Gonzalez    </td> <td>3                      </td> <td>vanss001               </td> <td>Scott Van Slyke    </td> <td>7                      </td> <td>uribj002               </td> <td>Juan Uribe         </td> <td>5                      </td> <td>ethia001               </td> <td>Andre Ethier       </td> <td>8                      </td> <td>ellia001               </td> <td>A.J. Ellis         </td> <td>2                      </td> <td>kersc001               </td> <td>Clayton Kershaw    </td> <td>1                      </td> <td>polla001            </td> <td>A.J. Pollock    </td> <td>8                   </td> <td>hilla001            </td> <td>Aaron Hill      </td> <td>4                   </td> <td>goldp001            </td> <td>Paul Goldschmidt</td> <td>3                   </td> <td>pradm001            </td> <td>Martin Prado    </td> <td>5                   </td> <td>trumm001            </td> <td>Mark Trumbo     </td> <td>7                   </td> <td>montm001            </td> <td>Miguel Montero  </td> <td>2                   </td> <td>owinc001            </td> <td>Chris Owings    </td> <td>6                   </td> <td>parrg001            </td> <td>Gerardo Parra   </td> <td>9                   </td> <td>milew001            </td> <td>Wade Miley      </td> <td>1                   </td> <td>nan           </td> <td>Y              </td> <td>2014</td> <td>3    </td> <td>22  </td>\n",
       "        </tr>\n",
       "        <tr>\n",
       "            <td>2014-03-23</td> <td>0           </td> <td>Sun      </td> <td>LAN         </td> <td>NL                </td> <td>2                     </td> <td>ARI     </td> <td>NL            </td> <td>2                 </td> <td>7                </td> <td>5            </td> <td>54          </td> <td>D       </td> <td>nan           </td> <td>nan        </td> <td>nan        </td> <td>SYD01 </td> <td>38079     </td> <td>241     </td> <td>102021100.0     </td> <td>000000014    </td> <td>34       </td> <td>13      </td> <td>3       </td> <td>0       </td> <td>0        </td> <td>6         </td> <td>1        </td> <td>2        </td> <td>2         </td> <td>8        </td> <td>0         </td> <td>7       </td> <td>1        </td> <td>0        </td> <td>1         </td> <td>0        </td> <td>13        </td> <td>8              </td> <td>5        </td> <td>5         </td> <td>0        </td> <td>0           </td> <td>27       </td> <td>4       </td> <td>1       </td> <td>0            </td> <td>2        </td> <td>0        </td> <td>35    </td> <td>8    </td> <td>0    </td> <td>0    </td> <td>1     </td> <td>5      </td> <td>0     </td> <td>0     </td> <td>0      </td> <td>8     </td> <td>0      </td> <td>8    </td> <td>0     </td> <td>0     </td> <td>2      </td> <td>0     </td> <td>11     </td> <td>6           </td> <td>6     </td> <td>6      </td> <td>1     </td> <td>0        </td> <td>27    </td> <td>15   </td> <td>3    </td> <td>0         </td> <td>1     </td> <td>0     </td> <td>scotd901 </td> <td>Dale Scott      </td> <td>diazl901  </td> <td>Laz Diaz      </td> <td>carlm901  </td> <td>Mark Carlson</td> <td>welkt901  </td> <td>Tim Welke   </td> <td>nan       </td> <td>(none)      </td> <td>nan       </td> <td>(none)      </td> <td>mattd001        </td> <td>Don Mattingly     </td> <td>gibsk001     </td> <td>Kirk Gibson    </td> <td>ryu-h001        </td> <td>Hyun-Jin Ryu      </td> <td>cahit001       </td> <td>Trevor Cahill    </td> <td>nan            </td> <td>(none)           </td> <td>ethia001        </td> <td>Andre Ethier      </td> <td>ryu-h001                </td> <td>Hyun-Jin Ryu              </td> <td>cahit001             </td> <td>Trevor Cahill          </td> <td>gordd002               </td> <td>Dee Gordon         </td> <td>4                      </td> <td>puigy001               </td> <td>Yasiel Puig        </td> <td>9                      </td> <td>ramih003               </td> <td>Hanley Ramirez     </td> <td>6                      </td> <td>gonza003               </td> <td>Adrian Gonzalez    </td> <td>3                      </td> <td>ethia001               </td> <td>Andre Ethier       </td> <td>8                      </td> <td>ellia001               </td> <td>A.J. Ellis         </td> <td>2                      </td> <td>baxtm001               </td> <td>Mike Baxter        </td> <td>7                      </td> <td>uribj002               </td> <td>Juan Uribe         </td> <td>5                      </td> <td>ryu-h001               </td> <td>Hyun-Jin Ryu       </td> <td>1                      </td> <td>polla001            </td> <td>A.J. Pollock    </td> <td>8                   </td> <td>hilla001            </td> <td>Aaron Hill      </td> <td>4                   </td> <td>goldp001            </td> <td>Paul Goldschmidt</td> <td>3                   </td> <td>pradm001            </td> <td>Martin Prado    </td> <td>5                   </td> <td>montm001            </td> <td>Miguel Montero  </td> <td>2                   </td> <td>trumm001            </td> <td>Mark Trumbo     </td> <td>7                   </td> <td>parrg001            </td> <td>Gerardo Parra   </td> <td>9                   </td> <td>gregd001            </td> <td>Didi Gregorius  </td> <td>6                   </td> <td>cahit001            </td> <td>Trevor Cahill   </td> <td>1                   </td> <td>nan           </td> <td>Y              </td> <td>2014</td> <td>3    </td> <td>23  </td>\n",
       "        </tr>\n",
       "        <tr>\n",
       "            <td>2014-03-30</td> <td>0           </td> <td>Sun      </td> <td>LAN         </td> <td>NL                </td> <td>3                     </td> <td>SDN     </td> <td>NL            </td> <td>1                 </td> <td>1                </td> <td>3            </td> <td>51          </td> <td>N       </td> <td>nan           </td> <td>nan        </td> <td>nan        </td> <td>SAN02 </td> <td>45567     </td> <td>169     </td> <td>10000.0         </td> <td>00000003x    </td> <td>31       </td> <td>4       </td> <td>0       </td> <td>0       </td> <td>0        </td> <td>1         </td> <td>0        </td> <td>0        </td> <td>0         </td> <td>3        </td> <td>0         </td> <td>9       </td> <td>0        </td> <td>0        </td> <td>0         </td> <td>0        </td> <td>6         </td> <td>4              </td> <td>2        </td> <td>2         </td> <td>0        </td> <td>0           </td> <td>24       </td> <td>12      </td> <td>2       </td> <td>0            </td> <td>2        </td> <td>0        </td> <td>27    </td> <td>5    </td> <td>0    </td> <td>0    </td> <td>1     </td> <td>3      </td> <td>2     </td> <td>0     </td> <td>0      </td> <td>4     </td> <td>0      </td> <td>10   </td> <td>1     </td> <td>0     </td> <td>2      </td> <td>0     </td> <td>6      </td> <td>5           </td> <td>1     </td> <td>1      </td> <td>1     </td> <td>0        </td> <td>27    </td> <td>10   </td> <td>0    </td> <td>0         </td> <td>0     </td> <td>0     </td> <td>culbf901 </td> <td>Fieldin Culbreth</td> <td>gonzm901  </td> <td>Manny Gonzalez</td> <td>reynj901  </td> <td>Jim Reynolds</td> <td>barbs901  </td> <td>Sean Barber </td> <td>nan       </td> <td>(none)      </td> <td>nan       </td> <td>(none)      </td> <td>mattd001        </td> <td>Don Mattingly     </td> <td>blacb001     </td> <td>Buddy Black    </td> <td>thayd001        </td> <td>Dale Thayer       </td> <td>wilsb001       </td> <td>Brian Wilson     </td> <td>streh001       </td> <td>Huston Street    </td> <td>denoc001        </td> <td>Chris Denorfia    </td> <td>ryu-h001                </td> <td>Hyun-Jin Ryu              </td> <td>casha001             </td> <td>Andrew Cashner         </td> <td>crawc002               </td> <td>Carl Crawford      </td> <td>7                      </td> <td>puigy001               </td> <td>Yasiel Puig        </td> <td>9                      </td> <td>ramih003               </td> <td>Hanley Ramirez     </td> <td>6                      </td> <td>gonza003               </td> <td>Adrian Gonzalez    </td> <td>3                      </td> <td>ethia001               </td> <td>Andre Ethier       </td> <td>8                      </td> <td>uribj002               </td> <td>Juan Uribe         </td> <td>5                      </td> <td>ellia001               </td> <td>A.J. Ellis         </td> <td>2                      </td> <td>gordd002               </td> <td>Dee Gordon         </td> <td>4                      </td> <td>ryu-h001               </td> <td>Hyun-Jin Ryu       </td> <td>1                      </td> <td>cabre001            </td> <td>Everth Cabrera  </td> <td>6                   </td> <td>denoc001            </td> <td>Chris Denorfia  </td> <td>9                   </td> <td>headc001            </td> <td>Chase Headley   </td> <td>5                   </td> <td>gyorj001            </td> <td>Jedd Gyorko     </td> <td>4                   </td> <td>alony001            </td> <td>Yonder Alonso   </td> <td>3                   </td> <td>medit001            </td> <td>Tommy Medica    </td> <td>7                   </td> <td>venaw001            </td> <td>Will Venable    </td> <td>8                   </td> <td>river003            </td> <td>Rene Rivera     </td> <td>2                   </td> <td>casha001            </td> <td>Andrew Cashner  </td> <td>1                   </td> <td>nan           </td> <td>Y              </td> <td>2014</td> <td>3    </td> <td>30  </td>\n",
       "        </tr>\n",
       "    </tbody>\n",
       "</table>\n",
       "<p>... (208444 rows omitted)</p>"
      ],
      "text/plain": [
       "<IPython.core.display.HTML object>"
      ]
     },
     "metadata": {},
     "output_type": "display_data"
    }
   ],
   "source": [
    "game_info = Table.from_df(pd.read_csv('https://yale.box.com/shared/static/un9xq5rm2ackorbphpuo9xvjhsg8o8r3.gz'))\n",
    "\n",
    "game_info.show(3)\n"
   ]
  },
  {
   "cell_type": "code",
   "execution_count": null,
   "metadata": {},
   "outputs": [],
   "source": [
    "\n",
    "\n",
    "\n"
   ]
  },
  {
   "cell_type": "markdown",
   "metadata": {},
   "source": [
    "## 2.1: Stating the null and alternative hypothesis \n",
    "\n",
    "Please write down the null and alternative hypotheses in symbols and words to assess whether the average length of a game is the same in 1964 and 2014.\n",
    "\n",
    "\n",
    "**Answer**\n",
    "\n",
    "In words: The null hypothesis is that on average the length of games is the same in 1964 as it is in 2014. The alternative hypothesis is that games are longer in 2014 than in 1964.\n",
    "\n",
    "In symbols we would write this as: \n",
    "\n",
    "$H_0: \\mu_{2014} = \\mu_{1964} = 0$\n",
    "\n",
    "$H_A: \\mu_{2014} > \\mu_{1964} \\ne 0$\n",
    "\n",
    "\n"
   ]
  },
  {
   "cell_type": "markdown",
   "metadata": {},
   "source": [
    "## 2.2: Calculate the statistic of interest\n",
    "\n",
    "Please calculate the observed statistic of interest and assign the value of the observed statistic to a name `obs_stat`."
   ]
  },
  {
   "cell_type": "code",
   "execution_count": null,
   "metadata": {},
   "outputs": [],
   "source": [
    "\n",
    "\n",
    "\n"
   ]
  },
  {
   "cell_type": "markdown",
   "metadata": {},
   "source": [
    "## 2.3a: Create a statistic consistent with the null distribution\n",
    "\n",
    "Now let's start by creating the null distribution by creating one point that is consistent with the null hypothesis. This can be done using the following steps:\n",
    "\n",
    "1. Use the `tb.sample(with_replacement = False)` method to create a ndarray of shuffled labels. Save this to the name `shuffled_labels`.\n",
    "2. Create an name `original_and_shuffled` that has the original data in the `game_info2` along with a new column called `Shuffled Year` that has the shuffled labels.\n",
    "3. Create a name `shuffled_group_means` that has the mean game lengths for the shuffled \"2014\" and \"1964\" data. \n",
    "4. Create a name called `obs_stat_shuff` that has one statistic that is consistent with the null hypothesis and print this statistic value.\n"
   ]
  },
  {
   "cell_type": "code",
   "execution_count": 57,
   "metadata": {},
   "outputs": [
    {
     "data": {
      "text/plain": [
       "0.8642931984875304"
      ]
     },
     "execution_count": 57,
     "metadata": {},
     "output_type": "execute_result"
    }
   ],
   "source": [
    "# shuffle the Year labels and create a table and store the results in an ndarray\n",
    "\n",
    "\n",
    "# create a table original_and_shuffled that has an additional column called 'Shuffled Label'\n",
    "\n",
    "\n",
    "# calculate the means for the shuffled \"1964\" and \"2014\" duration in a table \n",
    "\n",
    "\n",
    "# calculate the observed statistic\n",
    "\n",
    "\n"
   ]
  },
  {
   "cell_type": "markdown",
   "metadata": {},
   "source": [
    "## 2.3b: Create the null distribution\n",
    "\n",
    "Now use a for loop to create a null distribution that has 1,000 points in it. Then visualize this null distribution as a histogram.\n",
    "\n"
   ]
  },
  {
   "cell_type": "code",
   "execution_count": 6,
   "metadata": {},
   "outputs": [],
   "source": [
    "null_dist = make_array()\n",
    "\n",
    "\n",
    "\n"
   ]
  },
  {
   "cell_type": "markdown",
   "metadata": {},
   "source": [
    "## 2.4: Calculate the p-value\n",
    "\n",
    "Now that you have a null distribution, calculate the p-value which is the proportion of points in the null distribution that are as great or greater than the observed statistic (`obs_stat`). \n",
    "\n"
   ]
  },
  {
   "cell_type": "code",
   "execution_count": null,
   "metadata": {},
   "outputs": [],
   "source": [
    "\n",
    "\n"
   ]
  },
  {
   "cell_type": "markdown",
   "metadata": {},
   "source": [
    "## 2.5: Make a decision\n",
    "\n",
    "Based on the results, have baseball games gotten longer? \n",
    "\n"
   ]
  }
 ],
 "metadata": {
  "kernelspec": {
   "display_name": "Python 3",
   "language": "python",
   "name": "python3"
  },
  "language_info": {
   "codemirror_mode": {
    "name": "ipython",
    "version": 3
   },
   "file_extension": ".py",
   "mimetype": "text/x-python",
   "name": "python",
   "nbconvert_exporter": "python",
   "pygments_lexer": "ipython3",
   "version": "3.7.3"
  }
 },
 "nbformat": 4,
 "nbformat_minor": 4
}
