{
 "cells": [
  {
   "cell_type": "markdown",
   "metadata": {},
   "source": [
    "# Baseball Lab 4\n",
    "\n",
    "\n",
    "Welcome to the fourth baseball lab. We will start on part of this lab in class and the completed lab is due on Gradescope by **Monday March 8th at 11:30pm**. \n",
    "\n",
    "As always, you are welcome to work with others on the lab, but if you do work with others after class, please note on the reflection quiz who you worked with. If you have questions about the homework please use [Ed discussions](https://edstem.org/us/courses/4202/discussion/) so that everyone can benefit from your question. Additionally, please answer questions others raise on Ed discussions. Finally, please feel free to attend Neel's and my office hours for additional help. \n",
    "\n",
    "\n",
    "#### Today's Baseball Lab\n",
    "\n",
    "In today's exercises, you'll get practice:\n",
    "\n",
    "1. Using probability rules to calculate the probability of particular outcomes\n",
    "2. Simulating Big League Baseball plays in Python\n",
    "3. Using object-oriented programming to keep track of the state of a game\n",
    "\n",
    "Textbook reference: [Chapter 9](https://www.inferentialthinking.com/chapters/09/Randomness.html).  \n",
    "\n"
   ]
  },
  {
   "cell_type": "markdown",
   "metadata": {},
   "source": [
    "# Part 1: Calculating probabilities \n",
    "\n",
    "\n",
    "In the first set of exercises you will use the additive and multiplicative rules of probability to calculate the probability of particular outcomes. If you get stuck on any of these calculations, please look at the class slides and [chapter 9 of the class textbook](https://www.inferentialthinking.com/chapters/09/Randomness.html). The first 3 of these questions come from Teaching Statistics Using Baseball by Jim Albert.\n",
    "\n"
   ]
  },
  {
   "cell_type": "markdown",
   "metadata": {},
   "source": [
    "## 1.1: Big League Baseball home run probability calculations\n",
    "\n",
    "In class, we will play a couple of innings of Big League Baseball. Below are results from a computer simulation which played 1,000 games. The number of home runs hit in each game is summarized in the table below:\n",
    "\n",
    "\n",
    "|Num HR |0|1|2|3|4|5|6|7|\n",
    "|-|-|-|-|-|-|-|-|-|\n",
    "|Count| 165 | 289 | 263 | 170 | 75 | 29 |  5 | 4 |\n",
    "\n",
    "\n",
    "**Exercise 1.1 (4 points):** Please answer the following questions, and show your work in the Python section below:\n",
    "\n",
    "1. Estimate the probability that no home runs are hit in a game.\n",
    "2. Estimate the probability that between two and four home runs (inclusive) are hit.\n",
    "3. Estimate the probability that at least one home run is hit.\n",
    "4. If you play Big League Baseball, what is the most likely number of home runs that will be hit?\n",
    "\n",
    "\n",
    "**Answers**: \n",
    "\n",
    "1. \n",
    "\n",
    "2. \n",
    "\n",
    "3. \n",
    "\n",
    "4. \n"
   ]
  },
  {
   "cell_type": "code",
   "execution_count": null,
   "metadata": {},
   "outputs": [],
   "source": [
    "\n",
    "\n",
    "\n",
    "\n"
   ]
  },
  {
   "cell_type": "markdown",
   "metadata": {},
   "source": [
    "## 1.2: Probability of scoring runs depending on the number of runners\n",
    "\n",
    "Suppose you are interested in exploring the relationship between the number of runners to reach base and the runs scored in a half-inning of baseball. For 1000 games of Big League Baseball, we record for each half-inning\n",
    "\n",
    "* Runners - the total number of runners to reach base in the half-inning\n",
    "\n",
    "* Runs - the number of runs scored.\n",
    "\n",
    "The table below classifies 18,200 half-innings with respect to Runners and Runs\n",
    "\n",
    "\n",
    "\n",
    " []()     | 0 Runs | 1 Run  | 2 Runs | 3 Runs | 4 Runs | 5 Runs | 6 Runs | > 6 Runs | Sum       \n",
    "------------|:------:|:------:|:------:|:------:|:------:|:------:|:------:|:--------:|:----:\n",
    "0 Runners   |  5481  |    0   |    0   |    0   |    0   |    0   |    0   |    0     | 5481 \n",
    "1 Runner    |  5441  |   539  |    0   |    0   |    0   |    0   |    0   |    0     | 5980\n",
    "2 Runners   |  2408  |   896  |   244  |    0   |    0   |    0   |    0   |    0     | 3548\n",
    "3 Runners   |   463  |   778  |   434  |   108  |    0   |    0   |    0   |    0     | 1783\n",
    "4 Runners   |   13   |   215  |   369  |   176  |    52  |    0   |    0   |    0     |  825\n",
    "5 Runners   |   0    |    3   |    81  |   159  |    71  |   19   |    0   |    0     |  333\n",
    "6 Runners   |   0    |    0   |    1   |    35  |    66  |   35   |   11   |    0     |  148\n",
    "7 Runners   |   0    |    0   |    0   |    0   |    15  |   32   |   14   |    2     |   63\n",
    "8 Runners   |   0    |    0   |    0   |    0   |    0   |    6   |   11   |    6     |   23 \n",
    "9 Runners   |   0    |    0   |    0   |    0   |    0   |    0   |    3   |    4     |    7\n",
    "10 Runners  |   0    |    0   |    0   |    0   |    0   |    0   |    0   |    6     |    6\n",
    "11 Runners  |   0    |    0   |    0   |    0   |    0   |    0   |    0   |    3     |    3\n",
    "Sum         | 13806  |  2431  | 1129   |   478  |   204  |   92   |   39   |    21    | 18200\n",
    "\n",
    "\n",
    "\n",
    "**Exercise 1.2 (4 points):** Please answer the following questions and show your work in the Python section below:\n",
    "\n",
    "1. Estimate the probability that there are no runners on base in a particular half-inning.\n",
    "\n",
    "2. Estimate the probability that a team doesn’t score any runs during their at-bat (i.e., in a half-inning)\n",
    "\n",
    "3. Suppose that a team has one runner on base during their half-inning – what is a probability estimate that the runner scores?\n",
    "\n",
    "4. Suppose a team has three runners on base during their half-inning - what is a probability estimate that at least one run is scored?\n",
    "\n",
    "\n",
    "\n",
    "**Answers:**\n",
    "\n",
    "1.  \n",
    "\n",
    "2.  \n",
    "\n",
    "3.  \n",
    "\n",
    "4. \n",
    "\n"
   ]
  },
  {
   "cell_type": "code",
   "execution_count": 15,
   "metadata": {},
   "outputs": [],
   "source": [
    "# 1. The probability that there are no runners on base in a 1/2 inning:\n",
    "\n",
    "\n",
    "# 2. The probability that a team does not score any runs in an at-bat is:\n",
    "\n",
    "\n",
    "# 3.  If a team has one runner on base in a 1/2 inning, the probability they score is:\n",
    "\n",
    "\n",
    "# 4. If a team has three runners on base, the probability that at least one run is scored is\n"
   ]
  },
  {
   "cell_type": "markdown",
   "metadata": {},
   "source": [
    "## 1.3: Comparing real data to Big League Baseball simulations\n",
    "\n",
    "For ten consecutive games played by the Phillies in 1999, the number of runners and the number of runs scored are recorded for each half-inning. The table below classifies all half-innings by Runs and Runners.\n",
    "\n",
    " []()     | 0 Runs | 1 Run  | 2 Runs | 3 Runs | 4 Runs | 5 Runs | 8 Runs |   Sum       \n",
    "------------|:------:|:------:|:------:|:------:|:------:|:------:|:------:|:--------:\n",
    "0 Runners   |   57   |    0   |    0   |    0   |    0   |    0   |    0   |    57     \n",
    "1 Runner    |   46   |    5   |    0   |    0   |    0   |    0   |    0   |    51     \n",
    "2 Runners   |   17   |   12   |    5   |    0   |    0   |    0   |    0   |    34     \n",
    "3 Runners   |    3   |    5   |    9   |    0   |    0   |    0   |    0   |    17     \n",
    "4 Runners   |    0   |    1   |    6   |    1   |    0   |    0   |    0   |    8     \n",
    "5 Runners   |    0   |    0   |    1   |    1   |    0   |    2   |    0   |    5     \n",
    "6 Runners   |    0   |    0   |    0   |    1   |    1   |    1   |    0   |    2     \n",
    "7 Runners   |    0   |    0   |    0   |    0   |    0   |    0   |    0   |    1     \n",
    "10 Runners  |    0   |    0   |    0   |    0   |    1   |    0   |    1   |    1     \n",
    "Sum         |   123  |   23   |   21   |    3   |    2   |    3   |    1   |    176    \n",
    "\n",
    "\n",
    "**Exercise 1.3 (5 points):**  Please answer the following questions and show your work in the Python section below:\n",
    "\n",
    "1.  Compute the same probability estimates asked in parts 1-4 of the exercise 2 above.\n",
    "\n",
    "2. Compare your answers with those of the previous exercise 2 above. Are the results from the game of Big League Baseball similar to those from real baseball? \n",
    "\n",
    "**Answers**:\n",
    "\n",
    "\n",
    "\n",
    "\n"
   ]
  },
  {
   "cell_type": "code",
   "execution_count": 2,
   "metadata": {},
   "outputs": [],
   "source": [
    "# 1. The probability that the 1999 Phillies had no runners on base in a 1/2 inning:\n",
    "\n",
    "\n",
    "# 2. The probability that the 1999 Phillies did not score any runs in an at bat was:\n",
    "\n",
    "\n",
    "# 3. If the 1999 Phillies had one runner on base in a 1/2 inning, the probability they scored was: \n",
    "\n",
    "\n",
    "# 4. When the 1999 Phillies had three runners on base, the probability that they scored at least one run is:\n",
    "\n"
   ]
  },
  {
   "cell_type": "markdown",
   "metadata": {},
   "source": [
    "# Part 2: Simulating Big League Baseball events\n",
    "\n",
    "In the next set of exercises, we will write a function that generates plays that are consistent with the probability tables used in Big League Baseball. \n",
    "\n",
    "\n",
    "## 2.1: Generating balls, strikes and in-play events\n",
    "\n",
    "Let's start by writing a function called `generate_blb_play_simple(verbose = True)` that generates outcomes consistent with rolling the first die in Big League Baseball. In particular, the function should have the following behavor:\n",
    "\n",
    "1. It returns the word \"ball\" if a 2 or 3 is rolled on a simulated die\n",
    "\n",
    "2. It returns the word \"strike\" if a 4 or 5 is rolled on a simulated die\n",
    "\n",
    "3. It returns the word \"in-play\" if a 1 or 6 is rolled on a simulated die\n",
    "\n",
    "The function should also take an optional boolean argument called `verbose` which by default should be set to `True`. If the verbose argument is `True`, then the number rolled on the die should be printed. For example, if a 6 was rolled on the die, then the function should print the number 6, and return the string \"in-play\"\n",
    "\n",
    "Hints: \n",
    "\n",
    "1. See textbook [chapter 9.1](https://www.inferentialthinking.com/chapters/09/1/Conditional_Statements.html) for how to generate simulated die rolls\n",
    "\n",
    "2. If there are two conditions A and B, and you want to test whether either A = x or B = y, you can use the syntax: `if (A == x) or (B == y):`\n",
    "\n",
    "\n",
    "**Exercise 2.1 (7 points):** Please write the function described above. Once it is written, run it three times with the verbose flag set to `True` in order to print out the output so that we can see that it seems to be working.\n"
   ]
  },
  {
   "cell_type": "code",
   "execution_count": 1,
   "metadata": {},
   "outputs": [],
   "source": [
    "import numpy as np\n",
    "\n",
    "def generate_blb_play_simple(verbose = True): \n",
    "    \n",
    "    pass\n",
    "\n"
   ]
  },
  {
   "cell_type": "markdown",
   "metadata": {},
   "source": [
    "## 2.2: Creating a dictionary to lookup in-play events\n",
    "\n",
    "As we discussed in class, for balls that are hit in-play, two additional die are rolled and the following table gives the outcome of the play based on the roll of the two dice:\n",
    "\n",
    "\n",
    "|[]()  |\t1\t| 2| \t3 | \t4\t| 5\t | 6|\n",
    "|-|-|-|-|-|-|-|\n",
    "|1|\tSingle|\tOut|\tOut|\tOut|\tOut|\tError|\n",
    "|2|\tOut|\tDouble|\tSingle|\tOut|\tSingle|\tOut|\n",
    "|3|\tOut|\tSingle|\tTriple|\tOut|\tOut|\tOut|\n",
    "|4|\tOut|\tOut|\tOut|\tOut|\tOut|\tOut|\n",
    "|5|\tOut|\tSingle|\tOut|\tOut|\tOut|\tSingle|\n",
    "|6|\tError|\tOut|\tOut|\tOut|\tSingle|\tHome run|\n",
    "\n",
    "\n",
    "In order to be able to look up the value of a play, it will be convenient to store information from the table above in a Python data structure called a dictionary. The way a dictonary works is that you give the dictionary a \"key\" and the dictionary returns a \"value\". \n",
    "\n",
    "Below we will create a dictionary called `play_dictionary` which lists all the values for in-play events that are not outs. To create this dictionary, we will start with an empty dictionary using the syntax: `play_dictionary = {}`. \n",
    "\n",
    "We will then create \"keys\" for this dictionary which will be pairs of dice roll values, and the returned \"value\" will be the in-play event outcome. We can do this using the syntax:  `play_dictionary[(die_one, die_two)] = 'outcome'`. \n",
    "\n",
    "**Exercise 2.2 (6 points):** The code below has the dictionary entries for when the first die roll is a 1 and the second die roll is a 1, and for when the first die roll is a 1 and the second die roll is a 6. Please complete the dictionary for all events that are not outs, and test that it works by accessing and printing the values in the following cases: \n",
    "\n",
    "1. The first die roll is a 3 and the second die roll is a 2\n",
    "\n",
    "2. The first die roll is a 6 and the second die roll is a 1\n"
   ]
  },
  {
   "cell_type": "code",
   "execution_count": 11,
   "metadata": {},
   "outputs": [
    {
     "name": "stdout",
     "output_type": "stream",
     "text": [
      "single\n",
      "error\n"
     ]
    }
   ],
   "source": [
    "\n",
    "play_dictionary = {}\n",
    "play_dictionary[(1, 1)] = 'single'\n",
    "play_dictionary[(1, 6)] = 'error'\n",
    "\n",
    "# continue on here...\n",
    "\n",
    "\n"
   ]
  },
  {
   "cell_type": "markdown",
   "metadata": {},
   "source": [
    "## 2.3: Creating a function that displays values of in-play events\n",
    "\n",
    "Let's now create a function called `in_play_outcome(die_one, die_two)` that uses the `play_dictionary` to return the value for in-play events depending on the values of the rolls of the two dice. Because we didn't list the plays that are \"outs\" in our dictionary, we will first have to check whether a given pair of die rolls is a key in our `play_dictionary`. If a pair of rolls is not a key in our dictionary, we will need to return the string \"out\". Otherwise we will need to return the value in the dictionary. \n",
    "\n",
    "We can get all the keys in our dictionary using the syntax `the_keys = play_dictionary.keys()`. We can then use the following syntax to test if a pair of die rolls is in the keys in our dictionary: `((die_one, die_two) in the_keys))` which returns `True` if the pair `(die_one, die_two)` is one of the keys in our dictionary.\n",
    "\n",
    "**Exercise 2.3 (7 points):** Using the information described above, create the function `in_play_outcome(die_one, die_two)` that returns a string indicating what happened on a play based on the value of the dice. Show that it works by printing the values returned with the calls: \n",
    "\n",
    "1. `in_play_outcome(1, 3)`\n",
    "2. `in_play_outcome(1, 6)`\n"
   ]
  },
  {
   "cell_type": "code",
   "execution_count": 4,
   "metadata": {},
   "outputs": [],
   "source": [
    "def in_play_outcome(die_one, die_two):\n",
    "    \n",
    "    pass\n",
    "\n",
    "\n",
    "\n"
   ]
  },
  {
   "cell_type": "markdown",
   "metadata": {},
   "source": [
    "## 2.4: Creating the full Big League Baseball event simulation\n",
    "\n",
    "Now let's write a function called `generate_blb_play(verbose = True)` which will run a full simulation of one pitch. \n",
    "\n",
    "**Exercise 2.4 (9 points):** To start this function, copy over the function `generate_blb_play_simple` you created above, and then replace the in-play part of the code with the code to generate a random event for when the ball is hit in-play. Once you have the function written, generate and print the verbose output of 5 calls to this function to show that it is working. \n",
    "\n",
    "Hint: For displaying the full sequence of dice rolls when the verbose flag is `True`, you can build up the string piece by piece. For example, we can combine the first die roll with the second die roll using: `str(first_roll) + ' ' + str(second_roll_die_one)`\n"
   ]
  },
  {
   "cell_type": "code",
   "execution_count": 5,
   "metadata": {},
   "outputs": [],
   "source": [
    "def generate_blb_play(verbose = True): \n",
    "    \n",
    "    pass\n",
    "\n",
    "\n",
    "\n"
   ]
  },
  {
   "cell_type": "markdown",
   "metadata": {},
   "source": [
    "# Part 3: Using object-oriented programming to keep track of the game\n",
    "\n",
    "In the exercise above, you have written a function that generates the outcome from one pitch of Big League Baseball. You can use this function to then simulate a full baseball game. However to do so you will need to keep track of the state of the game; i.e., what the score is, how many outs there are, etc. In the following exercise we will use the object-oriented programming (OOP) paradigm to do this!\n",
    "\n",
    "In the exercises below you will create a `Baseball_Game` object which will hold the state of the game, and can be updated by calling functions (methods) on the object. You will start working on this code in class and if you would like a challenge you can complete the `Baseball_Game` object at home.  Alternatively, you can use a complete `Baseball_Game` object I have written and continue with exercise 4 below.\n"
   ]
  },
  {
   "cell_type": "markdown",
   "metadata": {},
   "source": [
    "## 3.1: Defining what captures the state of a baseball game\n",
    "\n",
    "\n",
    "**Exercise 3.1 (3 points):** To start these exercises, please list the features that uniquely define the state of a game of Big League Baseball. \n",
    "\n",
    "**Answer**: \n",
    "\n",
    "The features that define the state of a baseball game are: \n",
    "\n",
    "1. \n",
    "\n",
    "2. \n",
    "\n",
    "3. \n",
    "\n",
    "4. \n",
    "\n",
    "5. \n",
    "\n",
    "6. \n",
    "\n",
    "7. \n",
    "\n",
    "...\n",
    "\n"
   ]
  },
  {
   "cell_type": "markdown",
   "metadata": {},
   "source": [
    "## 3.2: Constructing an object\n",
    "\n",
    "As discussed above, we will use object-oriented programming (OOP) paradigm to keep track of the state of the game. A \"object\" is a collection of data, along with functions that operate on the data; the functions that are attached to an object are called \"methods\". We have used several objects in this class such as the `Table()` object from the `datascience` which has methods such as `tb.where()` and `tb.select()`. We will not write our own object!  \n",
    "\n",
    "For the purpose of keeping track of the state of a baseball game, the data in our object will be the state variables that you defined above in exercise 3.1, and the methods will be operations that update the state of the game based on events that happen. For example, we could write a method called `add_strike()` that adds a strike to the state of the game. \n",
    "\n",
    "In order to create an object that can hold the state of a game, we need to create a 'constructor' method that initializes the state of the game. This initialization is done by having the object hold particular variables using the syntax `self.variable_name`. For example, to store the the fact that baseball games start in the first inning we can use the syntax `self.inning = 1`. We can then update the object by calling methods on the object once it has been constructed. \n",
    "\n",
    "A constructor in Python defined in a method that is called `__init__()`. Below is the beginning of the class definition for the `Baseball_Game` object and its constructor. \n",
    "\n",
    "**Exercise 3.2 (5 points):** Please complete the constructor by adding variables that define the state of the game and setting their values to what would be appropriate at the start of the game. \n"
   ]
  },
  {
   "cell_type": "code",
   "execution_count": 13,
   "metadata": {},
   "outputs": [],
   "source": [
    "class Baseball_Game:\n",
    "    \n",
    "    # Constructor\n",
    "    def __init__(self): \n",
    "\n",
    "        self.end_of_game = False\n",
    "        self.inning = 1\n",
    "        self.top_of_inning = True\n",
    "        \n",
    "        # continue here \n",
    "\n"
   ]
  },
  {
   "cell_type": "markdown",
   "metadata": {},
   "source": [
    "## 3.3:  Creating an object\n",
    "\n",
    "The code you wrote above defines what a baseball game `Baseball_Game` object consists of. In order to actually create a new baseball game object, you need to call the constructor method. We can do this using the code: `my_game = Baseball_Game()`. \n",
    "\n",
    "**Exercise 3.3 (3 points):** Try creating a new Baseball_Game object below and print it. The printed results are not yet very useful, right? \n",
    "\n",
    "You can also access the stored variables in the object using the syntax `object_name.variable_name`. For example, we can access the current inning using `my_game.inning`. Try to also print whether it is the top of the inning. \n",
    "\n"
   ]
  },
  {
   "cell_type": "code",
   "execution_count": null,
   "metadata": {},
   "outputs": [],
   "source": [
    "\n",
    "\n",
    "\n",
    "\n"
   ]
  },
  {
   "cell_type": "markdown",
   "metadata": {},
   "source": [
    "## 3.4:  Writing a method to print the state of the game\n",
    "\n",
    "In order to make this object useful, we will need a way to print the actual state of the game. The method `__str__()` is a \"magic\" method that is used to return a character string representation of the object. This magic method is called by Python every time the `print()` function is called on the object. \n",
    "\n",
    "**Exercise 3.4 (8 points):** The code below starts to define the `__str__` method. Right now it prints the inning number and whether it is the top or the bottom of the inning. Please try to complete this method by printing the full state of the baseball game. For example, this method should print something like: \n",
    "\n",
    "`bottom of the 1st\n",
    "bases empty\n",
    "etc.`\n",
    "\n",
    "Hint: Build up this string piece by piece (as you did in exercise 2.4) is a good idea. Additionally, if you include a \"\\n\" in your string this will add a new line to the string to put the diffent components of the state of the game on different lines.  \n"
   ]
  },
  {
   "cell_type": "code",
   "execution_count": 14,
   "metadata": {},
   "outputs": [
    {
     "name": "stdout",
     "output_type": "stream",
     "text": [
      "top of the 1st\n",
      "\n"
     ]
    }
   ],
   "source": [
    "class Baseball_Game:\n",
    "    \n",
    "    # Constructor\n",
    "    def __init__(self): \n",
    "\n",
    "        self.inning = 1\n",
    "        self.top_of_inning = True\n",
    "        # fill this in...   \n",
    "\n",
    "    # returns a string to print the game state\n",
    "    def __str__(self):\n",
    "        \n",
    "        if self.top_of_inning:\n",
    "            top_bottom_inning_name = \"top\"\n",
    "        else:\n",
    "            top_bottom_inning_name = \"bottom\"\n",
    "\n",
    "        if self.inning == 1:\n",
    "            inning_suffix = \"st\"\n",
    "        elif self.inning == 2:\n",
    "            inning_suffix = \"nd\"\n",
    "        elif self.inning == 3:\n",
    "            inning_suffix = \"rd\"\n",
    "        else:\n",
    "            inning_suffix = \"th\"\n",
    "        \n",
    "        inning_string = \"{} of the {}{}\\n\".format(top_bottom_inning_name, self.inning, inning_suffix)\n",
    "            \n",
    "        \n",
    "        # add code that builds a complete string that specifies the full state of the game\n",
    "        \n",
    "        game_state_string = inning_string   #  + \n",
    "\n",
    "        \n",
    "        return(game_state_string)\n",
    "        \n",
    "              \n",
    "\n",
    "my_game = Baseball_Game()\n",
    "\n",
    "print(my_game)        \n",
    "\n",
    "        \n",
    "        "
   ]
  },
  {
   "cell_type": "markdown",
   "metadata": {},
   "source": [
    "## 3.5: Adding runs to the game\n",
    "\n",
    "Let's now begin to create methods that will update the state of the game. Let's start with the `add_runs(self, num_runs = 1):` which will add runs to the team that is batting. The code below shows where this method should be added. \n",
    "\n",
    "**Exercise 3.5 (6 points):** Please complete the code below with all the relevant `Baseball_Game` code you have written so far. \n",
    "\n"
   ]
  },
  {
   "cell_type": "code",
   "execution_count": 11,
   "metadata": {},
   "outputs": [
    {
     "name": "stdout",
     "output_type": "stream",
     "text": [
      "top of the 1st\n",
      "\n"
     ]
    }
   ],
   "source": [
    "class Baseball_Game:\n",
    "    \n",
    "    # Constructor\n",
    "    def __init__(self): \n",
    "\n",
    "        self.inning = 1\n",
    "        self.top_of_inning = True\n",
    "   \n",
    "\n",
    "    # returns a string to print the game state\n",
    "    def __str__(self):\n",
    "        \n",
    "        if self.top_of_inning:\n",
    "            top_bottom_inning_name = \"top\"\n",
    "        else:\n",
    "            top_bottom_inning_name = \"bottom\"\n",
    "\n",
    "        if self.inning == 1:\n",
    "            inning_suffix = \"st\"\n",
    "        elif self.inning == 2:\n",
    "            inning_suffix = \"nd\"\n",
    "        elif self.inning == 3:\n",
    "            inning_suffix = \"rd\"\n",
    "        else:\n",
    "            inning_suffix = \"th\"\n",
    "        \n",
    "        inning_string = \"{} of the {}{}\\n\".format(top_bottom_inning_name, self.inning, inning_suffix)\n",
    "            \n",
    "        \n",
    "        # add code that builds a complete string that specifies the full state of the game\n",
    "        \n",
    "        game_state_string = inning_string   #  + \n",
    "\n",
    "        \n",
    "        return(game_state_string)\n",
    "     \n",
    "        \n",
    "        \n",
    "        \n",
    "    # method to add runs to the state of the game\n",
    "    def add_runs(self, num_runs = 1):\n",
    "\n",
    "        # add code to update the runs for the team that is batting\n",
    "        pass\n",
    "  \n",
    "\n",
    "\n",
    "\n",
    "\n",
    "# create an instance of the object and print it to test if the __str__ method is working correctly\n",
    "my_game = Baseball_Game()\n",
    "\n",
    "print(my_game)        \n",
    "\n",
    "\n",
    "\n"
   ]
  },
  {
   "cell_type": "markdown",
   "metadata": {},
   "source": [
    "## 3.6: Adding more methods that update the state of the game\n",
    "\n",
    "Let's now complete the object by adding the following methods: \n",
    "\n",
    "1. `update_half_inning(self):` If it is currently the top of the inning, this method should make it the bottom of the inning. If it is the bottom of the inning, this method should make it the top of the inning and increase the inning count. The method should also reset ball, strikes, base runners, etc. Finally, it should check to see if the game has ended and update the  `end_of_game` flag if the game has ended. \n",
    "\n",
    "\n",
    "2. `add_outs(self, num_outs = 1):` Should add outs to the current state of the game. It should then check if the outs are greater than 2, and if so it should call the `update_half_inning(self):` method. \n",
    "\n",
    "\n",
    "3. `add_runner_on_first(self):` Should add a runner on first and advance other runners one base. It should update the score if a run has scored. \n",
    "\n",
    "\n",
    "4. `add_strike(self):` and `add_ball(self):` Should add balls and strikes. If a walk has occurred it should add a runner on first. If three strikes have occurred it should call the `add_outs` method. \n",
    "\n",
    "\n",
    "5. `add_single(self)`: This should add a single. All base runners advance by one base.\n",
    "\n",
    "\n",
    "6. `add_double(self):`, This should add a double. All base runners advance by two bases.\n",
    "\n",
    "\n",
    "7. `add_triple(self):` and `add_home_run(self):` This should add a triple or home run. All runners on base should score with these events. \n",
    "\n",
    "\n",
    "**Exercise 3.6 (10 points):** Please add all the methods described above.  Once you have created the full Baseball_Game object you can use the add the special method `%%writefile baseball_game.py` which will write the object to a file called `baseball_game.py`. We can then load this object as a module and use it in part 4. Alternatively, if you are finding writing this object too difficult, you can use the `Baseball_Game object` I have written to complete part 4.\n"
   ]
  },
  {
   "cell_type": "code",
   "execution_count": 10,
   "metadata": {},
   "outputs": [],
   "source": [
    "# once you have written the complete Baseball_Game you can uncomment the line below to print it to a file called baseball_game.py\n",
    "# We can then load the file as a module to use this object in the baseball game simulation.\n",
    "# %%writefile baseball_game.py\n",
    "\n",
    "class Baseball_Game:\n",
    "    \n",
    "    # Constructor\n",
    "    def __init__(self): \n",
    "\n",
    "        self.end_of_game = False\n",
    "        self.inning = 1\n",
    "        \n",
    "        # continue...\n",
    "        \n",
    "    \n",
    "    # for printing the game state\n",
    "    def __str__(self):\n",
    "        \n",
    "        pass\n",
    "        # continue...\n",
    "\n"
   ]
  },
  {
   "cell_type": "markdown",
   "metadata": {},
   "source": [
    "# Part 4: Running complete game simulations\n",
    "\n",
    "Now that we have the `Baseball_Game` object that stores the state of the game, and the `generate_blb_play()` function, we can run a full simulation of a baseball game! \n",
    "\n",
    "\n",
    "\n"
   ]
  },
  {
   "cell_type": "markdown",
   "metadata": {},
   "source": [
    "## 4.1: Running a simulation of a game\n",
    "\n",
    "To run the full simulation we will use a `while loop` that will run until the end of the baseball game is reached (i.e., `my_game.end_of_game = True`). Inside the loop we will do the following:\n",
    "\n",
    "1. Use the `generate_blb_play(verbose = False)` function to generate a play and store it in the name `curr_event`\n",
    "\n",
    "2. Append the event string that was generated to the `all_events` list to have a record of all the events that were generated\n",
    "\n",
    "3. Use a series of if/elif statements to update the Baseball_Game object with each type of event that could occur by calling the appropriate method on the Baseball_Game object.\n",
    "\n",
    "**Exercise 4.1 (10 points):** The code begins begins the process for you. Please complete it to run a full game. After the game is over, print all the events that occurred in the game and the final state (i.e., the score). \n"
   ]
  },
  {
   "cell_type": "code",
   "execution_count": 9,
   "metadata": {},
   "outputs": [],
   "source": [
    "# set the random seed so the same \"random\" game is generated each time\n",
    "np.random.seed(173)\n",
    "\n",
    "import baseball_game as game\n",
    "my_game = game.Baseball_Game()\n",
    "\n",
    "\n",
    "\n",
    "all_events = []\n",
    "\n",
    "while (not my_game.end_of_game):\n",
    "\n",
    "    # delete this break and continue here...\n",
    "    break\n",
    "\n",
    "\n"
   ]
  },
  {
   "cell_type": "markdown",
   "metadata": {},
   "source": [
    "## 4.2: Computing simulated probabilities\n",
    "\n",
    "Let's now calculate the proportion of times that events occured in our simulated game. \n",
    "\n",
    "\n",
    "**Exercise 4.2 (5 points):** Please answer the following questions and show your work in the code section below: \n",
    "\n",
    "1. What is the observed proportion of strikes that occured?\n",
    "\n",
    "2. What is the observed proportion of singles that occured?\n",
    "\n",
    "Hint: When using a list, we can use the method `my_list.count(\"item_name\")` to count how many strings equal to \"item_name\" are in our list. We can also get the number of items in the list using the function `len(my_list)`\n",
    "\n",
    "\n",
    "**Answers**\n",
    "\n",
    "\n"
   ]
  },
  {
   "cell_type": "code",
   "execution_count": null,
   "metadata": {},
   "outputs": [],
   "source": [
    "\n",
    "\n"
   ]
  },
  {
   "cell_type": "markdown",
   "metadata": {},
   "source": [
    "# Part 5: Quote and reaction to Astroball chapter 4 (5 points)\n",
    "\n",
    "Please find an interesting quote from chapter 4 of Astroball and then write a ~one paragraph reaction to the quote below.\n",
    "\n",
    "Quote: \n",
    "\n",
    "Reaction: \n",
    "\n"
   ]
  },
  {
   "cell_type": "markdown",
   "metadata": {},
   "source": [
    "# Part 6. Reflection (3 points)\n",
    "\n",
    "How did this lab go? Please complete the [reflection on lab 4]() which is under the quiz section on Canvas to let us know how it went and to reflect on what you learned. \n"
   ]
  }
 ],
 "metadata": {
  "anaconda-cloud": {},
  "kernelspec": {
   "display_name": "Python 3",
   "language": "python",
   "name": "python3"
  },
  "language_info": {
   "codemirror_mode": {
    "name": "ipython",
    "version": 3
   },
   "file_extension": ".py",
   "mimetype": "text/x-python",
   "name": "python",
   "nbconvert_exporter": "python",
   "pygments_lexer": "ipython3",
   "version": "3.7.3"
  }
 },
 "nbformat": 4,
 "nbformat_minor": 4
}
