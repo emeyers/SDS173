{
 "cells": [
  {
   "cell_type": "markdown",
   "metadata": {},
   "source": [
    "# Baseball Lab 1\n",
    "\n",
    "\n",
    "This is the first lab you will turn in for credit. Before we get started, here are some administrative details:\n",
    "\n",
    "- This lab is due on **Monday February 15th at 11:30pm**. Please submit your homework as a pdf to gradescope. Instructions on how to do this are below in the *submission* section.\n",
    "\n",
    "- If you have questions about the homework please use [Ed discussions](https://edstem.org/us/courses/4202/discussion/) so that everyone can benefit from your question. Additionally, please answer questions others raise on Ed discussions in order to get the class participation credit. \n",
    "\n",
    "\n",
    "####  Submission: \n",
    "\n",
    "Submit your assignment as a .pdf to Gradescope.  \n",
    "\n",
    "To produce the .pdf, please do the following in order to preserve the cell structure of the notebook:  \n",
    "1.  Go to \"File\" at the top-left of your Jupyter Notebook\n",
    "2.  Under \"Download as\", select \"HTML (.html)\"\n",
    "3.  After the .html has downloaded, open it and then select \"File\" and \"Print\" (note, you will not actually be printing)\n",
    "4.  From the Print window, select the option to save as a .pdf\n",
    "\n",
    "Instructions on how to submit your homework on gradescope can be found [here](https://gradescope-static-assets.s3.amazonaws.com/help/submitting_hw_guide.pdf) and there is also a video on how to use gradescope [here](https://www.youtube.com/watch?v=KMPoby5g_nE&feature=youtu.be).\n",
    "\n",
    "\n",
    "\n",
    "\n",
    "#### Today's Baseball Lab\n",
    "\n",
    "In today's exercises, you'll learn how to:\n",
    "\n",
    "1. Examine play-by-play retrosheet data from the 2014 all-star game.\n",
    "2. Extract season level statistics for a player of interest using the Lahman data.\n",
    "3. Create Python arrays and tables by entering data manually. \n",
    "4. Create plots and statistics to figure out what an impressive number of home runs is.\n",
    "\n",
    "\n",
    "Textbook reference:  [Chapter 4](https://www.inferentialthinking.com/chapters/04/Data_Types.html) and [Chapter 5](https://www.inferentialthinking.com/chapters/05/Sequences.html) \n"
   ]
  },
  {
   "cell_type": "markdown",
   "metadata": {},
   "source": [
    "# 1. Examining the 2014 All-Star Game\n",
    "\n",
    "In class, we will watch an inning of the 2014 [All-Star Game](https://www.youtube.com/watch?v=_QsHASKhfdU&feature=youtu.be&t=727). Let's look at the retrosheet play-by-play data from this game. If you are stuck on a question, reviewing your answers on Lab 0 might be helpful. \n",
    "\n",
    "\n",
    "## 1.1 The retrosheet play-by data\n",
    "\n",
    "The code below downloads a file that contains the retrosheet play-by-play data (we will just refer to this as the 'retrosheet data'). Details on how to interpret these event files can be found on the [retrosheet website](https://www.retrosheet.org/eventfile.htm#5). \n",
    "\n",
    "**Question 1.1 (4 points)**: How many rows and columns are in this data table? Report the answers below and print out the answer in the Python chunk below. Also, what does each row correspond to? \n",
    "\n",
    "**Answer:** "
   ]
  },
  {
   "cell_type": "code",
   "execution_count": 1,
   "metadata": {},
   "outputs": [],
   "source": [
    "from datascience import *\n",
    "\n",
    "# Load in the dataset\n",
    "retro = Table.read_table('https://raw.githubusercontent.com/emeyers/SDS173/master/data/retrosheet_allstar_game_2014.csv')  \n",
    "\n",
    "# print the number of rows and the number of columns\n",
    "\n"
   ]
  },
  {
   "cell_type": "markdown",
   "metadata": {},
   "source": [
    "## 1.2 Selecting relevant rows and columns from the retrosheet data (4 points)\n",
    "\n",
    "As you can see, the retrosheet data has many columns, some of which are more relevant than others. Using the code section below, create a table named `retro2` that only contains the columns: `INN_CT`, `BAT_HOME_ID`, `OUTS_CT`, `RESP_BAT_ID`, `PITCH_SEQ_TX`, `EVENT_TX`, and then show the first 12 rows of this table. "
   ]
  },
  {
   "cell_type": "code",
   "execution_count": 2,
   "metadata": {
    "scrolled": true
   },
   "outputs": [
    {
     "data": {
      "text/html": [
       "<table border=\"1\" class=\"dataframe\">\n",
       "    <thead>\n",
       "        <tr>\n",
       "            <th>Unnamed: 0</th> <th>GAME_ID</th> <th>AWAY_TEAM_ID</th> <th>INN_CT</th> <th>BAT_HOME_ID</th> <th>OUTS_CT</th> <th>BALLS_CT</th> <th>STRIKES_CT</th> <th>PITCH_SEQ_TX</th> <th>AWAY_SCORE_CT</th> <th>HOME_SCORE_CT</th> <th>BAT_ID</th> <th>BAT_HAND_CD</th> <th>RESP_BAT_ID</th> <th>RESP_BAT_HAND_CD</th> <th>PIT_ID</th> <th>PIT_HAND_CD</th> <th>RESP_PIT_ID</th> <th>RESP_PIT_HAND_CD</th> <th>POS2_FLD_ID</th> <th>POS3_FLD_ID</th> <th>POS4_FLD_ID</th> <th>POS5_FLD_ID</th> <th>POS6_FLD_ID</th> <th>POS7_FLD_ID</th> <th>POS8_FLD_ID</th> <th>POS9_FLD_ID</th> <th>BASE1_RUN_ID</th> <th>BASE2_RUN_ID</th> <th>BASE3_RUN_ID</th> <th>EVENT_TX</th> <th>LEADOFF_FL</th> <th>PH_FL</th> <th>BAT_FLD_CD</th> <th>BAT_LINEUP_ID</th> <th>EVENT_CD</th> <th>BAT_EVENT_FL</th> <th>AB_FL</th> <th>H_FL</th> <th>SH_FL</th> <th>SF_FL</th> <th>EVENT_OUTS_CT</th> <th>DP_FL</th> <th>TP_FL</th> <th>RBI_CT</th> <th>WP_FL</th> <th>PB_FL</th> <th>FLD_CD</th> <th>BATTEDBALL_CD</th> <th>BUNT_FL</th> <th>FOUL_FL</th> <th>BATTEDBALL_LOC_TX</th> <th>ERR_CT</th> <th>ERR1_FLD_CD</th> <th>ERR1_CD</th> <th>ERR2_FLD_CD</th> <th>ERR2_CD</th> <th>ERR3_FLD_CD</th> <th>ERR3_CD</th> <th>BAT_DEST_ID</th> <th>RUN1_DEST_ID</th> <th>RUN2_DEST_ID</th> <th>RUN3_DEST_ID</th> <th>BAT_PLAY_TX</th> <th>RUN1_PLAY_TX</th> <th>RUN2_PLAY_TX</th> <th>RUN3_PLAY_TX</th> <th>RUN1_SB_FL</th> <th>RUN2_SB_FL</th> <th>RUN3_SB_FL</th> <th>RUN1_CS_FL</th> <th>RUN2_CS_FL</th> <th>RUN3_CS_FL</th> <th>RUN1_PK_FL</th> <th>RUN2_PK_FL</th> <th>RUN3_PK_FL</th> <th>RUN1_RESP_PIT_ID</th> <th>RUN2_RESP_PIT_ID</th> <th>RUN3_RESP_PIT_ID</th> <th>GAME_NEW_FL</th> <th>GAME_END_FL</th> <th>PR_RUN1_FL</th> <th>PR_RUN2_FL</th> <th>PR_RUN3_FL</th> <th>REMOVED_FOR_PR_RUN1_ID</th> <th>REMOVED_FOR_PR_RUN2_ID</th> <th>REMOVED_FOR_PR_RUN3_ID</th> <th>REMOVED_FOR_PH_BAT_ID</th> <th>REMOVED_FOR_PH_BAT_FLD_CD</th> <th>PO1_FLD_CD</th> <th>PO2_FLD_CD</th> <th>PO3_FLD_CD</th> <th>ASS1_FLD_CD</th> <th>ASS2_FLD_CD</th> <th>ASS3_FLD_CD</th> <th>ASS4_FLD_CD</th> <th>ASS5_FLD_CD</th> <th>EVENT_ID</th>\n",
       "        </tr>\n",
       "    </thead>\n",
       "    <tbody>\n",
       "        <tr>\n",
       "            <td>1         </td> <td>ALS201407150</td> <td>NLS         </td> <td>1     </td> <td>0          </td> <td>0      </td> <td>1       </td> <td>0         </td> <td>BX          </td> <td>0            </td> <td>0            </td> <td>mccua001</td> <td>R          </td> <td>mccua001   </td> <td>R               </td> <td>hernf002</td> <td>R          </td> <td>hernf002   </td> <td>R               </td> <td>peres002   </td> <td>cabrm001   </td> <td>canor001   </td> <td>donaj001   </td> <td>jeted001   </td> <td>troum001   </td> <td>jonea003   </td> <td>bautj002   </td> <td>nan         </td> <td>nan         </td> <td>nan         </td> <td>S6/G+   </td> <td>True      </td> <td>False</td> <td>8         </td> <td>1            </td> <td>20      </td> <td>True        </td> <td>True </td> <td>1   </td> <td>False</td> <td>False</td> <td>0            </td> <td>False</td> <td>False</td> <td>0     </td> <td>False</td> <td>False</td> <td>6     </td> <td>G            </td> <td>False  </td> <td>False  </td> <td>nan              </td> <td>0     </td> <td>0          </td> <td>N      </td> <td>0          </td> <td>N      </td> <td>0          </td> <td>N      </td> <td>1          </td> <td>0           </td> <td>0           </td> <td>0           </td> <td>nan        </td> <td>nan         </td> <td>nan         </td> <td>nan         </td> <td>False     </td> <td>False     </td> <td>False     </td> <td>False     </td> <td>False     </td> <td>False     </td> <td>False     </td> <td>False     </td> <td>False     </td> <td>nan             </td> <td>nan             </td> <td>nan             </td> <td>True       </td> <td>False      </td> <td>False     </td> <td>False     </td> <td>False     </td> <td>nan                   </td> <td>nan                   </td> <td>nan                   </td> <td>nan                  </td> <td>0                        </td> <td>0         </td> <td>0         </td> <td>0         </td> <td>0          </td> <td>0          </td> <td>0          </td> <td>0          </td> <td>0          </td> <td>1       </td>\n",
       "        </tr>\n",
       "        <tr>\n",
       "            <td>2         </td> <td>ALS201407150</td> <td>NLS         </td> <td>1     </td> <td>0          </td> <td>0      </td> <td>1       </td> <td>0         </td> <td>BB          </td> <td>0            </td> <td>0            </td> <td>puigy001</td> <td>R          </td> <td>puigy001   </td> <td>R               </td> <td>hernf002</td> <td>R          </td> <td>hernf002   </td> <td>R               </td> <td>peres002   </td> <td>cabrm001   </td> <td>canor001   </td> <td>donaj001   </td> <td>jeted001   </td> <td>troum001   </td> <td>jonea003   </td> <td>bautj002   </td> <td>mccua001    </td> <td>nan         </td> <td>nan         </td> <td>WP.1-2  </td> <td>False     </td> <td>False</td> <td>9         </td> <td>2            </td> <td>9       </td> <td>False       </td> <td>False</td> <td>0   </td> <td>False</td> <td>False</td> <td>0            </td> <td>False</td> <td>False</td> <td>0     </td> <td>True </td> <td>False</td> <td>0     </td> <td>nan          </td> <td>False  </td> <td>False  </td> <td>nan              </td> <td>0     </td> <td>0          </td> <td>N      </td> <td>0          </td> <td>N      </td> <td>0          </td> <td>N      </td> <td>0          </td> <td>2           </td> <td>0           </td> <td>0           </td> <td>nan        </td> <td>nan         </td> <td>nan         </td> <td>nan         </td> <td>False     </td> <td>False     </td> <td>False     </td> <td>False     </td> <td>False     </td> <td>False     </td> <td>False     </td> <td>False     </td> <td>False     </td> <td>hernf002        </td> <td>nan             </td> <td>nan             </td> <td>False      </td> <td>False      </td> <td>False     </td> <td>False     </td> <td>False     </td> <td>nan                   </td> <td>nan                   </td> <td>nan                   </td> <td>nan                  </td> <td>0                        </td> <td>0         </td> <td>0         </td> <td>0         </td> <td>0          </td> <td>0          </td> <td>0          </td> <td>0          </td> <td>0          </td> <td>2       </td>\n",
       "        </tr>\n",
       "        <tr>\n",
       "            <td>3         </td> <td>ALS201407150</td> <td>NLS         </td> <td>1     </td> <td>0          </td> <td>0      </td> <td>2       </td> <td>2         </td> <td>BB.SFS      </td> <td>0            </td> <td>0            </td> <td>puigy001</td> <td>R          </td> <td>puigy001   </td> <td>R               </td> <td>hernf002</td> <td>R          </td> <td>hernf002   </td> <td>R               </td> <td>peres002   </td> <td>cabrm001   </td> <td>canor001   </td> <td>donaj001   </td> <td>jeted001   </td> <td>troum001   </td> <td>jonea003   </td> <td>bautj002   </td> <td>nan         </td> <td>mccua001    </td> <td>nan         </td> <td>K       </td> <td>False     </td> <td>False</td> <td>9         </td> <td>2            </td> <td>3       </td> <td>True        </td> <td>True </td> <td>0   </td> <td>False</td> <td>False</td> <td>1            </td> <td>False</td> <td>False</td> <td>0     </td> <td>False</td> <td>False</td> <td>0     </td> <td>nan          </td> <td>False  </td> <td>False  </td> <td>nan              </td> <td>0     </td> <td>0          </td> <td>N      </td> <td>0          </td> <td>N      </td> <td>0          </td> <td>N      </td> <td>0          </td> <td>0           </td> <td>2           </td> <td>0           </td> <td>2          </td> <td>nan         </td> <td>nan         </td> <td>nan         </td> <td>False     </td> <td>False     </td> <td>False     </td> <td>False     </td> <td>False     </td> <td>False     </td> <td>False     </td> <td>False     </td> <td>False     </td> <td>nan             </td> <td>hernf002        </td> <td>nan             </td> <td>False      </td> <td>False      </td> <td>False     </td> <td>False     </td> <td>False     </td> <td>nan                   </td> <td>nan                   </td> <td>nan                   </td> <td>nan                  </td> <td>0                        </td> <td>2         </td> <td>0         </td> <td>0         </td> <td>0          </td> <td>0          </td> <td>0          </td> <td>0          </td> <td>0          </td> <td>3       </td>\n",
       "        </tr>\n",
       "        <tr>\n",
       "            <td>4         </td> <td>ALS201407150</td> <td>NLS         </td> <td>1     </td> <td>0          </td> <td>1      </td> <td>1       </td> <td>2         </td> <td>C*BS>S      </td> <td>0            </td> <td>0            </td> <td>tulot001</td> <td>R          </td> <td>tulot001   </td> <td>R               </td> <td>hernf002</td> <td>R          </td> <td>hernf002   </td> <td>R               </td> <td>peres002   </td> <td>cabrm001   </td> <td>canor001   </td> <td>donaj001   </td> <td>jeted001   </td> <td>troum001   </td> <td>jonea003   </td> <td>bautj002   </td> <td>nan         </td> <td>mccua001    </td> <td>nan         </td> <td>K+SB3   </td> <td>False     </td> <td>False</td> <td>6         </td> <td>3            </td> <td>3       </td> <td>True        </td> <td>True </td> <td>0   </td> <td>False</td> <td>False</td> <td>1            </td> <td>False</td> <td>False</td> <td>0     </td> <td>False</td> <td>False</td> <td>0     </td> <td>nan          </td> <td>False  </td> <td>False  </td> <td>nan              </td> <td>0     </td> <td>0          </td> <td>N      </td> <td>0          </td> <td>N      </td> <td>0          </td> <td>N      </td> <td>0          </td> <td>0           </td> <td>3           </td> <td>0           </td> <td>2          </td> <td>nan         </td> <td>nan         </td> <td>nan         </td> <td>False     </td> <td>True      </td> <td>False     </td> <td>False     </td> <td>False     </td> <td>False     </td> <td>False     </td> <td>False     </td> <td>False     </td> <td>nan             </td> <td>hernf002        </td> <td>nan             </td> <td>False      </td> <td>False      </td> <td>False     </td> <td>False     </td> <td>False     </td> <td>nan                   </td> <td>nan                   </td> <td>nan                   </td> <td>nan                  </td> <td>0                        </td> <td>2         </td> <td>0         </td> <td>0         </td> <td>0          </td> <td>0          </td> <td>0          </td> <td>0          </td> <td>0          </td> <td>4       </td>\n",
       "        </tr>\n",
       "        <tr>\n",
       "            <td>5         </td> <td>ALS201407150</td> <td>NLS         </td> <td>1     </td> <td>0          </td> <td>2      </td> <td>1       </td> <td>1         </td> <td>BCX         </td> <td>0            </td> <td>0            </td> <td>goldp001</td> <td>R          </td> <td>goldp001   </td> <td>R               </td> <td>hernf002</td> <td>R          </td> <td>hernf002   </td> <td>R               </td> <td>peres002   </td> <td>cabrm001   </td> <td>canor001   </td> <td>donaj001   </td> <td>jeted001   </td> <td>troum001   </td> <td>jonea003   </td> <td>bautj002   </td> <td>nan         </td> <td>nan         </td> <td>mccua001    </td> <td>53/G    </td> <td>False     </td> <td>False</td> <td>3         </td> <td>4            </td> <td>2       </td> <td>True        </td> <td>True </td> <td>0   </td> <td>False</td> <td>False</td> <td>1            </td> <td>False</td> <td>False</td> <td>0     </td> <td>False</td> <td>False</td> <td>5     </td> <td>G            </td> <td>False  </td> <td>False  </td> <td>nan              </td> <td>0     </td> <td>0          </td> <td>N      </td> <td>0          </td> <td>N      </td> <td>0          </td> <td>N      </td> <td>0          </td> <td>0           </td> <td>0           </td> <td>3           </td> <td>53         </td> <td>nan         </td> <td>nan         </td> <td>nan         </td> <td>False     </td> <td>False     </td> <td>False     </td> <td>False     </td> <td>False     </td> <td>False     </td> <td>False     </td> <td>False     </td> <td>False     </td> <td>nan             </td> <td>nan             </td> <td>hernf002        </td> <td>False      </td> <td>False      </td> <td>False     </td> <td>False     </td> <td>False     </td> <td>nan                   </td> <td>nan                   </td> <td>nan                   </td> <td>nan                  </td> <td>0                        </td> <td>3         </td> <td>0         </td> <td>0         </td> <td>5          </td> <td>0          </td> <td>0          </td> <td>0          </td> <td>0          </td> <td>5       </td>\n",
       "        </tr>\n",
       "    </tbody>\n",
       "</table>\n",
       "<p>... (68 rows omitted)</p>"
      ],
      "text/plain": [
       "<IPython.core.display.HTML object>"
      ]
     },
     "metadata": {},
     "output_type": "display_data"
    }
   ],
   "source": [
    "# show all the columns\n",
    "retro.show(5)\n",
    "\n",
    "# select only the most relevant columns and then show them\n",
    "\n"
   ]
  },
  {
   "cell_type": "markdown",
   "metadata": {},
   "source": [
    "## 1.3 Decoding the meaning of the PITCH_SEQ_TX column\n",
    "\n",
    "\n",
    "The second to last out of the 2014 All-Star Game was made by Josh Harrison (RESP_BAT_ID harrj002). Use data in the `PITCH_SEQ_TX` column, and the [retrosheet code book](https://www.retrosheet.org/eventfile.htm#5) in the section titled 'The pitches field of the play record', to answer the following question. \n",
    "\n",
    "**Question 1.3 (5 points)** How did Josh Harrison make the second to last out of the game, and what was the sequence of pitches that lead to the out? Hint: you can use the `table.take(k)` method to get the $k^{th}$ row out of a Table. \n",
    "\n",
    "\n",
    "**Answer** \n",
    "\n",
    "Josh got out by...\n",
    "\n",
    "The sequences of pitches that lead to the out was: \n",
    "\n",
    "* The first pitch was a C = called strike\n",
    "* The second pitch was a B = ...\n",
    "\n"
   ]
  },
  {
   "cell_type": "code",
   "execution_count": null,
   "metadata": {},
   "outputs": [],
   "source": []
  },
  {
   "cell_type": "markdown",
   "metadata": {},
   "source": [
    "# 2. Filtering data\n",
    "\n",
    "A very important operation for data processing is to filter out (i.e., remove) rows of a data set so that we are only left with rows of interest. This is a topic that will be covered in more detail in S&DS 123 next week but we will begin to discuss it now. In particular, we will filter out data using the `table.where()` method in order to get information about the player who was on the baseball card you were given in class. \n",
    "\n",
    "\n",
    "## 2.1 Examining demographic information about baseball players\n",
    "\n",
    "The Lahman database contains a file called `People.csv` which has information about all Major League baseball players. The code below loads this data. \n",
    "\n",
    "**Question 2.1 (4 points):** How many players are in this data table (i.e., how many players have played Major League baseball from 1871 to through 2020). Also, who is the first player in the data table, what is his (Lahman) playerID, and what state was he born in? \n",
    "\n",
    "\n",
    "**Answers:** \n"
   ]
  },
  {
   "cell_type": "code",
   "execution_count": 3,
   "metadata": {},
   "outputs": [],
   "source": [
    "players = Table.read_table('https://raw.githubusercontent.com/emeyers/SDS173/master/data/People.csv')  \n",
    "\n",
    "\n"
   ]
  },
  {
   "cell_type": "markdown",
   "metadata": {},
   "source": [
    "## 2.2 Filtering out rows from a table \n",
    "\n",
    "As mentioned above, we can extract rows from a data table using the `tb.where()` method. To learn more about this method, try running the code `players.where?` to see the help string about this method. The first argument to this method is the column that should be used to determine which rows to select. The second argument is the criteria to select on. The `table.where()` method then returns a Table that only has rows that meet the filtering criteria. \n",
    "\n",
    "For example, the code below filters the players table to return all players who were born in the year 1997. \n",
    "\n",
    "**Question 2.2 (4 points):** How many players were born in Venezuela? As always, use the code section below to show your work. \n",
    "\n",
    "**Answer 2.2:** \n"
   ]
  },
  {
   "cell_type": "code",
   "execution_count": 4,
   "metadata": {},
   "outputs": [
    {
     "data": {
      "text/html": [
       "<table border=\"1\" class=\"dataframe\">\n",
       "    <thead>\n",
       "        <tr>\n",
       "            <th>playerID</th> <th>birthYear</th> <th>birthMonth</th> <th>birthDay</th> <th>birthCountry</th> <th>birthState</th> <th>birthCity</th> <th>deathYear</th> <th>deathMonth</th> <th>deathDay</th> <th>deathCountry</th> <th>deathState</th> <th>deathCity</th> <th>nameFirst</th> <th>nameLast</th> <th>nameGiven</th> <th>weight</th> <th>height</th> <th>bats</th> <th>throws</th> <th>debut</th> <th>finalGame</th> <th>retroID</th> <th>bbrefID</th>\n",
       "        </tr>\n",
       "    </thead>\n",
       "    <tbody>\n",
       "        <tr>\n",
       "            <td>abreubr01</td> <td>1997     </td> <td>4         </td> <td>22      </td> <td>D.R.        </td> <td>Distrito Nacional</td> <td>Santo Domingo  </td> <td>nan      </td> <td>nan       </td> <td>nan     </td> <td>nan         </td> <td>nan       </td> <td>nan      </td> <td>Bryan    </td> <td>Abreu   </td> <td>Bryan Enrique        </td> <td>225   </td> <td>73    </td> <td>R   </td> <td>R     </td> <td>2019-07-31</td> <td>2020-08-04</td> <td>abreb002</td> <td>abreubr01</td>\n",
       "        </tr>\n",
       "        <tr>\n",
       "            <td>acunaro01</td> <td>1997     </td> <td>12        </td> <td>18      </td> <td>Venezuela   </td> <td>La Guaira        </td> <td>La Guaira      </td> <td>nan      </td> <td>nan       </td> <td>nan     </td> <td>nan         </td> <td>nan       </td> <td>nan      </td> <td>Ronald   </td> <td>Acuna   </td> <td>Ronald Jose          </td> <td>205   </td> <td>72    </td> <td>R   </td> <td>R     </td> <td>2018-04-25</td> <td>2020-09-26</td> <td>acunr001</td> <td>acunaro01</td>\n",
       "        </tr>\n",
       "        <tr>\n",
       "            <td>albieoz01</td> <td>1997     </td> <td>1         </td> <td>7       </td> <td>Curacao     </td> <td>nan              </td> <td>Willemstad     </td> <td>nan      </td> <td>nan       </td> <td>nan     </td> <td>nan         </td> <td>nan       </td> <td>nan      </td> <td>Ozzie    </td> <td>Albies  </td> <td>Ozhaino Jurdy Jiandro</td> <td>165   </td> <td>68    </td> <td>B   </td> <td>R     </td> <td>2017-08-01</td> <td>2020-09-27</td> <td>albio001</td> <td>albieoz01</td>\n",
       "        </tr>\n",
       "        <tr>\n",
       "            <td>allarko01</td> <td>1997     </td> <td>8         </td> <td>13      </td> <td>USA         </td> <td>CA               </td> <td>Anaheim        </td> <td>nan      </td> <td>nan       </td> <td>nan     </td> <td>nan         </td> <td>nan       </td> <td>nan      </td> <td>Kolby    </td> <td>Allard  </td> <td>Kolby Kenneth        </td> <td>195   </td> <td>73    </td> <td>L   </td> <td>L     </td> <td>2018-07-31</td> <td>2020-09-27</td> <td>allak001</td> <td>allarko01</td>\n",
       "        </tr>\n",
       "        <tr>\n",
       "            <td>allenlo01</td> <td>1997     </td> <td>5         </td> <td>23      </td> <td>USA         </td> <td>FL               </td> <td>West Palm Beach</td> <td>nan      </td> <td>nan       </td> <td>nan     </td> <td>nan         </td> <td>nan       </td> <td>nan      </td> <td>Logan    </td> <td>Allen   </td> <td>Logan Shane          </td> <td>220   </td> <td>75    </td> <td>R   </td> <td>L     </td> <td>2019-06-18</td> <td>2020-09-26</td> <td>allel002</td> <td>allenlo01</td>\n",
       "        </tr>\n",
       "        <tr>\n",
       "            <td>alvaryo01</td> <td>1997     </td> <td>6         </td> <td>27      </td> <td>Cuba        </td> <td>nan              </td> <td>Las Tunas      </td> <td>nan      </td> <td>nan       </td> <td>nan     </td> <td>nan         </td> <td>nan       </td> <td>nan      </td> <td>Yordan   </td> <td>Alvarez </td> <td>Yordan Ruben         </td> <td>225   </td> <td>77    </td> <td>L   </td> <td>R     </td> <td>2019-06-09</td> <td>2020-08-15</td> <td>alvay001</td> <td>alvaryo01</td>\n",
       "        </tr>\n",
       "        <tr>\n",
       "            <td>arraelu01</td> <td>1997     </td> <td>4         </td> <td>9       </td> <td>Venezuela   </td> <td>Yaracuy          </td> <td>San Felipe     </td> <td>nan      </td> <td>nan       </td> <td>nan     </td> <td>nan         </td> <td>nan       </td> <td>nan      </td> <td>Luis     </td> <td>Arraez  </td> <td>Luis Sangel          </td> <td>175   </td> <td>70    </td> <td>L   </td> <td>R     </td> <td>2019-05-18</td> <td>2020-09-27</td> <td>arral001</td> <td>arraelu01</td>\n",
       "        </tr>\n",
       "        <tr>\n",
       "            <td>avilape01</td> <td>1997     </td> <td>1         </td> <td>14      </td> <td>Venezuela   </td> <td>Distrito Federal </td> <td>Caracas        </td> <td>nan      </td> <td>nan       </td> <td>nan     </td> <td>nan         </td> <td>nan       </td> <td>nan      </td> <td>Pedro    </td> <td>Avila   </td> <td>Pedro Manuel         </td> <td>210   </td> <td>71    </td> <td>R   </td> <td>R     </td> <td>2019-04-11</td> <td>2019-04-11</td> <td>avilp001</td> <td>avilape01</td>\n",
       "        </tr>\n",
       "        <tr>\n",
       "            <td>bubickr01</td> <td>1997     </td> <td>8         </td> <td>19      </td> <td>USA         </td> <td>CA               </td> <td>Cupertino      </td> <td>nan      </td> <td>nan       </td> <td>nan     </td> <td>nan         </td> <td>nan       </td> <td>nan      </td> <td>Kris     </td> <td>Bubic   </td> <td>Kristofer            </td> <td>220   </td> <td>75    </td> <td>L   </td> <td>L     </td> <td>2020-07-31</td> <td>2020-09-24</td> <td>bubik001</td> <td>bubickr01</td>\n",
       "        </tr>\n",
       "        <tr>\n",
       "            <td>camerda01</td> <td>1997     </td> <td>1         </td> <td>15      </td> <td>USA         </td> <td>GA               </td> <td>McDonough      </td> <td>nan      </td> <td>nan       </td> <td>nan     </td> <td>nan         </td> <td>nan       </td> <td>nan      </td> <td>Daz      </td> <td>Cameron </td> <td>Dazmon Jaroid        </td> <td>185   </td> <td>74    </td> <td>R   </td> <td>R     </td> <td>2020-09-09</td> <td>2020-09-27</td> <td>camed001</td> <td>camerda01</td>\n",
       "        </tr>\n",
       "    </tbody>\n",
       "</table>\n",
       "<p>... (43 rows omitted)</p>"
      ],
      "text/plain": [
       "playerID  | birthYear | birthMonth | birthDay | birthCountry | birthState        | birthCity       | deathYear | deathMonth | deathDay | deathCountry | deathState | deathCity | nameFirst | nameLast | nameGiven             | weight | height | bats | throws | debut      | finalGame  | retroID  | bbrefID\n",
       "abreubr01 | 1997      | 4          | 22       | D.R.         | Distrito Nacional | Santo Domingo   | nan       | nan        | nan      | nan          | nan        | nan       | Bryan     | Abreu    | Bryan Enrique         | 225    | 73     | R    | R      | 2019-07-31 | 2020-08-04 | abreb002 | abreubr01\n",
       "acunaro01 | 1997      | 12         | 18       | Venezuela    | La Guaira         | La Guaira       | nan       | nan        | nan      | nan          | nan        | nan       | Ronald    | Acuna    | Ronald Jose           | 205    | 72     | R    | R      | 2018-04-25 | 2020-09-26 | acunr001 | acunaro01\n",
       "albieoz01 | 1997      | 1          | 7        | Curacao      | nan               | Willemstad      | nan       | nan        | nan      | nan          | nan        | nan       | Ozzie     | Albies   | Ozhaino Jurdy Jiandro | 165    | 68     | B    | R      | 2017-08-01 | 2020-09-27 | albio001 | albieoz01\n",
       "allarko01 | 1997      | 8          | 13       | USA          | CA                | Anaheim         | nan       | nan        | nan      | nan          | nan        | nan       | Kolby     | Allard   | Kolby Kenneth         | 195    | 73     | L    | L      | 2018-07-31 | 2020-09-27 | allak001 | allarko01\n",
       "allenlo01 | 1997      | 5          | 23       | USA          | FL                | West Palm Beach | nan       | nan        | nan      | nan          | nan        | nan       | Logan     | Allen    | Logan Shane           | 220    | 75     | R    | L      | 2019-06-18 | 2020-09-26 | allel002 | allenlo01\n",
       "alvaryo01 | 1997      | 6          | 27       | Cuba         | nan               | Las Tunas       | nan       | nan        | nan      | nan          | nan        | nan       | Yordan    | Alvarez  | Yordan Ruben          | 225    | 77     | L    | R      | 2019-06-09 | 2020-08-15 | alvay001 | alvaryo01\n",
       "arraelu01 | 1997      | 4          | 9        | Venezuela    | Yaracuy           | San Felipe      | nan       | nan        | nan      | nan          | nan        | nan       | Luis      | Arraez   | Luis Sangel           | 175    | 70     | L    | R      | 2019-05-18 | 2020-09-27 | arral001 | arraelu01\n",
       "avilape01 | 1997      | 1          | 14       | Venezuela    | Distrito Federal  | Caracas         | nan       | nan        | nan      | nan          | nan        | nan       | Pedro     | Avila    | Pedro Manuel          | 210    | 71     | R    | R      | 2019-04-11 | 2019-04-11 | avilp001 | avilape01\n",
       "bubickr01 | 1997      | 8          | 19       | USA          | CA                | Cupertino       | nan       | nan        | nan      | nan          | nan        | nan       | Kris      | Bubic    | Kristofer             | 220    | 75     | L    | L      | 2020-07-31 | 2020-09-24 | bubik001 | bubickr01\n",
       "camerda01 | 1997      | 1          | 15       | USA          | GA                | McDonough       | nan       | nan        | nan      | nan          | nan        | nan       | Daz       | Cameron  | Dazmon Jaroid         | 185    | 74     | R    | R      | 2020-09-09 | 2020-09-27 | camed001 | camerda01\n",
       "... (43 rows omitted)"
      ]
     },
     "execution_count": 4,
     "metadata": {},
     "output_type": "execute_result"
    }
   ],
   "source": [
    "# get players born in 1997\n",
    "players.where('birthYear', 1997)\n",
    "\n",
    "# report how many players were born in Venezuela? \n"
   ]
  },
  {
   "cell_type": "markdown",
   "metadata": {},
   "source": [
    "## 2.3 Getting the Lahman playerID for the player on your baseball card\n",
    "\n",
    "Now that you have a little practice filtering data, let's get batting information about the player who is on your baseball card. To do this involves a two-step process which is: \n",
    "\n",
    "1. You will need to use the `People.csv` file to get the baseball player's Lahman database `playerID`\n",
    "2. You will need to use then use this `playerID` along with the Lahman `Batting.csv` file to get your player's batting information.\n",
    "\n",
    "\n",
    "**Question 2.3 (7 points):** Start by writing down the name of the player on your baseball card. Then use the `player` table created above to get the player's Lahman `playerID` and report what is it below. Hint: you will need to use the `where()` method twice on different columns to extract the row that corresponds to your player. Once you have your player's `playerID` we can proceed to the next section. \n",
    "\n",
    "**Answers 2.3:**\n",
    "\n",
    "The name of my baseball player is: \n",
    "\n",
    "My player's Lahman playerID is: \n"
   ]
  },
  {
   "cell_type": "code",
   "execution_count": null,
   "metadata": {},
   "outputs": [],
   "source": [
    "\n"
   ]
  },
  {
   "cell_type": "markdown",
   "metadata": {},
   "source": [
    "## 2.4 Getting the batting statistics for the player on your baseball card\n",
    "\n",
    "Now that we have your player's Lahman `playerID`, we can load all the batting statistics from all baseball players from the Lahman `Batting.csv` data. We can then use the `table.where()` method on this batting table to filter the data to only the batting statistics for your player based on your player's `playerID`. \n",
    "\n",
    "**Question 2.4 (5 points)** The code below loads the Lahman batting data table. Use the `playerID` to print all the batting data from your player and report the number of seasons the player played and the maximum number of at-bats (AB) the player had in a season.  \n",
    "\n",
    "**Answer 2.4** \n"
   ]
  },
  {
   "cell_type": "code",
   "execution_count": 5,
   "metadata": {},
   "outputs": [],
   "source": [
    "batting = Table.read_table('https://raw.githubusercontent.com/emeyers/SDS173/master/data/Batting.csv')  \n",
    "\n",
    "\n"
   ]
  },
  {
   "cell_type": "markdown",
   "metadata": {},
   "source": [
    "# 3. Arrays and tables\n",
    "\n",
    "In lab 0 you created several name variables that stored how many home runs and plate appearances the Astros outfielders had. These were stored in names such as `Brantley_HR`, `Brantley_AB`, `Marisnick_HR`, `Marisnick_AB`, etc.\n",
    "\n",
    "Dealing with so many variables can be very cumbersome. Instead, it is much more convenient to store information in a data structure that can hold multiple values. One such data structure we will use in this class is an `ndarray` which is a data structure that comes from the [NumPy package](https://numpy.org/). In such arrays, all elements must be of the same type (i.e., all numbers, all character strings, etc.). This data structure also make has the advantage that it makes it easier to perform operations on multiple values simultaneously. \n",
    "\n",
    "\n",
    "## 3.1 Creating an array of the Astros batting data \n",
    "\n",
    "To create an array, we can use the `make_array()` function which is part of the [datascience package](http://data8.org/datascience/) that was created for the Berkeley Data 8 class (which this YData class is based on). This function makes it slightly easier to create arrays than using functions from the NumPy package. We can simply call this function with values separated by commas to create arrays. \n",
    "\n",
    "**Question 3.1 (4 points):** The code below contains separate names with values for the number of home runs and plate appearances that 2017 Astros outfielders had. Take these values and create two arrays named `Astros_OF_HR` and `Astros_OF_PA` that contain the number of home runs and plate appearances these players had. Then print out these arrays in order to show that you have the correct values in these arrays.  \n"
   ]
  },
  {
   "cell_type": "code",
   "execution_count": 6,
   "metadata": {},
   "outputs": [],
   "source": [
    "# Astros home runs (HR)\n",
    "Marisnick_HR = 16\n",
    "Reddick_HR = 13\n",
    "Springer_HR = 34\n",
    "\n",
    "# Astros plate appearances (PA)\n",
    "Marisnick_PA = 259\n",
    "Reddick_PA = 629\n",
    "Springer_PA = 540\n",
    "\n",
    "\n",
    "# create the arrays here\n",
    "Astros_OF_HR = ..."
   ]
  },
  {
   "cell_type": "markdown",
   "metadata": {},
   "source": [
    "## 3.2 Element-wise operations\n",
    "\n",
    "As mentioned above, NumPy arrays allow you to operate on all values in the array simultaneously. For example, the code below multiples each element by the number 2 (which shows twice the number of home runs each player has hit). \n",
    "\n",
    "We can also perform mathematical functions that operate on two arrays if the two arrays contain the same number of elements. For example, we could multiply two arrays `A`, and `B` together (`C = A * B`) which returns an array of the same length (called `C` here) where the first element of `C` would be the multiplication of the first element of `A` times the first element of `B`, etc.\n",
    "\n",
    "**Question 3.2 (4 points):** Calculate the home run rates for each of the three Astros outfielders by dividing the array of Astros home runs by the array of plate appearances. Which Astros player had the highest home run rate and what was the rate? \n",
    "\n",
    "**Answer 3.2:** \n"
   ]
  },
  {
   "cell_type": "code",
   "execution_count": 7,
   "metadata": {},
   "outputs": [],
   "source": [
    "# home run rates times 2\n",
    "# print(2 * Astros_OF_HR)\n",
    "\n",
    "# create the home run rates for all three players\n"
   ]
  },
  {
   "cell_type": "markdown",
   "metadata": {},
   "source": [
    "## 3.3 Importing code and applying functions to arrays\n",
    "\n",
    "Most programming involves work that is very similar to work that has been done before. Since writing code is time-consuming, it's good to rely on others' published code when you can. Rather than copy-pasting, Python allows us to **import** other code, creating a **module** that contains all of the names created by that code. We can then access names (e.g., functions and values) using the syntax: `module.name`\n",
    "\n",
    "The code below imports these `NumPy` in a module named `np`, and calculates the average (mean) number of home runs that the Astros outfielders hit. \n",
    "\n",
    "**Question 3.3 (4 points)**. Use the `sum()` function in the `NumPy` package to calculate the average home run rate for the Astros outfield as a whole. You can check your answer by comparing it to the results you got in lab 0. \n"
   ]
  },
  {
   "cell_type": "code",
   "execution_count": 8,
   "metadata": {},
   "outputs": [],
   "source": [
    "import numpy as np\n",
    "\n",
    "# average number of home runs the Astros outfield hit\n",
    "# np.mean(Astros_OF_HR)\n",
    "\n",
    "# home run rate for the Astros outfield as a whole\n",
    "\n"
   ]
  },
  {
   "cell_type": "markdown",
   "metadata": {},
   "source": [
    "## 3.4 Arrays of strings\n",
    "\n",
    "We can also create arrays of strings using the `make_array()` function. \n",
    "\n",
    "**Question 3.4 (5 points):** Create an array of strings called `Astros_OF_names` that has the names of the three Astros players, where the names are in the same order as the home runs are listed in the `Astros_OF_HR` array. After you have created this array, what happens if you run: `np.roll(Astros_OF_names, 1)` ?\n",
    "\n",
    "**Answer 3.4:** \n"
   ]
  },
  {
   "cell_type": "code",
   "execution_count": null,
   "metadata": {},
   "outputs": [],
   "source": [
    "\n"
   ]
  },
  {
   "cell_type": "markdown",
   "metadata": {},
   "source": [
    "## 3.5 Creating tables manually \n",
    "\n",
    "We have already used the `Table` object from `datascience` package by importing data from comma separate values files (.csv files). We can also create tables \"by hand\" by starting with an empty table using the syntax: \n",
    "\n",
    "`my_table = Table()`\n",
    "\n",
    "We can then add data columns to the table using the syntax:\n",
    "\n",
    "`my_table.with_column(\"col_name\", my_ndarray)`\n",
    "\n",
    "Where `col_name` is the name of the column we would like to add, and `my_ndarray` is an ndarray of data we would like to have add as a column. \n",
    "\n",
    "**Question 3.5 (5 points):** Create a table called `Astros_OF_table` that contains the following columns:\n",
    "\n",
    "1. The names of the Astros outfields in a column called \"Name\"\n",
    "2. The number of home runs the Astros outfields hit in a column called \"HR\"\n",
    "3. The number of plate appearances the Astros outfields had in a column called \"PA\"\n",
    "\n",
    "Be sure to save this back to the name Astros_OF_table and then print this table. \n"
   ]
  },
  {
   "cell_type": "code",
   "execution_count": null,
   "metadata": {},
   "outputs": [],
   "source": []
  },
  {
   "cell_type": "markdown",
   "metadata": {},
   "source": [
    "# 4. Assessing which statistics are \"good\"\n",
    "\n",
    "As discussed in class, using percentiles is one way to assess what value is impressive for a particular statistic. Let's explore calculating percentiles (and the related concepts of a 5 number summary and boxplot) in Python.\n",
    "\n",
    "\n",
    "## 4.1 Percentiles\n",
    "\n",
    "Recall that the $p^{th}$ percentile is the value of a quantitative variable which is greater than *p* percent of the data. We can get the value the $p^{th}$ percentile from a Python Table using the `table.percentile()`. For example, we can get the 80th percentile value using: `table.percentile(80)`\n",
    "\n",
    "**Question 4.1 (5 points)**: What is the 90th percentile value for home runs hit? Does this value seem reasonable to assess what a good player is today? \n",
    "\n",
    "To answer these questions, use the batting table that was created in question 2.4. Hint: first get a table that only has home runs and then get use the `percentile()` method. \n",
    "\n",
    "**Answer 4.1**: \n"
   ]
  },
  {
   "cell_type": "code",
   "execution_count": 9,
   "metadata": {},
   "outputs": [],
   "source": [
    "# batting is loaded in problem 2.4\n"
   ]
  },
  {
   "cell_type": "markdown",
   "metadata": {},
   "source": [
    "## 4.2 Percentiles using only players since the year 2000\n",
    "\n",
    "One reason that using percentiles on the batting table might not be a good way to find what is a \"good\" statistic value for the number of home runs is due to the fact that perhaps the game of baseball has changed over time. Let's explore this by finding the percentile value for only players who played since the year 2000.\n",
    "\n",
    "**Question 4.2 (6 points):**  What is the 90th percentile value for home runs since 2000? Is it much different than compared to using all years going back to 1871? Hint: try using the `are.above()` function instead the `where()` method when filtering the data will be useful; see section 6.2 of [Computational and Inferential Thinking \n",
    "](https://www.inferentialthinking.com/chapters/06/2/Selecting_Rows.html)\n",
    "\n",
    "**Answer 4.2:**  \n"
   ]
  },
  {
   "cell_type": "code",
   "execution_count": 10,
   "metadata": {},
   "outputs": [],
   "source": [
    "# filter only players who have played since 2000 and see what the 90th percentile value for home runs is \n",
    "\n",
    "\n"
   ]
  },
  {
   "cell_type": "markdown",
   "metadata": {},
   "source": [
    "## 4.3 Percentiles using only players that have 502 or more at-bats\n",
    "\n",
    "Another possible reason this method might not be finding a \"good\" statistic value for the number of home runs is due to the fact that many players only play a few games in a season and thus do not have that many opportunities to hit home runs. Indeed, to qualify as a leader in a batting statistic, you need to have at least 502 at-bats. Let's explore this possibility by finding the percentile value for only players who had at least 502 at-bats. \n",
    "\n",
    "**Question 4.3 (5 points):**  What is the 90th percentile value for players who had at least 502 at-bats in a season? Is it much different compared to using all players in the Lahman Batting file? \n",
    "\n",
    "**Answer 4.3:** "
   ]
  },
  {
   "cell_type": "code",
   "execution_count": null,
   "metadata": {},
   "outputs": [],
   "source": [
    "\n",
    "\n"
   ]
  },
  {
   "cell_type": "markdown",
   "metadata": {},
   "source": [
    "## 4.4 Five-number summary\n",
    "\n",
    "Recall that the five-number summary consists of: \n",
    "1. The minimum value\n",
    "2. The 25th percentile value (Q1)\n",
    "3. The 50th percentile value (the median)\n",
    "4. The 75th percentiel value (Q3) \n",
    "5. The maximum value\n",
    "\n",
    "**Question 4.4 (7 points):** What is the 5 number summary when using data from all players and when using data from only players with 502 or more at-bats? Be sure to print out the Python code that calculates these results below. Hint: the `np.min()` and `np.max()` functions will be useful here too. \n",
    "\n",
    "**Answer 4.4** \n",
    "\n",
    "The five-number summary for all players is: \n",
    "\n",
    "The five-number summary for players with more than 500 at-bats is: "
   ]
  },
  {
   "cell_type": "code",
   "execution_count": 11,
   "metadata": {},
   "outputs": [],
   "source": [
    "\n",
    "# 5 number summary for all players\n",
    "\n",
    "\n",
    "# 5 number summary for players with greater than 502 at-bats\n",
    "\n"
   ]
  },
  {
   "cell_type": "markdown",
   "metadata": {},
   "source": [
    "## 4.5 Boxplots \n",
    "\n",
    "Boxplots are a visualization of the five-number summary. We can create boxplots by first reducing our table to a single column of interest, and then using the `table.boxplot()` function. \n",
    "\n",
    "**Question 4.5 (6 points):** Create a boxplot for home runs using only data for players that have 502 or more at-bats. Based on this boxplot, would the 34 home runs George Springer hit in 2017 be considered an outlier? \n",
    "\n",
    "**Answer 4.5** "
   ]
  },
  {
   "cell_type": "code",
   "execution_count": 12,
   "metadata": {},
   "outputs": [],
   "source": [
    "# this code makes it so that figures appear in Jupyter notebooks, do not remove it!\n",
    "%matplotlib inline\n",
    "\n",
    "# make your boxplot here\n"
   ]
  },
  {
   "cell_type": "markdown",
   "metadata": {},
   "source": [
    "## 4.6 Histograms\n",
    "\n",
    "Histograms are a convenient way to view the full shape of a distribution. We can create a histogram from a table using the syntax: `table.hist('col_name')` where `col_name` refers to the column whose values we want to use to make the histogram. \n",
    "\n",
    "**Question 4.6 (6 points):** Create a histogram of the home runs hit by players who have 502 or more at-bats in a season. \n",
    "\n",
    "Bonus: see if you can figure out how to create bins in the histogram such that the first bin has the number of players who hit 0 home runs, the second bin has the number of players who hit 1 home run, etc. and the y-axis displays the counts of the number of home runs. See: https://www.inferentialthinking.com/chapters/07/2/Visualizing_Numerical_Distributions.html\n"
   ]
  },
  {
   "cell_type": "code",
   "execution_count": null,
   "metadata": {},
   "outputs": [],
   "source": []
  },
  {
   "cell_type": "markdown",
   "metadata": {},
   "source": [
    "## 5. Bonus exercises (0 points)\n",
    "\n",
    "Did you find this lab too easy? If so, try to repreat some (or all) of the exercises without using the `datascience` package and instead use the `NumPy`, `Pandas` and `Matplotlib` packages. You can include some of your analyses in the Python section below, or you can create a copy of lab 1 and redo the analyses using the `NumPy`, `Pandas` and `Matplotlib` packages.\n",
    "\n",
    "This exercise will not contribute to your grade in the class but it will be good practice if you intend to use Python to analyze data in your future work. \n",
    "\n"
   ]
  },
  {
   "cell_type": "code",
   "execution_count": null,
   "metadata": {},
   "outputs": [],
   "source": [
    "# If you want, you can include your code here for redoing some of the analyses above without using the datascience package.\n",
    "\n",
    "# Alternatively, you can copy this lab and create a new document that has the answers using NuPy, Pandas adn Matplotlib instead of datascience package.\n",
    "\n",
    "\n"
   ]
  },
  {
   "cell_type": "markdown",
   "metadata": {},
   "source": [
    "## 6. Quote and reaction to Astroball chapter 1 (5 points)\n",
    "\n",
    "Please find an interesting quote from chapter 1 of Astroball and then write a 1-2 paragraph reaction to the quote below.\n",
    "\n",
    "Quote: \n",
    "\n",
    "Reaction: \n",
    "\n"
   ]
  },
  {
   "cell_type": "markdown",
   "metadata": {},
   "source": [
    "## 7. Reflection (5 points)\n",
    "\n",
    "How did this lab go? Please complete the [reflection 1 survey](https://yale.instructure.com/courses/65116/quizzes/35179) on Canvas to let us know how it went and to reflect on what you learned. \n"
   ]
  },
  {
   "cell_type": "code",
   "execution_count": null,
   "metadata": {},
   "outputs": [],
   "source": []
  }
 ],
 "metadata": {
  "anaconda-cloud": {},
  "kernelspec": {
   "display_name": "Python 3",
   "language": "python",
   "name": "python3"
  },
  "language_info": {
   "codemirror_mode": {
    "name": "ipython",
    "version": 3
   },
   "file_extension": ".py",
   "mimetype": "text/x-python",
   "name": "python",
   "nbconvert_exporter": "python",
   "pygments_lexer": "ipython3",
   "version": "3.7.3"
  }
 },
 "nbformat": 4,
 "nbformat_minor": 2
}
