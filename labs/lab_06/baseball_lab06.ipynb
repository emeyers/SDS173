{
 "cells": [
  {
   "cell_type": "markdown",
   "metadata": {},
   "source": [
    "# Baseball Lab 6\n",
    "\n",
    "\n",
    "Welcome to the sixth baseball lab. This lab is due by  **Monday March 21st at 11:30pm**. \n",
    "\n",
    "As always, you are welcome to work with others on the lab, but if you do work with others after class, please note on the reflection quiz who you worked with. If you have questions about the homework please use [Ed discussions](https://edstem.org/us/courses/4202/discussion/) so that everyone can benefit from your question. Additionally, please answer questions others raise on Ed discussions. Finally, please feel free to attend Neel's and my office hours for additional help. \n",
    "\n",
    "\n",
    "#### Today's Baseball Lab\n",
    "\n",
    "In today's exercises, you'll get practice:\n",
    "\n",
    "1. Running hypothesis tests for a single proportion\n",
    "2. Running hypothesis tests comparing two means\n",
    "\n",
    "Reading that will be **very useful** for solving the problems below are [chapter 11](https://www.inferentialthinking.com/chapters/11/Testing_Hypotheses.html) and [chapter 12](https://www.inferentialthinking.com/chapters/12/Comparing_Two_Samples.html) of the class textbook. \n",
    "\n",
    "\n"
   ]
  },
  {
   "cell_type": "markdown",
   "metadata": {},
   "source": [
    "# Part 1: Was A-Rod's OBP just .300? \n",
    "\n",
    "In 2012, Alex Rodriguez (A-Rod) had a .353 on-base percentage (OBP) based on 529 plate appearances. \n",
    "\n",
    "Let us denote this observed OBP performance with the symbol p̂. This observed performance (p̂) is due to both:\n",
    "\n",
    "a) A-Rod’s innate ability/skill (π)\n",
    "\n",
    "b) Luck, randomness, chance  \n",
    "\n",
    "So how good is A-Rod really? Is it plausible that A-Rod’s OBP ability π was really .300 and he just got lucky to get a p̂ of .353?  Let's run a hypothesis test to examine if it is possible his OBP ability was really .300.\n",
    "\n",
    "Note: [chapter 11](https://www.inferentialthinking.com/chapters/11/Testing_Hypotheses.html) of the class textbook will be a very helpful reference for solving these exercises."
   ]
  },
  {
   "cell_type": "code",
   "execution_count": 2,
   "metadata": {},
   "outputs": [],
   "source": [
    "from datascience import *\n",
    "import pandas as pd\n",
    "import numpy as np\n",
    "\n",
    "np.random.seed(173)\n",
    "\n",
    "%matplotlib inline\n",
    "\n",
    "# If you want to look at A-Rod's data from 2012 you can get it here\n",
    "# data_url = 'https://raw.githubusercontent.com/emeyers/SDS173_F20/master/data/compressed_retro_data/all_2012.gz'\n",
    "# retro_data = Table.from_df(pd.read_csv(data_url))\n"
   ]
  },
  {
   "cell_type": "markdown",
   "metadata": {},
   "source": [
    "## 1.1: Stating the null and alternative hypothesis\n",
    "\n",
    "\n",
    "**Exercise 1.1 (5 points):** To start this analysis, state the null and alternative hypotheses in symbols and words. Also write down the observed statistic value using the appropriate symbol. Finally, in the code section create a name `observed_obp` and set it to A-Rod's observed OBP as measured by his actual performance in 2012. \n",
    "\n",
    "\n",
    "**Answer**\n",
    "\n",
    "\n"
   ]
  },
  {
   "cell_type": "code",
   "execution_count": 1,
   "metadata": {},
   "outputs": [],
   "source": [
    "observed_obp = ...\n"
   ]
  },
  {
   "cell_type": "markdown",
   "metadata": {},
   "source": [
    "## 1.2:  Generating a statistic consistent with the null hypothesis\n",
    "\n",
    "Now let's write a function called `one_simulated_season_obp()` that can generate one statistic (p̂) that is consistent with the null hypothesis. Here the statistic we will generate is A-Rod's season OBP under the assumption that the null hypothesis is true. \n",
    "\n",
    "To generate such a statistic we can use the `sample_proportions(n, [prob_heads, prob_tails])` function. This function takes the probabilty a coin will be heads (`prob_heads` or $\\pi_{heads}$), and the probability a coin will be tails (`prob_tails` or $\\pi_{tails} = 1 - \\pi_{heads}$) as well as a value `n` which is the number of times the coin should be flipped. The function then returns the proportion of times the coin returned heads ($\\hat{p}_{heads}$), and the proportion of times the coin returned tails ($\\hat{p}_{tails}$). \n",
    "\n",
    "For the `one_simulated_season_obp()` that you will write, use the values `n` and `prob_heads` that are consistent with simulating one $\\pi_{heads}$ for A-Rod's 2019 season under the assumption that the null hypothesis ($H_0$) is true. \n",
    "\n",
    "\n",
    "**Exercise 1.2 (6 points):** Please write the `one_simulated_season_obp()` function. Once you have written the function run it once to print the results for one simulated p̂ that is consistent with the null hypothesis."
   ]
  },
  {
   "cell_type": "code",
   "execution_count": 3,
   "metadata": {},
   "outputs": [],
   "source": [
    "def one_simulated_season_obp():\n",
    "    pass\n",
    "\n",
    "\n",
    "\n",
    "one_simulated_season_obp()\n"
   ]
  },
  {
   "cell_type": "markdown",
   "metadata": {},
   "source": [
    "## 1.3: Generate the null distribution\n",
    "\n",
    "Let us now generate many such simulated statistics p̂ to create a \"null distribution\" that shows the range of OBP's we would expect if A-Rod's OBP was equal to the value specified in the null hypothesis. \n",
    "\n",
    "**Exercise 1.3 (9 points):** Please create the null distribution by creating an empty numpy array called `simulated_null_obps` using the `make_array()` function. You can then use a for loop to generate 10,000 simulated OBPs consistent with the null hypothesis by calling the `one_simulated_season_obp()` function and appending the result to the `simulated_null_obps` numpy array using the `np.append()` function.\n",
    "\n",
    "Once you have created the `simulated_null_obps` null distribution ndarray, create a Table that has the values from the simulations in it. Then plot this null distribution as a histogram. Make sure that the x-axis on this histogram is labeled with a meaningful name by making the column in the Table you create have an appropriate name. Additionally, add a red dot at the value of the observed statistic. Finally, answer the question below whether you think A-Rod's actual OBP performance is likely to come from this null distribution. \n",
    "\n",
    "\n",
    "**Answer**\n",
    "\n"
   ]
  },
  {
   "cell_type": "code",
   "execution_count": 4,
   "metadata": {},
   "outputs": [],
   "source": [
    "import matplotlib.pyplot as plots\n",
    "\n",
    "# create an empty array called simulated_null_obps to store the results\n",
    "\n",
    "\n",
    "# create a for loop that appends statistics consistent with the null hypothesis (i.e., create the null distribution)\n",
    "\n",
    "\n",
    "# display the null distribution\n",
    "    \n",
    "\n",
    "# add a point to the histogram of the null distribution showing the A-Rod's real OBP\n",
    "\n"
   ]
  },
  {
   "cell_type": "markdown",
   "metadata": {},
   "source": [
    "## Exercise 1.4: Find the p-value\n",
    "\n",
    "Now that we have a \"null distribution\" of statistics we would expect if A-Rod's OBP was indeed .300, we can calculate a p-value which is the probability we would get a OBP value from this null distribution that was as great or greater than the actualy observed OBP A-Rod had in the 2012 season. \n",
    "\n",
    "To get the p-value, we can assess which of the values in the `simulated_null_obps` is greater than the `observed_obp` value. A simple comparision using the >= operator will return an ndarray of values of Trues and Falses. Recall the Python treats the boolean True as 1 and False as 0. Thus, we can use the `np.count_non_zero()` function to count how many values in the null distribution are greater than or equal to the observed statistic. The p-value is then the number of values in the null distribution that are as great or greater than the observed statistic divided by the total number of values in the null distribution. \n",
    "\n",
    "**Exercise 1.4 (5 points):** Please calculate the p-value. Then answer the question whether there seems like there is sufficient evidence that A-Rod is greater than a .300 hitter. \n",
    "\n",
    "\n",
    "**Answer**\n",
    "\n",
    "\n",
    "\n",
    "\n"
   ]
  },
  {
   "cell_type": "code",
   "execution_count": null,
   "metadata": {},
   "outputs": [],
   "source": [
    "\n",
    "\n"
   ]
  },
  {
   "cell_type": "markdown",
   "metadata": {},
   "source": [
    "# Part 2: Hypothesis tests comparing two means\n",
    "\n",
    "Are more triples hit by teams in the American League compared to teams in the National League? Let's use a permutation test to explore this question.\n",
    "\n",
    "Note: [chapter 12](https://www.inferentialthinking.com/chapters/12/Comparing_Two_Samples.html) of the class textbook will be a **very helpful** reference for solving these exercises.\n",
    "\n",
    "\n",
    "## 2.1: Getting the relevant data\n",
    "\n",
    "**Exercise 2.1 (2 points):** The code below loads data with team statistics from 1871. Since the game has changed significantly over time, let's only examine data since 2000. To do this start by creating a name `teams_2000` that has only data from teams since 2000.\n"
   ]
  },
  {
   "cell_type": "code",
   "execution_count": 5,
   "metadata": {},
   "outputs": [],
   "source": [
    "teams = Table.read_table('https://raw.githubusercontent.com/emeyers/SDS173/master/data/Teams.csv')  \n",
    "\n",
    "\n",
    "\n"
   ]
  },
  {
   "cell_type": "markdown",
   "metadata": {},
   "source": [
    "## 2.2: Stating the null and alternative hypothesis\n",
    "\n",
    "\n",
    "**Exercise 2.2 (5 points):** Please start your hypothesis testing by stating the null and alternative hypotheses in symbols and words.\n",
    "\n",
    "\n",
    "**Answer**\n",
    "\n",
    "\n",
    "\n",
    "\n",
    "\n"
   ]
  },
  {
   "cell_type": "markdown",
   "metadata": {},
   "source": [
    "## 2.3:  Viewing the differences in triples between AL and NL teams\n",
    "\n",
    "Let's now visualize and look at descriptive statistics for differences in triples hit by the AL and NL teams. \n",
    "\n",
    "\n",
    "**Exercise 2.3 (7 points):** Please do the following analyses:\n",
    "\n",
    "1. Create overlapping histograms for the triples hit by AL and NL teams.\n",
    "\n",
    "2. Create a table that shows the mean number of triples hit by AL and NL teams.\n",
    "\n",
    "3. Calculate the value of the statistic for the difference between the means for the AL and NL teams. \n",
    "\n",
    "Be sure that your table and observed difference in triples statistic are also printed out!\n"
   ]
  },
  {
   "cell_type": "code",
   "execution_count": 6,
   "metadata": {},
   "outputs": [],
   "source": [
    "# create overlapping histograms for the number of triples AL and NL teams hit\n",
    "\n",
    "\n",
    "# create a table with the mean number of triples AL and NL teams hit and show it\n",
    "\n",
    "\n",
    "\n",
    "# calculate the difference in the number of triples AL and NL teams hit\n",
    "\n",
    "\n"
   ]
  },
  {
   "cell_type": "markdown",
   "metadata": {},
   "source": [
    "## 2.4:  Creating a function to calculate the differences between statistics\n",
    "\n",
    "In order to create our *null distribution* of statistics that we would expect if the null hypothesis was true, it will be useful to write a function called `difference_of_means(table, label, group_label)` that calculates the difference of mean statistic. This `difference_of_means` should return the difference of mean statistic and should take as input arguments: \n",
    "\n",
    "1. table: a table that has the relevant data\n",
    "\n",
    "2. label: a string that has the name of the column that has the data values that we will use to calculate the mean in each group\n",
    "\n",
    "3. group_labels: a string that has the name of the column that lists which of the two groups a given data row corresponds to. \n",
    "\n",
    "\n",
    "**Exercise 2.4 (8 points):** Please write the `difference_of_means()` function. Once you have written this function, run it to confirm that it calculate the difference in means for the number of triples between the AL and NL that you calculated in exercise 2.3. \n",
    "\n"
   ]
  },
  {
   "cell_type": "code",
   "execution_count": 8,
   "metadata": {},
   "outputs": [],
   "source": [
    "def difference_of_means(table, label, group_label):\n",
    "    pass\n",
    "\n",
    "\n",
    "\n",
    "# display the observed difference in mean triples using this function \n",
    "\n",
    "\n"
   ]
  },
  {
   "cell_type": "markdown",
   "metadata": {},
   "source": [
    "## 2.5:  Generating a statistic consistent with the null hypothesis\n",
    "\n",
    "Now let's generate one statistic that is consistent with the null hypothesis. \n",
    "\n",
    "\n",
    "**Exercise 2.5 (10 points):** Please create one statistic that is consisent with the null distribution by doing the following steps:\n",
    "\n",
    "1. Shuffle the AL and NL labels by using the `tb.sample(with_replacement = False)` and then extract the shuffled AL and NL labels as an ndarray.\n",
    "\n",
    "2. Create a table called `original_and_shuffled` that has the original `teams_2000` data along with an additional column called `Shuffled Label` that has the shuffled labels you created in step 1. \n",
    "\n",
    "3. Calculate the group means when the labels are shuffled and store the results in the name  `shuffled_group_means`. Be sure to display this table too.\n",
    "\n",
    "4. Calculate the difference in the shuffled group means you created in step 3. Be sure to print this value as well. \n"
   ]
  },
  {
   "cell_type": "code",
   "execution_count": 9,
   "metadata": {},
   "outputs": [],
   "source": [
    "# shuffle the AL and NL labels and create a table and store the results in an ndarray\n",
    "\n",
    "\n",
    "# create a table original_and_shuffled that has an additional column called 'Shuffled Label'\n",
    "\n",
    "\n",
    "# calculate the means for the shuffled \"AL\" and \"NL\" teams in a table and display this table\n",
    "\n",
    "\n",
    "\n",
    "# use the difference_of_means function to get on statistic consistent with the null hypothesis\n",
    "\n"
   ]
  },
  {
   "cell_type": "markdown",
   "metadata": {},
   "source": [
    "## 2.6:  Creating function to generate statistics consistent with the null hypothesis\n",
    "\n",
    "Now that we know how to create a statistic consistent with the null distribution, let's write a function called `one_simulated_difference(table, label, group_label)` that returns the difference between shuffled means. The arguments to this function should be the same as the arguments to the `difference_of_means` function, namely: \n",
    "\n",
    "1. table: a table that has the relevant data\n",
    "\n",
    "2. label: a string that has the name of the column that has the data values that we will use to calculate the mean in each group\n",
    "\n",
    "3. group_labels: a string that has the name of the column that lists which of the two groups a given data row corresponds to. \n",
    "\n",
    "**Exercise 2.6 (7 points):** Please write the `one_simulated_difference()` funtion. One you have created this function, run it once to generate one simulated difference in the mean number of triples between the leagues.\n",
    "\n"
   ]
  },
  {
   "cell_type": "code",
   "execution_count": 11,
   "metadata": {},
   "outputs": [],
   "source": [
    "def one_simulated_difference(table, label, group_label):\n",
    "    pass\n",
    "\n",
    "one_simulated_difference(teams, '3B', 'lgID')"
   ]
  },
  {
   "cell_type": "markdown",
   "metadata": {},
   "source": [
    "## 2.7:  Creating a null distribution \n",
    "\n",
    "Now that we have written a function that can create one difference in mean triples values that is consistent with the null hypothesis, let's use it to create a full null distribution. To do this, run a for loop 5000 times that accumulates different difference in means statistics that are consistent with the null hypothesis.\n",
    "\n",
    "**Exercise 2.7 (8 points):**  Please create name called `differences` that has the null distribution of differences one would expet if the null hypothesis was true. Once you have created the ndarry for the null distribution, take the mean of this null distribution and print it. Is the mean of the null distribution what you expected it to be? Explain.\n",
    "\n",
    "**Answer** \n",
    "\n"
   ]
  },
  {
   "cell_type": "code",
   "execution_count": null,
   "metadata": {},
   "outputs": [],
   "source": [
    "\n",
    "\n",
    "\n"
   ]
  },
  {
   "cell_type": "markdown",
   "metadata": {},
   "source": [
    "## 2.8:  Visualizing the null distribution \n",
    "\n",
    "Now let's visualize the null distribution by creating a histogram of the null distribution values. \n",
    "\n",
    "**Exercise 2.8 (8 points):** Please create a histrogram visualizing the null distribution. Then add the actual difference in the mean triples between the AL and NL teams to this plot as a red dot. Also add -1 times the difference in the mean triples between the AL and NL teams to this plot as a red dot. \n",
    "\n",
    "In exercise 2.9 below you will use code to calculate the precise value of the p-value. However, now that we have plotted null distribution we should also be able to look at this plot and get a sense of what the p-value is. Because the alternative hypothesis should specify that **either** the mean number of AL team triples is **larger** than the mean number of NL team triples **or** the mean number of AL team triples is **smaller** than the mean number of AL team triples, we will have to look at both tails of the null distribution to get the p-value (hence we have plotted red dots for both the mean observed difference in triples and -1 * the mean observed difference).  \n",
    "\n",
    "Based on looking the plot of the null distribution and the observed statistic, write below what you expect the p-value to be. \n",
    "\n",
    "**Answer:** \n",
    "\n",
    "\n"
   ]
  },
  {
   "cell_type": "code",
   "execution_count": 12,
   "metadata": {},
   "outputs": [],
   "source": [
    "import matplotlib.pyplot as plt\n",
    "\n",
    "# create a histogram of that displays the null distribution (differences of mean 3B's consistent with the null hypothesis)\n",
    "\n",
    "\n",
    "\n",
    "# use plots.scatter() to add the observed statistic and -1 * the observed statistic to this plot\n",
    "\n",
    "\n"
   ]
  },
  {
   "cell_type": "markdown",
   "metadata": {},
   "source": [
    "## 2.9:  Calculating the p-value\n",
    "\n",
    "Finally let's calculate the p-value. Again, note that to do this we need to get the p-value separately for the upper tail (proportion of the null distribution that is greater than or equal to observed statistic) and the p-value for the lower tail (proportion of the null distribution that is less than or equal to -1 times the observed statistic). If we add these proportions together we will get the final p-value. \n",
    "\n",
    "**Exercise 2.9 (8 points):** Please calculate and print the p-value below.  \n"
   ]
  },
  {
   "cell_type": "code",
   "execution_count": 13,
   "metadata": {},
   "outputs": [],
   "source": [
    "# calculate the p-value for the lower tail (i.e., proportion less than or equal to the observed difference)\n",
    "\n",
    "\n",
    "# calculate the p-value for the upper tail (i.e., proportion greater than or equal to the observed difference)\n",
    "\n",
    "\n",
    "# get the total p-value which is the sum of the p-values from the lower and upper tails\n",
    "\n",
    "\n"
   ]
  },
  {
   "cell_type": "markdown",
   "metadata": {},
   "source": [
    "## 2.10:  Conclusions\n",
    "\n",
    "**Exercise 2.10 (4 points):** Based on the p-value what do you conclude? \n",
    "\n",
    "\n",
    "**Answer**\n",
    "\n",
    "\n",
    "\n"
   ]
  },
  {
   "cell_type": "markdown",
   "metadata": {},
   "source": [
    "# Part 3: Quote and reaction to Astroball chapter 6 (5 points)\n",
    "\n",
    "Please find an interesting quote from chapter 6 of Astroball and then write a ~one paragraph reaction to the quote below.\n",
    "\n",
    "Quote: \n",
    "\n",
    "Reaction: \n",
    "\n"
   ]
  },
  {
   "cell_type": "markdown",
   "metadata": {},
   "source": [
    "# Part 4. Reflection (3 points)\n",
    "\n",
    "How did this lab go? Please complete the [reflection homework 6](https://yale.instructure.com/courses/65116/quizzes/35182) which is under the quiz section on Canvas to let us know how it went and to reflect on what you learned. \n"
   ]
  }
 ],
 "metadata": {
  "anaconda-cloud": {},
  "kernelspec": {
   "display_name": "Python 3",
   "language": "python",
   "name": "python3"
  },
  "language_info": {
   "codemirror_mode": {
    "name": "ipython",
    "version": 3
   },
   "file_extension": ".py",
   "mimetype": "text/x-python",
   "name": "python",
   "nbconvert_exporter": "python",
   "pygments_lexer": "ipython3",
   "version": "3.7.3"
  }
 },
 "nbformat": 4,
 "nbformat_minor": 4
}
