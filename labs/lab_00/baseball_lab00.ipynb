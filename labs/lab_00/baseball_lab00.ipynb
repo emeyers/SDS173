{
 "cells": [
  {
   "cell_type": "markdown",
   "metadata": {},
   "source": [
    "# Baseball Lab 0: Getting started with Python and Jupyter Notebooks\n",
    "\n",
    "\n",
    "#### Welcome to YData: Baseball data analysis!  \n",
    "\n",
    "Most class meeting times will include a lecture portion and a lab portion.  This is an example of a Baseball lab. The purpose of the labs is to give you hands-on experience using the skills from the main YData course (S&DS 123/523) while working within a particular domain.  For this seminar, the focus is on analyzing baseball data!\n",
    "\n",
    "Before we get started, there are some administrative details.\n",
    "\n",
    "- Baseball Lab 0 (i.e., this lab) will **not** be turned in for credit, though generally the Baseball Labs **will** be required and turned in for credit.\n",
    "\n",
    "- Some questions of this lab are the same as the Practice 01 question 1 found on the main [YData website](http://ydata123.org/sp21/) -- it explains the basic setup of a Jupyter Notebook.  It is recommended that you work on the Y123 practice exercises each week, and especially the rest of Practice 01.  \n",
    "\n",
    "- Collaborating on the Baseball labs is encouraged. If you get stuck for a while on a question, feel free to ask other class members. Please don't just share answers though.\n",
    "\n",
    "This term we will be using Ed Discussions [for questions related to the class](https://edstem.org/us/courses/4202/discussion/)\n",
    "\n",
    "\n",
    "#### Today's Baseball Lab\n",
    "\n",
    "In today's exercises, you'll learn how to:\n",
    "\n",
    "1. Navigate Jupyter notebooks (like this one)\n",
    "2. Write and evaluate some basic *expressions* in Python, the computer language of the course\n",
    "3. View and manipulate data tables\n",
    "\n",
    "Textbook reference:  [Chapter 3](http://www.inferentialthinking.com/chapters/03/programming-in-python.html) \n",
    "\n",
    "Credit:  Some aspects of this lab have been adapted from Berkeley's Data8 course and from a Notebook created by Jessi Cisewski-Kehe"
   ]
  },
  {
   "cell_type": "markdown",
   "metadata": {},
   "source": [
    "# 1. Jupyter notebooks\n",
    "This webpage is called a Jupyter notebook. A notebook is a place to write programs and view their results.\n",
    "\n",
    "## 1.1. Text cells\n",
    "In a notebook, each rectangle containing text or code is called a *cell*.\n",
    "\n",
    "Text cells (like this one) can be edited by double-clicking on them. They're written in a simple format called [Markdown](https://jupyter-notebook.readthedocs.io/en/stable/examples/Notebook/Working%20With%20Markdown%20Cells.html) to add formatting and section headings.  You don't need to learn Markdown, but you might want to.\n",
    "\n",
    "After you edit a text cell, click the \"run cell\" button at the top that looks like ▶| to confirm any changes. (Try not to delete the instructions of the lab.)"
   ]
  },
  {
   "cell_type": "markdown",
   "metadata": {},
   "source": [
    "**Question 1.1.1.** This paragraph is in its own text cell.  Try editing it so that this sentence is the last sentence in the paragraph, and then click the \"run cell\" ▶| button.  This sentence, for example, should be deleted.  So should this one."
   ]
  },
  {
   "cell_type": "markdown",
   "metadata": {},
   "source": [
    "## 1.2. Code cells\n",
    "Other cells contain code in the Python 3 language. Running a code cell will execute all of the code it contains.\n",
    "\n",
    "To run the code in a code cell, first click on that cell to activate it.  It'll be highlighted with a little green or blue rectangle.  Next, either press ▶| or hold down the `shift` key and press `return` or `enter`.\n",
    "\n",
    "Try running this cell:"
   ]
  },
  {
   "cell_type": "code",
   "execution_count": 5,
   "metadata": {},
   "outputs": [
    {
     "name": "stdout",
     "output_type": "stream",
     "text": [
      "Hello, World!\n"
     ]
    }
   ],
   "source": [
    "print(\"Hello, World!\")"
   ]
  },
  {
   "cell_type": "markdown",
   "metadata": {},
   "source": [
    "And this one:"
   ]
  },
  {
   "cell_type": "code",
   "execution_count": 6,
   "metadata": {},
   "outputs": [
    {
     "name": "stdout",
     "output_type": "stream",
     "text": [
      "👋, 🌏!\n"
     ]
    }
   ],
   "source": [
    "print(\"\\N{WAVING HAND SIGN}, \\N{EARTH GLOBE ASIA-AUSTRALIA}!\")"
   ]
  },
  {
   "cell_type": "markdown",
   "metadata": {},
   "source": [
    "The fundamental building block of Python code is an expression. Cells can contain multiple lines with multiple expressions. When you run a cell, the lines of code are executed in the order in which they appear. Every `print` expression prints a line. Run the next cell and notice the order of the output."
   ]
  },
  {
   "cell_type": "code",
   "execution_count": 7,
   "metadata": {},
   "outputs": [
    {
     "name": "stdout",
     "output_type": "stream",
     "text": [
      "First this line is printed,\n",
      "and then this one.\n"
     ]
    }
   ],
   "source": [
    "print(\"First this line is printed,\")\n",
    "print(\"and then this one.\")"
   ]
  },
  {
   "cell_type": "markdown",
   "metadata": {},
   "source": [
    "**Question 1.2.1.** Change the cell above so that it prints out:\n",
    "\n",
    "    First this line,\n",
    "    then the whole 🌏,\n",
    "    and then this one.\n",
    "\n",
    "*Hint:* If you're stuck on the Earth symbol for more than a few minutes, try talking to other class members or the instructor (using google will obviously help too).  That's a good idea for any exercise."
   ]
  },
  {
   "cell_type": "markdown",
   "metadata": {},
   "source": [
    "## 1.3. Writing Jupyter notebooks\n",
    "You can use Jupyter notebooks for your own projects or documents.  When you make your own notebook, you'll need to create your own cells for text and code.\n",
    "\n",
    "To add a cell, click the + button in the menu bar.  It'll start out as a text cell.  You can change it to a code cell by clicking inside it so it's highlighted, clicking the drop-down box next to the restart (⟳) button in the menu bar, and choosing \"Code\".\n",
    "\n",
    "**Question 1.3.1.** Add a code cell below this one.  Write code in it that prints out:\n",
    "   \n",
    "    A whole new cell! ♪🌏♪\n",
    "\n",
    "(That musical note symbol is like the Earth symbol.  Its long-form name is `\\N{EIGHTH NOTE}`.)\n",
    "\n",
    "Run your cell to verify that it works."
   ]
  },
  {
   "cell_type": "markdown",
   "metadata": {},
   "source": [
    "## 1.4. Errors\n",
    "Python is a language, and like natural human languages, it has rules.  It differs from natural language in two important ways:\n",
    "1. The rules are *simple*.  You can learn most of them in a few weeks and gain reasonable proficiency with the language in a semester.\n",
    "2. The rules are *rigid*.  If you're proficient in a natural language, you can understand a non-proficient speaker, glossing over small mistakes.  A computer running Python code is not smart enough to do that.\n",
    "\n",
    "Whenever you write code, you'll make mistakes.  When you run a code cell that has errors, Python will sometimes produce error messages to tell you what you did wrong.\n",
    "\n",
    "Errors are okay; even experienced programmers make many errors.  When you make an error, you just have to find the source of the problem, fix it, and move on.\n",
    "\n",
    "We have made an error in the next cell.  Run it and see what happens."
   ]
  },
  {
   "cell_type": "code",
   "execution_count": 8,
   "metadata": {},
   "outputs": [
    {
     "ename": "SyntaxError",
     "evalue": "unexpected EOF while parsing (<ipython-input-8-c7b7223ecd08>, line 1)",
     "output_type": "error",
     "traceback": [
      "\u001b[1;36m  File \u001b[1;32m\"<ipython-input-8-c7b7223ecd08>\"\u001b[1;36m, line \u001b[1;32m1\u001b[0m\n\u001b[1;33m    print(\"This line is missing something.\"\u001b[0m\n\u001b[1;37m                                           ^\u001b[0m\n\u001b[1;31mSyntaxError\u001b[0m\u001b[1;31m:\u001b[0m unexpected EOF while parsing\n"
     ]
    }
   ],
   "source": [
    "print(\"This line is missing something.\""
   ]
  },
  {
   "cell_type": "markdown",
   "metadata": {},
   "source": [
    "You should see something like this (minus our annotations):\n",
    "\n",
    "<img src=\"https://raw.githubusercontent.com/emeyers/SDS173/master/images/error.jpg\"/>\n",
    "\n",
    "The last line of the error output attempts to tell you what went wrong.  The *syntax* of a language is its structure, and this `SyntaxError` tells you that you have created an illegal structure.  \"`EOF`\" means \"end of file,\" so the message is saying Python expected you to write something more (in this case, a right parenthesis) before finishing the cell.\n",
    "\n",
    "There's a lot of terminology in programming languages, but you don't need to know it all in order to program effectively. If you see a cryptic message like this, you can often get by without deciphering it.  (Of course, if you're frustrated, ask other class members or the instructor for help.)\n",
    "\n",
    "Try to fix the code above so that you can run the cell and see the intended message instead of an error."
   ]
  },
  {
   "cell_type": "markdown",
   "metadata": {},
   "source": [
    "## 1.5. The Kernel\n",
    "The kernel is a program that executes the code inside your notebook and outputs the results. In the top right of your window, you can see a circle that indicates the status of your kernel. If the circle is empty (⚪), the kernel is idle and ready to execute code. If the circle is filled in (⚫), the kernel is busy running some code. \n",
    "\n",
    "You may run into problems where your kernel is stuck for an excessive amount of time, your notebook is very slow and unresponsive, or your kernel loses its connection. If this happens, try the following steps:\n",
    "1. At the top of your screen, click **Kernel**, then **Interrupt**.\n",
    "2. If that doesn't help, click **Kernel**, then **Restart**. If you do this, you will have to run your code cells from the start of your notebook up until where you paused your work.\n",
    "3. If that doesn't help, restart your server. First, save your work by clicking **File** at the top left of your screen, then **Save**. Next, click **Control Panel** at the top right. Choose **Stop My Server** to shut it down, then **My Server** to start it back up. Then, navigate back to the notebook you were working on."
   ]
  },
  {
   "cell_type": "markdown",
   "metadata": {},
   "source": [
    "# 2. Examining Houston Astros outfielders in 2017\n",
    "\n",
    "Let's start practicing some basic calculations in Python by examining the Houston Astros outfielders in 2017. In 2017, the Houston Astros had three players with more than 100 games in the outfield. The roster of the Houston Astros outfielders can be found at https://www.baseball-reference.com/teams/HOU/2017-roster.shtml\n",
    "\n",
    "## 2.1 Assignment\n",
    "\n",
    "Recall that Python uses assignment statements to assign a value to a variable name.\n",
    "An assignment statement has a name on the left side of an = sign and an expression to be evaluated on the right. For example, we can assign the value of 16 to Marisnick_HR using the following:"
   ]
  },
  {
   "cell_type": "code",
   "execution_count": null,
   "metadata": {},
   "outputs": [],
   "source": [
    "Marisnick_HR = 16\n",
    "Marisnick_HR"
   ]
  },
  {
   "cell_type": "markdown",
   "metadata": {},
   "source": [
    "Notice we also listed `Marisnick_HR` below the assignment so Python would print its value.  If we did not include that second line, then the value would not have printed. Only the last variable that is listed by itself will be printed. If we would like to print the values for several variables we can use the `print()` function. \n",
    "\n",
    "Now that we have assigned a value to `Marisnick_HR` variable, Python will use this value whenever we use the name `Marisnick_HR`. "
   ]
  },
  {
   "cell_type": "markdown",
   "metadata": {},
   "source": [
    "**Question 2.1**. Assign the names Reddick_HR and Springer_HR to the number of home runs hit by these Houston outfielders and print these values. Also, assign the number of at plate appearances (PA) these players had to the names Marisnick_PA, Reddick_PA, and Springer_PA."
   ]
  },
  {
   "cell_type": "code",
   "execution_count": null,
   "metadata": {},
   "outputs": [],
   "source": [
    "# Replace the ... with your answer\n",
    "\n",
    "# Astros home runs (HR)\n",
    "Reddick_HR = ...\n",
    "Springer_HR = ...\n",
    "\n",
    "# print the number of home runs by Reddick and Springer\n",
    "\n",
    "\n",
    "# Astros plate appearances (PA)\n",
    "Marisnick_PA = ...\n",
    "Reddick_PA = ...\n",
    "Springer_PA = ...\n"
   ]
  },
  {
   "cell_type": "markdown",
   "metadata": {},
   "source": [
    "## 2.2 Calculating values\n",
    "\n",
    "Now that we have the number of home runs and plate appearances as named variables, we can use the variable names to compute quantities like the total number of home runs each the outfields of each time hit, and the home run rate (HR/PA) the team hit. "
   ]
  },
  {
   "cell_type": "markdown",
   "metadata": {},
   "source": [
    "**Question 2.2.** Calculate the home run rates (HR/PA) for the 2017 Astros outfielders and print this rate."
   ]
  },
  {
   "cell_type": "code",
   "execution_count": null,
   "metadata": {},
   "outputs": [],
   "source": [
    "\n",
    "\n",
    "\n"
   ]
  },
  {
   "cell_type": "markdown",
   "metadata": {},
   "source": [
    "**Answer:** "
   ]
  },
  {
   "cell_type": "markdown",
   "metadata": {},
   "source": [
    "## 2.3 Slightly more complex calculations\n",
    "\n",
    "[Bill James](https://en.wikipedia.org/wiki/Bill_James) created a formula to predict the winning percentage a team would have based on the number of runs the team scored (R) and the number of runs the team allowed (RA). This formula, called the [Pythagorean expectation](https://en.wikipedia.org/wiki/Pythagorean_expectation), has the form:\n",
    "\n",
    "Winning percentage = $\\frac{R^2}{R^2 + RA^2}$\n",
    "\n",
    "\n",
    "**Question 2.3.** In 2017, Houston had a record of 101-61. They also scored 869 runs and gave up 700 runs. Please complete the following steps:\n",
    "\n",
    "1. Assign the number of runs they scored to a variable called `R`\n",
    "2. Assign the number of runs allowed to a variable called `RA`\n",
    "3. Assign their winning percentage to a variable called `WPCT`\n",
    "4. Use the Pythagorean formula to calculate the winning percentage and assign it to a variable called `pred_WPCT`\n",
    "5. Calculate the absolute value of the difference between the team's actual winning percentage and the predicted winning percentage.\n",
    "6. Report the absolute difference in the number of wins that is predicted by the Pythagorean_expectation formula compared to how many wins the team actually had (hint: there are 162 games in a season).\n",
    "\n",
    "Does the Pythagorean expectation formula seem accurate in this case? \n",
    "\n",
    "\n",
    "**Answers:** Use the code section below to calculate your results and then answer the questions here.\n"
   ]
  },
  {
   "cell_type": "code",
   "execution_count": null,
   "metadata": {},
   "outputs": [],
   "source": [
    "\n"
   ]
  },
  {
   "cell_type": "markdown",
   "metadata": {},
   "source": [
    "# 3. Using data from the Lahman database\n",
    "\n",
    "As you saw above, entering data by hand is not that much fun, and it would be prohibitively difficult to do many interesting baseball analyses if you had to enter all the data by hand. Fortunately, the baseball community has worked together to compile baseball statistics related to many different aspects of the game in several different data sets. One such data set is the [Lahman Database](http://www.seanlahman.com/baseball-archive/statistics/) which contains season-level statistics on teams and baseball players (among other things). \n",
    "\n",
    "We can import the data using Python functions.  The file called `Batting.csv` contains batting statistics for all players from 1871 to 2020. \n",
    "\n",
    "\n",
    "## 3.1 Loading data tables\n",
    "\n",
    "In the main YData class, you will learn a lot more about the `Table object`. This object is part of the `datascience` package which was created by the creators of the Berkeley Data 8 class, upon which our YData class is based upon. We will extensively use these table objects for our baseball analyses so you will become very familiar with how to manipulate tables. For today, let's start with some of the basic functionality including loading tables and selecting rows and columns from tables. \n",
    "\n",
    "The cell below imports the functions related to tables and loads the data into a table."
   ]
  },
  {
   "cell_type": "code",
   "execution_count": 9,
   "metadata": {},
   "outputs": [],
   "source": [
    "# Do not change this cell, just run it\n",
    "from datascience import *\n",
    "\n",
    "# Load in the dataset from the class GitHub repository\n",
    "batting = Table.read_table('https://raw.githubusercontent.com/emeyers/SDS173/master/data/Batting.csv')  \n"
   ]
  },
  {
   "cell_type": "markdown",
   "metadata": {},
   "source": [
    "The final line of the code above reads-in the dataset and assigns the dataset to the name `batting`. Notice also that there is a note above the line of code that loads the data which begins with the `#` symbol.  Python ignores anything following the `#` and it is a great way to add documentation and notes to your code (these lines are called `comments`).   \n",
    "\n",
    "We've loaded the data, now what is it and how do we work with it?  We can display the first 5 rows of the `batting` table using the code below.  "
   ]
  },
  {
   "cell_type": "code",
   "execution_count": 10,
   "metadata": {},
   "outputs": [
    {
     "data": {
      "text/html": [
       "<table border=\"1\" class=\"dataframe\">\n",
       "    <thead>\n",
       "        <tr>\n",
       "            <th>playerID</th> <th>yearID</th> <th>stint</th> <th>teamID</th> <th>lgID</th> <th>G</th> <th>AB</th> <th>R</th> <th>H</th> <th>2B</th> <th>3B</th> <th>HR</th> <th>RBI</th> <th>SB</th> <th>CS</th> <th>BB</th> <th>SO</th> <th>IBB</th> <th>HBP</th> <th>SH</th> <th>SF</th> <th>GIDP</th>\n",
       "        </tr>\n",
       "    </thead>\n",
       "    <tbody>\n",
       "        <tr>\n",
       "            <td>abercda01</td> <td>1871  </td> <td>1    </td> <td>TRO   </td> <td>nan </td> <td>1   </td> <td>4   </td> <td>0   </td> <td>0   </td> <td>0   </td> <td>0   </td> <td>0   </td> <td>0   </td> <td>0   </td> <td>0   </td> <td>0   </td> <td>0   </td> <td>nan </td> <td>nan </td> <td>nan </td> <td>nan </td> <td>0   </td>\n",
       "        </tr>\n",
       "        <tr>\n",
       "            <td>addybo01 </td> <td>1871  </td> <td>1    </td> <td>RC1   </td> <td>nan </td> <td>25  </td> <td>118 </td> <td>30  </td> <td>32  </td> <td>6   </td> <td>0   </td> <td>0   </td> <td>13  </td> <td>8   </td> <td>1   </td> <td>4   </td> <td>0   </td> <td>nan </td> <td>nan </td> <td>nan </td> <td>nan </td> <td>0   </td>\n",
       "        </tr>\n",
       "        <tr>\n",
       "            <td>allisar01</td> <td>1871  </td> <td>1    </td> <td>CL1   </td> <td>nan </td> <td>29  </td> <td>137 </td> <td>28  </td> <td>40  </td> <td>4   </td> <td>5   </td> <td>0   </td> <td>19  </td> <td>3   </td> <td>1   </td> <td>2   </td> <td>5   </td> <td>nan </td> <td>nan </td> <td>nan </td> <td>nan </td> <td>1   </td>\n",
       "        </tr>\n",
       "        <tr>\n",
       "            <td>allisdo01</td> <td>1871  </td> <td>1    </td> <td>WS3   </td> <td>nan </td> <td>27  </td> <td>133 </td> <td>28  </td> <td>44  </td> <td>10  </td> <td>2   </td> <td>2   </td> <td>27  </td> <td>1   </td> <td>1   </td> <td>0   </td> <td>2   </td> <td>nan </td> <td>nan </td> <td>nan </td> <td>nan </td> <td>0   </td>\n",
       "        </tr>\n",
       "        <tr>\n",
       "            <td>ansonca01</td> <td>1871  </td> <td>1    </td> <td>RC1   </td> <td>nan </td> <td>25  </td> <td>120 </td> <td>29  </td> <td>39  </td> <td>11  </td> <td>3   </td> <td>0   </td> <td>16  </td> <td>6   </td> <td>2   </td> <td>2   </td> <td>1   </td> <td>nan </td> <td>nan </td> <td>nan </td> <td>nan </td> <td>0   </td>\n",
       "        </tr>\n",
       "    </tbody>\n",
       "</table>\n",
       "<p>... (108784 rows omitted)</p>"
      ],
      "text/plain": [
       "<IPython.core.display.HTML object>"
      ]
     },
     "metadata": {},
     "output_type": "display_data"
    }
   ],
   "source": [
    "batting.show(5)"
   ]
  },
  {
   "cell_type": "markdown",
   "metadata": {},
   "source": [
    "**Note**: do not run the `my_table.show()` method without specifying a numerical argument when you have a table that is very large (as is the case with this table), since it will cause the Jupyter notebook to have problems running!\n",
    "\n",
    "How large is this table? We can assess the number of rows in the full table using the syntax `my_table.num_columns` and `my_table.num_rows`. \n",
    "\n",
    "**Question 3.1.** What does each row represent, what do the columns represent? Also, how many rows and columns are there in the batting table?  \n",
    "\n",
    "\n",
    "**Answers:**\n",
    "\n",
    "\n"
   ]
  },
  {
   "cell_type": "code",
   "execution_count": null,
   "metadata": {},
   "outputs": [],
   "source": []
  },
  {
   "cell_type": "markdown",
   "metadata": {},
   "source": [
    "## 3.2 Selecting a subset of columns from a table\n",
    "\n",
    "We can select a subset of columns using the `mytable.select()` method.  For example, to select columns 0, 1, and 5 and print them out we can use the syntax: `my_table.select(0,1,5)`. Notice that the indexing starts at 0, not 1! \n",
    "\n",
    "We can also select columns by name using the sytax: `my_table.select('col_name_1', 'col_name_2', 'col_name3')`\n",
    "\n",
    "**Question 3.2** Select the columns `playerID`, `yearID`, and `HR` from the batting table. What is a reason why it might be useful to select a subset of columns?\n",
    "\n",
    "**Answer:** \n"
   ]
  },
  {
   "cell_type": "code",
   "execution_count": null,
   "metadata": {},
   "outputs": [],
   "source": []
  },
  {
   "cell_type": "markdown",
   "metadata": {},
   "source": [
    "## 3.3 Selecting a subset of rows from a table\n",
    "\n",
    "To select rows from a table, we can use the `take()` method. For example, we can select rows 2, 5, and 6 using the syntax: `my_table.take((2,5,6))`. \n",
    "\n",
    "\n",
    "**Question 3.3:** Select the columns games, home runs, and stolen bases, and the rows 65469, 74270, 77656, and 88497 from the batting table. Do this with **a single line of Python code**! Is there anything similar about these players' statistics?  \n",
    "\n",
    "**Answer**: \n"
   ]
  },
  {
   "cell_type": "code",
   "execution_count": null,
   "metadata": {},
   "outputs": [],
   "source": [
    "\n",
    "\n"
   ]
  },
  {
   "cell_type": "markdown",
   "metadata": {},
   "source": [
    "## 3.4 Using methods on values in a column of data in a table\n",
    "\n",
    "The Table objects in the datascience package also have methods that can operate on the values in a column. For example, we can sum the values in a column using the `my_table.sum()` method. **Note**, if you use this method on a table that contains values that are not numbers you will get an error message. \n",
    "\n",
    "\n",
    "**Question 3.4**. What is the total number of home runs that have been hit from 1871 through the 2020 season?\n",
    "\n",
    "**Answer:** \n"
   ]
  },
  {
   "cell_type": "code",
   "execution_count": null,
   "metadata": {},
   "outputs": [],
   "source": []
  },
  {
   "cell_type": "markdown",
   "metadata": {},
   "source": [
    "## 3.5 Sorting values in a column of data in a table\n",
    "\n",
    "We can also sort values in a table using the `my_table.sort('col_name')` method. If we want to sort the columns from largest value to the smallest value we can set the additional argument `descending = True` (i.e., `my_table.sort('col_name', descending = True)`. \n",
    "\n",
    "\n",
    "**Question 3.5**. Use the sort function to find the player who has hit the most triples in a season. Can you figure out who this player is? \n",
    "\n",
    "\n",
    "**Answer**:  \n",
    "\n"
   ]
  },
  {
   "cell_type": "code",
   "execution_count": null,
   "metadata": {},
   "outputs": [],
   "source": []
  },
  {
   "cell_type": "markdown",
   "metadata": {},
   "source": [
    "## 4. Exploring the Lahman batting data on your own\n",
    "\n",
    "Continue to explore the Lahman batting data on your own and report three findings you think are interesting. Also describe any additional capabilities you wish you knew how to do that would enable you to answer additional interesting questions.\n",
    "\n",
    "\n"
   ]
  },
  {
   "cell_type": "markdown",
   "metadata": {},
   "source": [
    "**Conclusion:** Great job!  You have finished the first lab.  Remember that this lab is not graded, though the remaining labs this semester will be submitted for a grade."
   ]
  }
 ],
 "metadata": {
  "anaconda-cloud": {},
  "kernelspec": {
   "display_name": "Python 3",
   "language": "python",
   "name": "python3"
  },
  "language_info": {
   "codemirror_mode": {
    "name": "ipython",
    "version": 3
   },
   "file_extension": ".py",
   "mimetype": "text/x-python",
   "name": "python",
   "nbconvert_exporter": "python",
   "pygments_lexer": "ipython3",
   "version": "3.7.3"
  }
 },
 "nbformat": 4,
 "nbformat_minor": 2
}
