{
 "cells": [
  {
   "cell_type": "markdown",
   "metadata": {},
   "source": [
    "# Baseball Lab 3\n",
    "\n",
    "Welcome to the third baseball lab. This lab is due on Gradescope on **Monday, March 1st at 11:30pm**. \n",
    "\n",
    "Note, you might find this lab more challenging than previous labs, so I recommend that you get started early on it. As always, you are welcome to work with others on the lab, but if you do work with others after class, please note on the reflection quiz who you worked with. \n",
    "\n",
    "If you have questions about the homework please use [Ed discussions](https://edstem.org/us/courses/4202/discussion/) so that everyone can benefit from your question. Additionally, please answer questions others raise on Ed discussions. Finally, please feel free to attend Neel's and my office hours for additional help. \n",
    "\n",
    "\n",
    "\n",
    "#### Today's Baseball Lab\n",
    "\n",
    "The main focus of today's lab will be to practice data manipulation exercises by exploring the probability that a home team will win a game, given the inning, the number of outs and the score.  \n",
    "\n",
    "The relevant textbook reference for this lab is [Chapter 6](https://www.inferentialthinking.com/chapters/06/Tables.html), and [Chapter 8](https://www.inferentialthinking.com/chapters/08/Functions_and_Tables.html). Reading these chapters will be very helpful for completing this lab.\n",
    "\n",
    "All exercises that we will do today will use the retrosheet play-by-play data. A table called `retro_data` which has this data is loaded below, along with a few libraries we will use. As we have previously discussed, a codebook that describes the columns in the data table can be found at: http://www.retrosheet.org/datause.txt "
   ]
  },
  {
   "cell_type": "code",
   "execution_count": 25,
   "metadata": {},
   "outputs": [
    {
     "name": "stderr",
     "output_type": "stream",
     "text": [
      "C:\\ProgramData\\Anaconda3\\lib\\site-packages\\IPython\\core\\interactiveshell.py:3057: DtypeWarning: Columns (63,64,65,85) have mixed types. Specify dtype option on import or set low_memory=False.\n",
      "  interactivity=interactivity, compiler=compiler, result=result)\n"
     ]
    },
    {
     "data": {
      "text/html": [
       "<table border=\"1\" class=\"dataframe\">\n",
       "    <thead>\n",
       "        <tr>\n",
       "            <th>GAME_ID</th> <th>AWAY_TEAM_ID</th> <th>INN_CT</th> <th>BAT_HOME_ID</th> <th>OUTS_CT</th> <th>BALLS_CT</th> <th>STRIKES_CT</th> <th>PITCH_SEQ_TX</th> <th>AWAY_SCORE_CT</th> <th>HOME_SCORE_CT</th> <th>BAT_ID</th> <th>BAT_HAND_CD</th> <th>RESP_BAT_ID</th> <th>RESP_BAT_HAND_CD</th> <th>PIT_ID</th> <th>PIT_HAND_CD</th> <th>RESP_PIT_ID</th> <th>RESP_PIT_HAND_CD</th> <th>POS2_FLD_ID</th> <th>POS3_FLD_ID</th> <th>POS4_FLD_ID</th> <th>POS5_FLD_ID</th> <th>POS6_FLD_ID</th> <th>POS7_FLD_ID</th> <th>POS8_FLD_ID</th> <th>POS9_FLD_ID</th> <th>BASE1_RUN_ID</th> <th>BASE2_RUN_ID</th> <th>BASE3_RUN_ID</th> <th>EVENT_TX</th> <th>LEADOFF_FL</th> <th>PH_FL</th> <th>BAT_FLD_CD</th> <th>BAT_LINEUP_ID</th> <th>EVENT_CD</th> <th>BAT_EVENT_FL</th> <th>AB_FL</th> <th>H_FL</th> <th>SH_FL</th> <th>SF_FL</th> <th>EVENT_OUTS_CT</th> <th>DP_FL</th> <th>TP_FL</th> <th>RBI_CT</th> <th>WP_FL</th> <th>PB_FL</th> <th>FLD_CD</th> <th>BATTEDBALL_CD</th> <th>BUNT_FL</th> <th>FOUL_FL</th> <th>BATTEDBALL_LOC_TX</th> <th>ERR_CT</th> <th>ERR1_FLD_CD</th> <th>ERR1_CD</th> <th>ERR2_FLD_CD</th> <th>ERR2_CD</th> <th>ERR3_FLD_CD</th> <th>ERR3_CD</th> <th>BAT_DEST_ID</th> <th>RUN1_DEST_ID</th> <th>RUN2_DEST_ID</th> <th>RUN3_DEST_ID</th> <th>BAT_PLAY_TX</th> <th>RUN1_PLAY_TX</th> <th>RUN2_PLAY_TX</th> <th>RUN3_PLAY_TX</th> <th>RUN1_SB_FL</th> <th>RUN2_SB_FL</th> <th>RUN3_SB_FL</th> <th>RUN1_CS_FL</th> <th>RUN2_CS_FL</th> <th>RUN3_CS_FL</th> <th>RUN1_PK_FL</th> <th>RUN2_PK_FL</th> <th>RUN3_PK_FL</th> <th>RUN1_RESP_PIT_ID</th> <th>RUN2_RESP_PIT_ID</th> <th>RUN3_RESP_PIT_ID</th> <th>GAME_NEW_FL</th> <th>GAME_END_FL</th> <th>PR_RUN1_FL</th> <th>PR_RUN2_FL</th> <th>PR_RUN3_FL</th> <th>REMOVED_FOR_PR_RUN1_ID</th> <th>REMOVED_FOR_PR_RUN2_ID</th> <th>REMOVED_FOR_PR_RUN3_ID</th> <th>REMOVED_FOR_PH_BAT_ID</th> <th>REMOVED_FOR_PH_BAT_FLD_CD</th> <th>PO1_FLD_CD</th> <th>PO2_FLD_CD</th> <th>PO3_FLD_CD</th> <th>ASS1_FLD_CD</th> <th>ASS2_FLD_CD</th> <th>ASS3_FLD_CD</th> <th>ASS4_FLD_CD</th> <th>ASS5_FLD_CD</th> <th>EVENT_ID</th>\n",
       "        </tr>\n",
       "    </thead>\n",
       "    <tbody>\n",
       "        <tr>\n",
       "            <td>ANA201904040</td> <td>TEX         </td> <td>1     </td> <td>0          </td> <td>0      </td> <td>2       </td> <td>2         </td> <td>FBBCH       </td> <td>0            </td> <td>0            </td> <td>choos001</td> <td>L          </td> <td>choos001   </td> <td>L               </td> <td>harvm001</td> <td>R          </td> <td>harvm001   </td> <td>R               </td> <td>lucrj001   </td> <td>bourj002   </td> <td>lastt001   </td> <td>cozaz001   </td> <td>simma001   </td> <td>goodb001   </td> <td>troum001   </td> <td>calhk001   </td> <td>nan         </td> <td>nan         </td> <td>nan         </td> <td>HP      </td> <td>True      </td> <td>False</td> <td>9         </td> <td>1            </td> <td>16      </td> <td>True        </td> <td>False</td> <td>0   </td> <td>False</td> <td>False</td> <td>0            </td> <td>False</td> <td>False</td> <td>0     </td> <td>False</td> <td>False</td> <td>0     </td> <td>nan          </td> <td>False  </td> <td>False  </td> <td>nan              </td> <td>0     </td> <td>0          </td> <td>N      </td> <td>0          </td> <td>N      </td> <td>0          </td> <td>N      </td> <td>1          </td> <td>0           </td> <td>0           </td> <td>0           </td> <td>nan        </td> <td>nan         </td> <td>nan         </td> <td>nan         </td> <td>False     </td> <td>False     </td> <td>False     </td> <td>False     </td> <td>False     </td> <td>False     </td> <td>False     </td> <td>False     </td> <td>False     </td> <td>nan             </td> <td>nan             </td> <td>nan             </td> <td>True       </td> <td>False      </td> <td>False     </td> <td>False     </td> <td>False     </td> <td>nan                   </td> <td>nan                   </td> <td>nan                   </td> <td>nan                  </td> <td>0                        </td> <td>0         </td> <td>0         </td> <td>0         </td> <td>0          </td> <td>0          </td> <td>0          </td> <td>0          </td> <td>0          </td> <td>1       </td>\n",
       "        </tr>\n",
       "        <tr>\n",
       "            <td>ANA201904040</td> <td>TEX         </td> <td>1     </td> <td>0          </td> <td>0      </td> <td>1       </td> <td>2         </td> <td>BFSS        </td> <td>0            </td> <td>0            </td> <td>odorr001</td> <td>L          </td> <td>odorr001   </td> <td>L               </td> <td>harvm001</td> <td>R          </td> <td>harvm001   </td> <td>R               </td> <td>lucrj001   </td> <td>bourj002   </td> <td>lastt001   </td> <td>cozaz001   </td> <td>simma001   </td> <td>goodb001   </td> <td>troum001   </td> <td>calhk001   </td> <td>choos001    </td> <td>nan         </td> <td>nan         </td> <td>K       </td> <td>False     </td> <td>False</td> <td>4         </td> <td>2            </td> <td>3       </td> <td>True        </td> <td>True </td> <td>0   </td> <td>False</td> <td>False</td> <td>1            </td> <td>False</td> <td>False</td> <td>0     </td> <td>False</td> <td>False</td> <td>0     </td> <td>nan          </td> <td>False  </td> <td>False  </td> <td>nan              </td> <td>0     </td> <td>0          </td> <td>N      </td> <td>0          </td> <td>N      </td> <td>0          </td> <td>N      </td> <td>0          </td> <td>1           </td> <td>0           </td> <td>0           </td> <td>2          </td> <td>nan         </td> <td>nan         </td> <td>nan         </td> <td>False     </td> <td>False     </td> <td>False     </td> <td>False     </td> <td>False     </td> <td>False     </td> <td>False     </td> <td>False     </td> <td>False     </td> <td>harvm001        </td> <td>nan             </td> <td>nan             </td> <td>False      </td> <td>False      </td> <td>False     </td> <td>False     </td> <td>False     </td> <td>nan                   </td> <td>nan                   </td> <td>nan                   </td> <td>nan                  </td> <td>0                        </td> <td>2         </td> <td>0         </td> <td>0         </td> <td>0          </td> <td>0          </td> <td>0          </td> <td>0          </td> <td>0          </td> <td>2       </td>\n",
       "        </tr>\n",
       "        <tr>\n",
       "            <td>ANA201904040</td> <td>TEX         </td> <td>1     </td> <td>0          </td> <td>1      </td> <td>1       </td> <td>2         </td> <td>CCBX        </td> <td>0            </td> <td>0            </td> <td>andre001</td> <td>R          </td> <td>andre001   </td> <td>R               </td> <td>harvm001</td> <td>R          </td> <td>harvm001   </td> <td>R               </td> <td>lucrj001   </td> <td>bourj002   </td> <td>lastt001   </td> <td>cozaz001   </td> <td>simma001   </td> <td>goodb001   </td> <td>troum001   </td> <td>calhk001   </td> <td>choos001    </td> <td>nan         </td> <td>nan         </td> <td>S9/L.1-2</td> <td>False     </td> <td>False</td> <td>10        </td> <td>3            </td> <td>20      </td> <td>True        </td> <td>True </td> <td>1   </td> <td>False</td> <td>False</td> <td>0            </td> <td>False</td> <td>False</td> <td>0     </td> <td>False</td> <td>False</td> <td>9     </td> <td>L            </td> <td>False  </td> <td>False  </td> <td>nan              </td> <td>0     </td> <td>0          </td> <td>N      </td> <td>0          </td> <td>N      </td> <td>0          </td> <td>N      </td> <td>1          </td> <td>2           </td> <td>0           </td> <td>0           </td> <td>nan        </td> <td>nan         </td> <td>nan         </td> <td>nan         </td> <td>False     </td> <td>False     </td> <td>False     </td> <td>False     </td> <td>False     </td> <td>False     </td> <td>False     </td> <td>False     </td> <td>False     </td> <td>harvm001        </td> <td>nan             </td> <td>nan             </td> <td>False      </td> <td>False      </td> <td>False     </td> <td>False     </td> <td>False     </td> <td>nan                   </td> <td>nan                   </td> <td>nan                   </td> <td>nan                  </td> <td>0                        </td> <td>0         </td> <td>0         </td> <td>0         </td> <td>0          </td> <td>0          </td> <td>0          </td> <td>0          </td> <td>0          </td> <td>3       </td>\n",
       "        </tr>\n",
       "    </tbody>\n",
       "</table>\n",
       "<p>... (192024 rows omitted)</p>"
      ],
      "text/plain": [
       "<IPython.core.display.HTML object>"
      ]
     },
     "metadata": {},
     "output_type": "display_data"
    }
   ],
   "source": [
    "from datascience import *\n",
    "import numpy as np\n",
    "import pandas as pd\n",
    "%matplotlib inline\n",
    "\n",
    "data_url = 'https://raw.githubusercontent.com/emeyers/SDS173/master/data/compressed_retro_data/all_2019.gz'\n",
    "\n",
    "retro_data = Table.from_df(pd.read_csv(data_url))\n",
    "\n",
    "retro_data.show(3)"
   ]
  },
  {
   "cell_type": "markdown",
   "metadata": {},
   "source": [
    "# 1. Warm-up exercises\n",
    "\n",
    "Before we get started with our main exercise of calculating the probability of winning given the inning and the score, let's do a couple of warm up exercises to practice manipulating and visualizing data. Please try to do these on your own to make sure you are comfortable solving data manipulation problems by yourself. \n",
    "\n",
    "\n",
    "## 1.1 Plotting the batting average and slugging percentage for all strikes and ball counts (10 points)\n",
    "\n",
    "Using the retro data from the 2019 season, see if you can plot the *batting average* and *slugging percentage* for each ball and strike count. This table should have, 12 rows and four columns. The columns should be:\n",
    "\n",
    "1. `BALLS_CT`: The ball count (repeating values in range of 0-3) \n",
    "2. `STRIKES_CT`: The strike count (repeating values of 0-2) \n",
    "3. `Slg`: the average slugging percentage for a given count \n",
    "4. `BA` : the average batting average for a given count\n",
    "\n",
    "Hints: \n",
    "- Looking at all the columns in the retro data frame to determine which ones you need is a good first step. In particular, using the `AB_FL` and `H_FL` columns will be helpful.\n",
    "- To give you a sense of the difficulty of this problem, my solution had ~7 lines of code (although I wrote my code in a fairly compact way). \n"
   ]
  },
  {
   "cell_type": "code",
   "execution_count": null,
   "metadata": {},
   "outputs": [],
   "source": [
    "\n",
    "\n",
    "\n",
    "\n"
   ]
  },
  {
   "cell_type": "markdown",
   "metadata": {},
   "source": [
    "## 1.2 Mapping baseball stadiums (4 points)\n",
    "\n",
    "The code below loads data that has the location of every major league baseball stadium. Use the `datascience` package to create a map that has the location of all baseball stadiums drawn as circles. Hint: see [chapter 8.3 of the class textbook] \n",
    "(https://www.inferentialthinking.com/chapters/08/5/Bike_Sharing_in_the_Bay_Area.html)"
   ]
  },
  {
   "cell_type": "code",
   "execution_count": 72,
   "metadata": {},
   "outputs": [],
   "source": [
    "\n",
    "stadiums = Table.read_table('https://raw.githubusercontent.com/emeyers/SDS173/master/data/mlb_stadium.csv')  \n",
    "\n",
    "# Create map with cirlces for each baseball stadium\n",
    "\n",
    "\n",
    "\n"
   ]
  },
  {
   "cell_type": "markdown",
   "metadata": {},
   "source": [
    "# Part 2: Exploring the probability of winning a game\n",
    "\n",
    "The first major league baseball game I attended was on July 16th 1988, where the Boston Red Sox played the Kansas City Royals. By the 6th inning, the Red Sox were down 6-0. Amazingly, the Red Sox made a come back and ended up winning the game 7-6 on a walk off home run by [Kevin Romine](https://www.youtube.com/watch?v=vXsg9Ail19k). The goal of this set of exercises is to assess the probability of such a comeback given the score and the inning.\n",
    "\n",
    "\n",
    "## 2.1 Interpreting what the 'probability of winning' means\n",
    "\n",
    "In order to calculate the probability of such a comeback, we will create a table that calculates the probability that a home team will win a baseball game given the inning and the score. In particular, the rows of this probability table will show the inning/number of outs, and the columns will show the score difference (home - away score). We will create this probability table from retro data from the 2019 season which was loaded above.\n",
    "\n",
    "**Exercise 2.1 (5 points):** To start, write a few sentences about what is meant by the term \"probability of the home team winning a game given the inning and score\". Also state whether you think using data from the 2019 season is valid for assessing the probability of winning a game that occurred in 1988.\n",
    "\n",
    "**Answer:** \n",
    "\n",
    "\n",
    "\n"
   ]
  },
  {
   "cell_type": "markdown",
   "metadata": {},
   "source": [
    "## 2.2 Thinking about the steps needed to create the win probability table\n",
    "\n",
    "As described above, the goal for this exercises is to create a \"win probability table\" where:\n",
    "\n",
    "1. The rows are the innings-out combinations written in the form: `inning_num.out_num` For example, the 7th inning with 1 out would be denoted as 7.1\n",
    "\n",
    "2. The columns are the differences in the runs that that home team has scored minus the number of runs that the visiting team scored. We will have the range of the columns go from -7 to 7. For example, the value of -5 will indicate that the home team is losing by 5 runs. Additionally, the values of -7 will indicate that the home team is losing by 7 **or more** runs, and +7 will indicate the home team is winning by 7 or more runs. \n",
    "\n",
    "3. The values in the table are estimates of the probability that the home team will win the game. \n",
    "\n",
    "\n",
    "**Exercise 2.2 (6 points):** When trying to manipulate data to derive new data tables, it is very useful to think about the steps that are needed before doing any coding. When trying to figure out these steps, it is useful to think both in the forward direction, starting with the initial data you have, and also in the backward direction, starting with the final table you want to generate. \n",
    "\n",
    "Let's think about the steps in the backward direction. In particular, suppose that for the *second to last* step you had a table called `simplified_table` that had the following columns: \n",
    "\n",
    "1. A column of strings called `INN_OUT_COMBO`  that has the inning.out combination listed for each inning.out in a season.\n",
    "2. A column of numbers called `SCORE_DIFF`  that has the difference in runs between the home and away team for each inning.out listed.\n",
    "3. A column  of boolean values (1's and 0's) called `HOME_WIN` that indicated whether the home team won the game for each inning.out listed.\n",
    "\n",
    "If you had this table, what Table method could you use to create the win probability table, and what arguments would you supply to this method? \n",
    "\n",
    "\n",
    "**Answer:**\n",
    "\n",
    "\n",
    " "
   ]
  },
  {
   "cell_type": "markdown",
   "metadata": {},
   "source": [
    "## 2.3 Creating the SCORE_DIFF column\n",
    "\n",
    "Let's now start our actual data manipulation in the forward direction where we begin with the `retro_data` table. In particular, we will try to derive the `simplified_table` described above in exercise 2.2, and then we will apply the final step to calculate the win probability table.\n",
    "\n",
    "**Exercise 2.3 (5 points)**:  To begin, let's make the data more manageable, by reducing the `retro_data` table down to only the columns you think you will need for subsequent analyses and save this reduced table to the name `retro_data2` (if you are in doubt whether you will need a column then leave it in). \n",
    "\n",
    "Once you have the `retro_data2` table, then add the `SCORE_DIFF` column to the `retro_data2` table which has the difference between the home and away score. \n"
   ]
  },
  {
   "cell_type": "code",
   "execution_count": null,
   "metadata": {},
   "outputs": [],
   "source": [
    "\n",
    "\n",
    "\n"
   ]
  },
  {
   "cell_type": "markdown",
   "metadata": {},
   "source": [
    "## 2.4 Creating the INN_OUT_COMBO column\n",
    "\n",
    "**Exercise 2.4 (7 points)**:  Next let's add the `INN_OUT_COMBO` column to the `retro_data2` table. To do this, first create a name called `combo_inning_out` which is a vector of strings in the format `inning.outs`. Some functions that will be useful to do this are: \n",
    "\n",
    "- `ndarray.astype('str')`: converts an ndarray of numbers to an ndarray of strings.\n",
    "- `np.char.add('string1', 'string2')`: combines element by element two ndarrays of strings.\n",
    "\n",
    "Once you have the `combo_inning_out` ndarray of strings, convert it to an ndarray of numbers (doubles) using the `ndarray.astype('double')` method. Finally, add this as the `INN_OUT_COMBO` column to the `retro_data2` table and print the first three rows of this table. \n"
   ]
  },
  {
   "cell_type": "code",
   "execution_count": null,
   "metadata": {},
   "outputs": [],
   "source": [
    "\n",
    "\n",
    "\n",
    "\n"
   ]
  },
  {
   "cell_type": "markdown",
   "metadata": {},
   "source": [
    "## 2.5.1 Creating the HOME_WIN column - part 1\n",
    "\n",
    "Let's now start on a series of steps to create the `HOME_WIN` column which indicates whether the home team won the game for each play in the game. This can be done by first creating a `end_of_game_table` that indicates for each game (`GAME_ID`) whether the home team has won. We can then join this on to the `retro_data` table to indicate for each play, whether the home team ended up winning the game.\n",
    "\n",
    "More specifically, we can create add the `HOME_WIN` column to the `retro_data2` table using the following steps:\n",
    "\n",
    "1. Create a table `end_of_game_table` that has the last play of every game.\n",
    "\n",
    "2. Look at the `end_of_game_table` to determine whether the home team has won by looking at 3 cases:\n",
    "\n",
    "    a. The visiting team is batting and there are 3 outs (home team win)\n",
    "    \n",
    "    b. The home team is batting and there are 3 outs (home team loss)\n",
    "    \n",
    "    c. The home team is batting and there are less than 3 outs (walk off home team win)\n",
    "    \n",
    "3. Based on the three cases above, create a table `home_team_win_table` that has two columns which indicate for each game (`GAME_ID`) if the home team won (`HOME_WIN`).\n",
    "\n",
    "4. Join the `retro_data2` with the `home_team_win_table` to list for every play in every game (i.e., each inning.out run differential in every game), whether the home team ended up winning the game.\n",
    "\n",
    "Before continuing on, please make sure these steps make sense to you!\n",
    "\n",
    "\n",
    "**Exercise 2.5.1 (5 points)**: Let's start with the first step above by creating the `end_of_game_table` that contains only the last play of every game (hint, there is a column in the `retro_data` that makes this easy). Then, add a column to this table called `FINAL_NUM_OUT` which contains how many outs there were at the end of the game. Please also print the first 3 rows of this table to see that you are on the right track. \n",
    "\n"
   ]
  },
  {
   "cell_type": "code",
   "execution_count": null,
   "metadata": {},
   "outputs": [],
   "source": [
    "\n",
    "\n",
    "\n",
    "\n"
   ]
  },
  {
   "cell_type": "markdown",
   "metadata": {},
   "source": [
    "## 2.5.2 Creating the HOME_WIN column - part 2\n",
    "\n",
    "Now let's assess the three scenarios for how the game could have ended that are listed in section 2.5.1, step 2 parts a, b, and c. \n",
    "\n",
    "**Exercise 2.5.2 (7 points)**: Please create the following three names that indicate how the game ended:\n",
    "\n",
    "  a. Create a table `visiting_team_loss` that has the games that ended with three outs and the visiting team was batting. \n",
    "\n",
    "  b. Create a table `home_team_loss` that has the games that ended with three outs and the home team was batting. \n",
    "\n",
    "  c. Create a table called `home_team_walk_off_win` that has the games ended with the home team batting and there were not three outs. \n",
    "\n",
    "Then as a sanity check that you have covered most of the scenarios, print the sum of the number of rows in the `visiting_team_loss`, `home_team_loss` and `home_team_walk_off_win` and show that it is almost equal to the number of rows in the `end_of_game_table` table. \n",
    "\n",
    "Bonus: see if you can figure out why these numbers are not exactly the same. \n"
   ]
  },
  {
   "cell_type": "code",
   "execution_count": null,
   "metadata": {},
   "outputs": [],
   "source": [
    "\n",
    "\n",
    "\n",
    "\n",
    "\n",
    "\n",
    "\n",
    "\n",
    "\n",
    "\n"
   ]
  },
  {
   "cell_type": "markdown",
   "metadata": {},
   "source": [
    "## 2.5.3 Creating the HOME_WIN column - part 3\n",
    "\n",
    "We are now getting close to having the `HOME_WIN` column. Let's now do a few more steps to add this column to our `retro_data2` table. \n",
    "\n",
    "**Exercise 2.5.3 (7 points)**: As mentioned above, to create this column we can convert the tables `visiting_team_loss`,  `home_team_loss` and `home_team_walk_off_win` into tables that only have two columns which are the `GAME_ID`, and the new column `HOME_WIN` that has a 1 if the home team has won and a 0 if the home team has lost. Please go ahead and do this, and then vertically append these tables together to create a `total_home_team_win_table`. Finally, join the `total_home_team_win_table` on to the `retro_data2` table and save the result in the name `retro_data3`. Please also print the first 3 rows of the `retro_data3` table to check that you are on the right track. \n"
   ]
  },
  {
   "cell_type": "code",
   "execution_count": null,
   "metadata": {},
   "outputs": [],
   "source": [
    "\n",
    "\n",
    "\n",
    "\n",
    "\n"
   ]
  },
  {
   "cell_type": "markdown",
   "metadata": {},
   "source": [
    "## 2.6 Preparing to create the win probability table\n",
    "\n",
    "Now that we have the columns we need, we are very close to being able to produce our win probability table. As a final step before creating the win probability table, let's create a table called `simplified_table` that has a cleaned up version of the `retro_data3` table by doing the steps outlined below.\n",
    "\n",
    "\n",
    "**Exercise 2.6 (8 points)**: Please create the `simplified_table` that is a cleaned version `retro_data3` by doing the following: \n",
    "\n",
    "1. Make sure you are only counting events that are plate appearances. \n",
    "\n",
    "2. Make all games that go to extra innings count as just 10 innings. \n",
    "\n",
    "3. Make all score differentials of more than -7 equal to -7\n",
    "\n",
    "4. Similarly, make all score differentials of more than +7 equal to +7\n"
   ]
  },
  {
   "cell_type": "code",
   "execution_count": null,
   "metadata": {},
   "outputs": [],
   "source": [
    "\n",
    "\n",
    "\n",
    "\n",
    "\n"
   ]
  },
  {
   "cell_type": "markdown",
   "metadata": {},
   "source": [
    "## 2.7 Creating the win probability table\n",
    "\n",
    "We are now ready to create the win probability table!\n",
    "\n",
    "**Exercise 2.7 (5 points)**: Please go ahead and apply the transformation you discussed in exercise 2.2 to the `simplified_table` to create the `win_probability_table`. Show the full table and report the percent of the time that a team that is down by 6 runs in the bottom of the 6th inning will end up winning the game.\n",
    "\n",
    "**Answer**: \n"
   ]
  },
  {
   "cell_type": "code",
   "execution_count": null,
   "metadata": {},
   "outputs": [],
   "source": [
    "\n",
    "\n",
    "\n",
    "\n"
   ]
  },
  {
   "cell_type": "markdown",
   "metadata": {},
   "source": [
    "## 2.8 Visualizing the results\n",
    "\n",
    "Let's also visualize the win probabilities. \n",
    "\n",
    "**Exercise 2.8 (5 points)**:  To visualize the win probabilities, please plot the win probability as a function of inning/out combination by creating a separate line for each score differential ranging from -3 to +3 (i.e., your final plot should have 7 lines on it).  \n",
    "\n",
    "**Bonus:** See if you can figure out how to use the seaborn library to create a heat map of all the win probabilities. Hint, converting the Table to a pandas data frame will be a good first step to do this. \n"
   ]
  },
  {
   "cell_type": "code",
   "execution_count": 1,
   "metadata": {},
   "outputs": [],
   "source": [
    "%matplotlib inline\n",
    "\n"
   ]
  },
  {
   "cell_type": "code",
   "execution_count": 73,
   "metadata": {},
   "outputs": [],
   "source": [
    "import seaborn as sns\n",
    "sns.set()\n",
    "\n",
    "\n",
    "\n"
   ]
  },
  {
   "cell_type": "markdown",
   "metadata": {},
   "source": [
    "## 2.9 Examining how often did each inning/out run differential occur\n",
    "\n",
    "In order to get a sense of how much we should trust our probability estimates for different inning/out and run differential combinations, it is useful to know how many games went into each probability estimate value. Let's do this now. \n",
    "\n",
    "**Exercise 2.9 (6 points)**:  Please create a table called `win_probability_count_table` that shows the counts for how often each pair of (inning-outs, run differentials) occurred that went into the `win_probability_table`. Report the number of games in the 2019 season in which the home team was losing by six runs in the bottom of the sixth inning. Based on this number, should we have much trust in the estimate we came up with in exercise 2.7? \n",
    "\n",
    "**Answer**: \n"
   ]
  },
  {
   "cell_type": "code",
   "execution_count": null,
   "metadata": {},
   "outputs": [],
   "source": [
    "\n",
    "\n",
    "\n",
    "\n"
   ]
  },
  {
   "cell_type": "markdown",
   "metadata": {},
   "source": [
    "# 2.10 Plotting the win probability for the full Red Sox game on July 16th 1988\n",
    "\n",
    "Let's now plot the win probability for the full Red Sox Royals game on July 16th 1988, by showing the win probabilities as a function of each inning/out. \n",
    "\n",
    "**Exercise 2.10 (12 points)**: The code below loads the retrosheet play-by-play data from the 1988 season and creates a table called `game_of_interest` that has the Red Sox game played on July 16 1988. Starting from this `game_of_interest` table, apply several data manipulation steps and to create a plot of the probability that the Red Sox would win the game for each play in the game; i.e., the x-axis should be the inning-out combination starting from the bottom of the first and going to the end of the game, and the y-axis should be the probability the Red Sox will win. \n",
    "\n",
    "Hints: \n",
    "- Creating this plot will involving going through several of the steps you have done previously on the `game_of_interest` table.\n",
    "- For one step in this process, it will be useful to create a table `win_probability_long_table` which is a version of the `win_probability_table` but in a long format where there are three columns which are: 1) `SCORE_DIFF`, 2) `INN_OUT_COMBO`, 3) the home win probabilities (start with the `simplified_table` you created above to create the `win_probability_long_table`). You can then join this `win_probability_long_table` on to the `game_of_interest` table to get the probability for each inning-out score differential situation.\n"
   ]
  },
  {
   "cell_type": "code",
   "execution_count": 74,
   "metadata": {},
   "outputs": [
    {
     "name": "stderr",
     "output_type": "stream",
     "text": [
      "C:\\ProgramData\\Anaconda3\\lib\\site-packages\\IPython\\core\\interactiveshell.py:3057: DtypeWarning: Columns (64,65,85) have mixed types. Specify dtype option on import or set low_memory=False.\n",
      "  interactivity=interactivity, compiler=compiler, result=result)\n"
     ]
    },
    {
     "data": {
      "text/html": [
       "<table border=\"1\" class=\"dataframe\">\n",
       "    <thead>\n",
       "        <tr>\n",
       "            <th>GAME_ID</th> <th>AWAY_TEAM_ID</th> <th>INN_CT</th> <th>BAT_HOME_ID</th> <th>OUTS_CT</th> <th>BALLS_CT</th> <th>STRIKES_CT</th> <th>PITCH_SEQ_TX</th> <th>AWAY_SCORE_CT</th> <th>HOME_SCORE_CT</th> <th>BAT_ID</th> <th>BAT_HAND_CD</th> <th>RESP_BAT_ID</th> <th>RESP_BAT_HAND_CD</th> <th>PIT_ID</th> <th>PIT_HAND_CD</th> <th>RESP_PIT_ID</th> <th>RESP_PIT_HAND_CD</th> <th>POS2_FLD_ID</th> <th>POS3_FLD_ID</th> <th>POS4_FLD_ID</th> <th>POS5_FLD_ID</th> <th>POS6_FLD_ID</th> <th>POS7_FLD_ID</th> <th>POS8_FLD_ID</th> <th>POS9_FLD_ID</th> <th>BASE1_RUN_ID</th> <th>BASE2_RUN_ID</th> <th>BASE3_RUN_ID</th> <th>EVENT_TX</th> <th>LEADOFF_FL</th> <th>PH_FL</th> <th>BAT_FLD_CD</th> <th>BAT_LINEUP_ID</th> <th>EVENT_CD</th> <th>BAT_EVENT_FL</th> <th>AB_FL</th> <th>H_FL</th> <th>SH_FL</th> <th>SF_FL</th> <th>EVENT_OUTS_CT</th> <th>DP_FL</th> <th>TP_FL</th> <th>RBI_CT</th> <th>WP_FL</th> <th>PB_FL</th> <th>FLD_CD</th> <th>BATTEDBALL_CD</th> <th>BUNT_FL</th> <th>FOUL_FL</th> <th>BATTEDBALL_LOC_TX</th> <th>ERR_CT</th> <th>ERR1_FLD_CD</th> <th>ERR1_CD</th> <th>ERR2_FLD_CD</th> <th>ERR2_CD</th> <th>ERR3_FLD_CD</th> <th>ERR3_CD</th> <th>BAT_DEST_ID</th> <th>RUN1_DEST_ID</th> <th>RUN2_DEST_ID</th> <th>RUN3_DEST_ID</th> <th>BAT_PLAY_TX</th> <th>RUN1_PLAY_TX</th> <th>RUN2_PLAY_TX</th> <th>RUN3_PLAY_TX</th> <th>RUN1_SB_FL</th> <th>RUN2_SB_FL</th> <th>RUN3_SB_FL</th> <th>RUN1_CS_FL</th> <th>RUN2_CS_FL</th> <th>RUN3_CS_FL</th> <th>RUN1_PK_FL</th> <th>RUN2_PK_FL</th> <th>RUN3_PK_FL</th> <th>RUN1_RESP_PIT_ID</th> <th>RUN2_RESP_PIT_ID</th> <th>RUN3_RESP_PIT_ID</th> <th>GAME_NEW_FL</th> <th>GAME_END_FL</th> <th>PR_RUN1_FL</th> <th>PR_RUN2_FL</th> <th>PR_RUN3_FL</th> <th>REMOVED_FOR_PR_RUN1_ID</th> <th>REMOVED_FOR_PR_RUN2_ID</th> <th>REMOVED_FOR_PR_RUN3_ID</th> <th>REMOVED_FOR_PH_BAT_ID</th> <th>REMOVED_FOR_PH_BAT_FLD_CD</th> <th>PO1_FLD_CD</th> <th>PO2_FLD_CD</th> <th>PO3_FLD_CD</th> <th>ASS1_FLD_CD</th> <th>ASS2_FLD_CD</th> <th>ASS3_FLD_CD</th> <th>ASS4_FLD_CD</th> <th>ASS5_FLD_CD</th> <th>EVENT_ID</th>\n",
       "        </tr>\n",
       "    </thead>\n",
       "    <tbody>\n",
       "        <tr>\n",
       "            <td>BOS198807160</td> <td>KCA         </td> <td>1     </td> <td>0          </td> <td>0      </td> <td>2       </td> <td>1         </td> <td>SBBX        </td> <td>0            </td> <td>0            </td> <td>wilsw001</td> <td>L          </td> <td>wilsw001   </td> <td>L               </td> <td>boydo001</td> <td>R          </td> <td>boydo001   </td> <td>R               </td> <td>gedmr001   </td> <td>benzt001   </td> <td>barrm001   </td> <td>boggw001   </td> <td>reedj003   </td> <td>greem001   </td> <td>burke001   </td> <td>kutcr001   </td> <td>nan         </td> <td>nan         </td> <td>nan         </td> <td>D9/L9L   </td> <td>True      </td> <td>False</td> <td>8         </td> <td>1            </td> <td>21      </td> <td>True        </td> <td>True </td> <td>2   </td> <td>False</td> <td>False</td> <td>0            </td> <td>False</td> <td>False</td> <td>0     </td> <td>False</td> <td>False</td> <td>9     </td> <td>L            </td> <td>False  </td> <td>False  </td> <td>9L               </td> <td>0     </td> <td>0          </td> <td>N      </td> <td>0          </td> <td>N      </td> <td>0          </td> <td>N      </td> <td>2          </td> <td>0           </td> <td>0           </td> <td>0           </td> <td>nan        </td> <td>nan         </td> <td>nan         </td> <td>nan         </td> <td>False     </td> <td>False     </td> <td>False     </td> <td>False     </td> <td>False     </td> <td>False     </td> <td>False     </td> <td>False     </td> <td>False     </td> <td>nan             </td> <td>nan             </td> <td>nan             </td> <td>True       </td> <td>False      </td> <td>False     </td> <td>False     </td> <td>False     </td> <td>nan                   </td> <td>nan                   </td> <td>nan                   </td> <td>nan                  </td> <td>0                        </td> <td>0         </td> <td>0         </td> <td>0         </td> <td>0          </td> <td>0          </td> <td>0          </td> <td>0          </td> <td>0          </td> <td>1       </td>\n",
       "        </tr>\n",
       "        <tr>\n",
       "            <td>BOS198807160</td> <td>KCA         </td> <td>1     </td> <td>0          </td> <td>0      </td> <td>2       </td> <td>1         </td> <td>BFBX        </td> <td>0            </td> <td>0            </td> <td>pecob001</td> <td>R          </td> <td>pecob001   </td> <td>R               </td> <td>boydo001</td> <td>R          </td> <td>boydo001   </td> <td>R               </td> <td>gedmr001   </td> <td>benzt001   </td> <td>barrm001   </td> <td>boggw001   </td> <td>reedj003   </td> <td>greem001   </td> <td>burke001   </td> <td>kutcr001   </td> <td>nan         </td> <td>wilsw001    </td> <td>nan         </td> <td>9/F9D.2-3</td> <td>False     </td> <td>False</td> <td>6         </td> <td>2            </td> <td>2       </td> <td>True        </td> <td>True </td> <td>0   </td> <td>False</td> <td>False</td> <td>1            </td> <td>False</td> <td>False</td> <td>0     </td> <td>False</td> <td>False</td> <td>9     </td> <td>F            </td> <td>False  </td> <td>False  </td> <td>9D               </td> <td>0     </td> <td>0          </td> <td>N      </td> <td>0          </td> <td>N      </td> <td>0          </td> <td>N      </td> <td>0          </td> <td>0           </td> <td>3           </td> <td>0           </td> <td>9          </td> <td>nan         </td> <td>nan         </td> <td>nan         </td> <td>False     </td> <td>False     </td> <td>False     </td> <td>False     </td> <td>False     </td> <td>False     </td> <td>False     </td> <td>False     </td> <td>False     </td> <td>nan             </td> <td>boydo001        </td> <td>nan             </td> <td>False      </td> <td>False      </td> <td>False     </td> <td>False     </td> <td>False     </td> <td>nan                   </td> <td>nan                   </td> <td>nan                   </td> <td>nan                  </td> <td>0                        </td> <td>9         </td> <td>0         </td> <td>0         </td> <td>0          </td> <td>0          </td> <td>0          </td> <td>0          </td> <td>0          </td> <td>2       </td>\n",
       "        </tr>\n",
       "        <tr>\n",
       "            <td>BOS198807160</td> <td>KCA         </td> <td>1     </td> <td>0          </td> <td>1      </td> <td>3       </td> <td>1         </td> <td>BBBCB       </td> <td>0            </td> <td>0            </td> <td>seitk001</td> <td>R          </td> <td>seitk001   </td> <td>R               </td> <td>boydo001</td> <td>R          </td> <td>boydo001   </td> <td>R               </td> <td>gedmr001   </td> <td>benzt001   </td> <td>barrm001   </td> <td>boggw001   </td> <td>reedj003   </td> <td>greem001   </td> <td>burke001   </td> <td>kutcr001   </td> <td>nan         </td> <td>nan         </td> <td>wilsw001    </td> <td>W        </td> <td>False     </td> <td>False</td> <td>5         </td> <td>3            </td> <td>14      </td> <td>True        </td> <td>False</td> <td>0   </td> <td>False</td> <td>False</td> <td>0            </td> <td>False</td> <td>False</td> <td>0     </td> <td>False</td> <td>False</td> <td>0     </td> <td>nan          </td> <td>False  </td> <td>False  </td> <td>nan              </td> <td>0     </td> <td>0          </td> <td>N      </td> <td>0          </td> <td>N      </td> <td>0          </td> <td>N      </td> <td>1          </td> <td>0           </td> <td>0           </td> <td>3           </td> <td>nan        </td> <td>nan         </td> <td>nan         </td> <td>nan         </td> <td>False     </td> <td>False     </td> <td>False     </td> <td>False     </td> <td>False     </td> <td>False     </td> <td>False     </td> <td>False     </td> <td>False     </td> <td>nan             </td> <td>nan             </td> <td>boydo001        </td> <td>False      </td> <td>False      </td> <td>False     </td> <td>False     </td> <td>False     </td> <td>nan                   </td> <td>nan                   </td> <td>nan                   </td> <td>nan                  </td> <td>0                        </td> <td>0         </td> <td>0         </td> <td>0         </td> <td>0          </td> <td>0          </td> <td>0          </td> <td>0          </td> <td>0          </td> <td>3       </td>\n",
       "        </tr>\n",
       "    </tbody>\n",
       "</table>\n",
       "<p>... (81 rows omitted)</p>"
      ],
      "text/plain": [
       "<IPython.core.display.HTML object>"
      ]
     },
     "metadata": {},
     "output_type": "display_data"
    }
   ],
   "source": [
    "\n",
    "data_url = 'https://raw.githubusercontent.com/emeyers/SDS173/master/data/compressed_retro_data/all_1988.gz'\n",
    "retro_data_1988 = Table.from_df(pd.read_csv(data_url))\n",
    "\n",
    "# get the game of interest\n",
    "game_of_interest = retro_data_1988.where('GAME_ID', 'BOS198807160')\n",
    "game_of_interest.show(3)\n",
    "\n",
    "\n",
    "\n",
    "\n",
    "\n",
    "\n"
   ]
  },
  {
   "cell_type": "markdown",
   "metadata": {},
   "source": [
    "# Bonus problem (0 points)\n",
    "\n",
    "See if you can write a function called `plot_win_prob_trajectory(game_of_interest)` that takes a table of data, called `game_of_interest`, from a retrosheet play-by-play game and produced a plot of the win probabilities for each play in the game. Then apply this function to a Red Sox Yankees game my father went to on his 10th birthday, which was May 7th, 1955. Was my father happy with how the game turned out? \n"
   ]
  },
  {
   "cell_type": "code",
   "execution_count": 76,
   "metadata": {},
   "outputs": [],
   "source": [
    "\n",
    "def plot_win_prob_trajectory(game_of_interest):\n",
    "    ...\n",
    "\n",
    "\n",
    "\n",
    "# plot the game my father went to when the yankees came back (on his 10th birthday)\n",
    "data_url = 'https://raw.githubusercontent.com/emeyers/SDS173/master/data/compressed_retro_data/all_1955.gz'\n",
    "retro_data_1955 = Table.from_df(pd.read_csv(data_url))\n",
    "\n",
    "\n"
   ]
  },
  {
   "cell_type": "markdown",
   "metadata": {},
   "source": [
    "## 3. Quote and reaction to Astroball chapter 3 (5 points)\n",
    "\n",
    "Please find an interesting quote from chapter 2 of Astroball and then write a 1-2 paragraph reaction to the quote below.\n",
    "\n",
    "Quote: \n",
    "\n",
    "Reaction: \n",
    "\n"
   ]
  },
  {
   "cell_type": "markdown",
   "metadata": {},
   "source": [
    "## 4. Reflection (3 points)\n",
    "\n",
    "How did this lab go? Please complete the [reflection lab 3](https://yale.instructure.com/courses/65116/quizzes/35189) which is under the quiz section on Canvas to let us know how it went and to reflect on what you learned. \n"
   ]
  }
 ],
 "metadata": {
  "anaconda-cloud": {},
  "kernelspec": {
   "display_name": "Python 3",
   "language": "python",
   "name": "python3"
  },
  "language_info": {
   "codemirror_mode": {
    "name": "ipython",
    "version": 3
   },
   "file_extension": ".py",
   "mimetype": "text/x-python",
   "name": "python",
   "nbconvert_exporter": "python",
   "pygments_lexer": "ipython3",
   "version": "3.7.9"
  }
 },
 "nbformat": 4,
 "nbformat_minor": 4
}
