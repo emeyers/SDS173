{
 "cells": [
  {
   "cell_type": "markdown",
   "metadata": {},
   "source": [
    "# Class 4 activities\n",
    "\n",
    "The following notebooks has data analysis activities we will do in class to get more practice manipulating data. The activities consist of a few warm up activities examining lineup effects and lefty righty matchups, and then a longer activity where we will try to compute an approximate run expectancy matrix. \n",
    "\n",
    "You will work on these activities during class time in a group. If there is additional time at the end of class you can also start working on lab 3 which is due on 11:30pm on Monday (as always). \n",
    "\n",
    "Below is code that loads the relevant modules and retrosheet play-by-play data needed for these exercises.\n"
   ]
  },
  {
   "cell_type": "code",
   "execution_count": 31,
   "metadata": {},
   "outputs": [
    {
     "data": {
      "text/html": [
       "<table border=\"1\" class=\"dataframe\">\n",
       "    <thead>\n",
       "        <tr>\n",
       "            <th>GAME_ID</th> <th>AWAY_TEAM_ID</th> <th>INN_CT</th> <th>BAT_HOME_ID</th> <th>OUTS_CT</th> <th>BALLS_CT</th> <th>STRIKES_CT</th> <th>PITCH_SEQ_TX</th> <th>AWAY_SCORE_CT</th> <th>HOME_SCORE_CT</th> <th>BAT_ID</th> <th>BAT_HAND_CD</th> <th>RESP_BAT_ID</th> <th>RESP_BAT_HAND_CD</th> <th>PIT_ID</th> <th>PIT_HAND_CD</th> <th>RESP_PIT_ID</th> <th>RESP_PIT_HAND_CD</th> <th>POS2_FLD_ID</th> <th>POS3_FLD_ID</th> <th>POS4_FLD_ID</th> <th>POS5_FLD_ID</th> <th>POS6_FLD_ID</th> <th>POS7_FLD_ID</th> <th>POS8_FLD_ID</th> <th>POS9_FLD_ID</th> <th>BASE1_RUN_ID</th> <th>BASE2_RUN_ID</th> <th>BASE3_RUN_ID</th> <th>EVENT_TX</th> <th>LEADOFF_FL</th> <th>PH_FL</th> <th>BAT_FLD_CD</th> <th>BAT_LINEUP_ID</th> <th>EVENT_CD</th> <th>BAT_EVENT_FL</th> <th>AB_FL</th> <th>H_FL</th> <th>SH_FL</th> <th>SF_FL</th> <th>EVENT_OUTS_CT</th> <th>DP_FL</th> <th>TP_FL</th> <th>RBI_CT</th> <th>WP_FL</th> <th>PB_FL</th> <th>FLD_CD</th> <th>BATTEDBALL_CD</th> <th>BUNT_FL</th> <th>FOUL_FL</th> <th>BATTEDBALL_LOC_TX</th> <th>ERR_CT</th> <th>ERR1_FLD_CD</th> <th>ERR1_CD</th> <th>ERR2_FLD_CD</th> <th>ERR2_CD</th> <th>ERR3_FLD_CD</th> <th>ERR3_CD</th> <th>BAT_DEST_ID</th> <th>RUN1_DEST_ID</th> <th>RUN2_DEST_ID</th> <th>RUN3_DEST_ID</th> <th>BAT_PLAY_TX</th> <th>RUN1_PLAY_TX</th> <th>RUN2_PLAY_TX</th> <th>RUN3_PLAY_TX</th> <th>RUN1_SB_FL</th> <th>RUN2_SB_FL</th> <th>RUN3_SB_FL</th> <th>RUN1_CS_FL</th> <th>RUN2_CS_FL</th> <th>RUN3_CS_FL</th> <th>RUN1_PK_FL</th> <th>RUN2_PK_FL</th> <th>RUN3_PK_FL</th> <th>RUN1_RESP_PIT_ID</th> <th>RUN2_RESP_PIT_ID</th> <th>RUN3_RESP_PIT_ID</th> <th>GAME_NEW_FL</th> <th>GAME_END_FL</th> <th>PR_RUN1_FL</th> <th>PR_RUN2_FL</th> <th>PR_RUN3_FL</th> <th>REMOVED_FOR_PR_RUN1_ID</th> <th>REMOVED_FOR_PR_RUN2_ID</th> <th>REMOVED_FOR_PR_RUN3_ID</th> <th>REMOVED_FOR_PH_BAT_ID</th> <th>REMOVED_FOR_PH_BAT_FLD_CD</th> <th>PO1_FLD_CD</th> <th>PO2_FLD_CD</th> <th>PO3_FLD_CD</th> <th>ASS1_FLD_CD</th> <th>ASS2_FLD_CD</th> <th>ASS3_FLD_CD</th> <th>ASS4_FLD_CD</th> <th>ASS5_FLD_CD</th> <th>EVENT_ID</th>\n",
       "        </tr>\n",
       "    </thead>\n",
       "    <tbody>\n",
       "        <tr>\n",
       "            <td>ANA201904040</td> <td>TEX         </td> <td>1     </td> <td>0          </td> <td>0      </td> <td>2       </td> <td>2         </td> <td>FBBCH       </td> <td>0            </td> <td>0            </td> <td>choos001</td> <td>L          </td> <td>choos001   </td> <td>L               </td> <td>harvm001</td> <td>R          </td> <td>harvm001   </td> <td>R               </td> <td>lucrj001   </td> <td>bourj002   </td> <td>lastt001   </td> <td>cozaz001   </td> <td>simma001   </td> <td>goodb001   </td> <td>troum001   </td> <td>calhk001   </td> <td>nan         </td> <td>nan         </td> <td>nan         </td> <td>HP      </td> <td>True      </td> <td>False</td> <td>9         </td> <td>1            </td> <td>16      </td> <td>True        </td> <td>False</td> <td>0   </td> <td>False</td> <td>False</td> <td>0            </td> <td>False</td> <td>False</td> <td>0     </td> <td>False</td> <td>False</td> <td>0     </td> <td>nan          </td> <td>False  </td> <td>False  </td> <td>nan              </td> <td>0     </td> <td>0          </td> <td>N      </td> <td>0          </td> <td>N      </td> <td>0          </td> <td>N      </td> <td>1          </td> <td>0           </td> <td>0           </td> <td>0           </td> <td>nan        </td> <td>nan         </td> <td>nan         </td> <td>nan         </td> <td>False     </td> <td>False     </td> <td>False     </td> <td>False     </td> <td>False     </td> <td>False     </td> <td>False     </td> <td>False     </td> <td>False     </td> <td>nan             </td> <td>nan             </td> <td>nan             </td> <td>True       </td> <td>False      </td> <td>False     </td> <td>False     </td> <td>False     </td> <td>nan                   </td> <td>nan                   </td> <td>nan                   </td> <td>nan                  </td> <td>0                        </td> <td>0         </td> <td>0         </td> <td>0         </td> <td>0          </td> <td>0          </td> <td>0          </td> <td>0          </td> <td>0          </td> <td>1       </td>\n",
       "        </tr>\n",
       "        <tr>\n",
       "            <td>ANA201904040</td> <td>TEX         </td> <td>1     </td> <td>0          </td> <td>0      </td> <td>1       </td> <td>2         </td> <td>BFSS        </td> <td>0            </td> <td>0            </td> <td>odorr001</td> <td>L          </td> <td>odorr001   </td> <td>L               </td> <td>harvm001</td> <td>R          </td> <td>harvm001   </td> <td>R               </td> <td>lucrj001   </td> <td>bourj002   </td> <td>lastt001   </td> <td>cozaz001   </td> <td>simma001   </td> <td>goodb001   </td> <td>troum001   </td> <td>calhk001   </td> <td>choos001    </td> <td>nan         </td> <td>nan         </td> <td>K       </td> <td>False     </td> <td>False</td> <td>4         </td> <td>2            </td> <td>3       </td> <td>True        </td> <td>True </td> <td>0   </td> <td>False</td> <td>False</td> <td>1            </td> <td>False</td> <td>False</td> <td>0     </td> <td>False</td> <td>False</td> <td>0     </td> <td>nan          </td> <td>False  </td> <td>False  </td> <td>nan              </td> <td>0     </td> <td>0          </td> <td>N      </td> <td>0          </td> <td>N      </td> <td>0          </td> <td>N      </td> <td>0          </td> <td>1           </td> <td>0           </td> <td>0           </td> <td>2          </td> <td>nan         </td> <td>nan         </td> <td>nan         </td> <td>False     </td> <td>False     </td> <td>False     </td> <td>False     </td> <td>False     </td> <td>False     </td> <td>False     </td> <td>False     </td> <td>False     </td> <td>harvm001        </td> <td>nan             </td> <td>nan             </td> <td>False      </td> <td>False      </td> <td>False     </td> <td>False     </td> <td>False     </td> <td>nan                   </td> <td>nan                   </td> <td>nan                   </td> <td>nan                  </td> <td>0                        </td> <td>2         </td> <td>0         </td> <td>0         </td> <td>0          </td> <td>0          </td> <td>0          </td> <td>0          </td> <td>0          </td> <td>2       </td>\n",
       "        </tr>\n",
       "        <tr>\n",
       "            <td>ANA201904040</td> <td>TEX         </td> <td>1     </td> <td>0          </td> <td>1      </td> <td>1       </td> <td>2         </td> <td>CCBX        </td> <td>0            </td> <td>0            </td> <td>andre001</td> <td>R          </td> <td>andre001   </td> <td>R               </td> <td>harvm001</td> <td>R          </td> <td>harvm001   </td> <td>R               </td> <td>lucrj001   </td> <td>bourj002   </td> <td>lastt001   </td> <td>cozaz001   </td> <td>simma001   </td> <td>goodb001   </td> <td>troum001   </td> <td>calhk001   </td> <td>choos001    </td> <td>nan         </td> <td>nan         </td> <td>S9/L.1-2</td> <td>False     </td> <td>False</td> <td>10        </td> <td>3            </td> <td>20      </td> <td>True        </td> <td>True </td> <td>1   </td> <td>False</td> <td>False</td> <td>0            </td> <td>False</td> <td>False</td> <td>0     </td> <td>False</td> <td>False</td> <td>9     </td> <td>L            </td> <td>False  </td> <td>False  </td> <td>nan              </td> <td>0     </td> <td>0          </td> <td>N      </td> <td>0          </td> <td>N      </td> <td>0          </td> <td>N      </td> <td>1          </td> <td>2           </td> <td>0           </td> <td>0           </td> <td>nan        </td> <td>nan         </td> <td>nan         </td> <td>nan         </td> <td>False     </td> <td>False     </td> <td>False     </td> <td>False     </td> <td>False     </td> <td>False     </td> <td>False     </td> <td>False     </td> <td>False     </td> <td>harvm001        </td> <td>nan             </td> <td>nan             </td> <td>False      </td> <td>False      </td> <td>False     </td> <td>False     </td> <td>False     </td> <td>nan                   </td> <td>nan                   </td> <td>nan                   </td> <td>nan                  </td> <td>0                        </td> <td>0         </td> <td>0         </td> <td>0         </td> <td>0          </td> <td>0          </td> <td>0          </td> <td>0          </td> <td>0          </td> <td>3       </td>\n",
       "        </tr>\n",
       "    </tbody>\n",
       "</table>\n",
       "<p>... (192024 rows omitted)</p>"
      ],
      "text/plain": [
       "<IPython.core.display.HTML object>"
      ]
     },
     "metadata": {},
     "output_type": "display_data"
    }
   ],
   "source": [
    "from datascience import *\n",
    "import numpy as np\n",
    "import pandas as pd\n",
    "%matplotlib inline\n",
    "\n",
    "data_url = 'https://raw.githubusercontent.com/emeyers/SDS173/master/data/compressed_retro_data/all_2019.gz'\n",
    "\n",
    "retro_data = Table.from_df(pd.read_csv(data_url))\n",
    "\n",
    "retro_data.show(3)"
   ]
  },
  {
   "cell_type": "markdown",
   "metadata": {},
   "source": [
    "\n",
    "# Part 1: Warm-up exercises\n",
    "\n",
    "Let's begin with a few shorter warm up exercises before diving in to calcuating the run expectancy matrix.\n",
    "\n",
    "\n",
    "## 1.1 Examining home run rates as a function of order in the lineup\n",
    "\n",
    "Let's start by calculating the frequency that home runs are hit by different batters in the line-up. In particular, it is widely believed that the best home run hitters usually bat third or fourth in the line up. Let's check to see if this is the case. \n",
    "\n",
    "**Exercise 1.1**: Please complete the following steps to create a table called `lineup_hr_frequency_table` that lists the frequency that home runs are hit by different batters in the line-up:\n",
    "\n",
    "1. Start by answering the following question. Suppose we had a table called `retro_hr_lineup` that was similar to the retro data table, in the sense that it listed every plate appearance in the 2019 season. However, suppose the `retro_hr_lineup` only had two columns. What two columns would be needed to create the `lineup_hr_frequency_table`?\n",
    "\n",
    "2. Create the `retro_hr_lineup` table (remember, this table should have 2 columns). Hint: to do this it will be useful to examine the retro_data column `EVENT_CD`, and the codebook for this column can be found at http://www.retrosheet.org/datause.txt in the section listed as `event type`. \n",
    "\n",
    "3. Create the `lineup_hr_frequency_table`\n",
    "\n",
    "4. Relabel the `lineup_hr_frequency_table` so the columns are `Batting order position`, `HR frequency`\n",
    "\n",
    "5. Display the `lineup_hr_frequency_table` and plot the results.\n",
    "\n"
   ]
  },
  {
   "cell_type": "code",
   "execution_count": null,
   "metadata": {},
   "outputs": [],
   "source": [
    "\n",
    "\n",
    "\n",
    "\n"
   ]
  },
  {
   "cell_type": "markdown",
   "metadata": {},
   "source": [
    "## 1.2 Do righties or lefties hit more home runs on average? \n",
    "\n",
    "Let's answer the question of whether right handed hitters hit more home runs than left handed hitters. \n",
    "\n",
    "**Exercise 1.2**: Create a table that plots whether right hand batters hit home runs at a higher rate (on average) than left handed batters. \n"
   ]
  },
  {
   "cell_type": "code",
   "execution_count": null,
   "metadata": {},
   "outputs": [],
   "source": [
    "\n",
    "\n",
    "\n"
   ]
  },
  {
   "cell_type": "markdown",
   "metadata": {},
   "source": [
    "## 1.3 Do right/left handed hitters hit more home runs off right/left handed pitchers?  \n",
    "\n",
    "As our last warmup exercise, let's examine whether right/left handed hitters hit more home runs off or right/left handed pitchers?  \n",
    "\n",
    "\n",
    "**Exercise 1.3**: Create a table that plots the proportion of times that right hand hitters hit home runs off or right hand and left handed pitchers, and the proportion of times that left handed hitters hit home runs off or right hand and left handed pitchers. Does there seem to be a 'platoon effect' where hitters hit more home runs off of pitchers that have the opposite hand?  \n",
    "\n",
    "\n"
   ]
  },
  {
   "cell_type": "code",
   "execution_count": null,
   "metadata": {},
   "outputs": [],
   "source": [
    "\n",
    "\n",
    "\n",
    "\n"
   ]
  },
  {
   "cell_type": "markdown",
   "metadata": {},
   "source": [
    "# 2. Creating the run expectancy matrix\n",
    "\n",
    "Let's now dive into computing (an approximate) run expectancy matrix. As we discussed, the run expectancy matrix shows the expected (average) number of runs a team scores when they find themselves in a particular game situation (e.g., how many runs are expected to score when there are 2 outs and bases loaded, etc.). \n",
    "\n",
    "We will start by focusing on the big picture where you will try to figure out the steps needed to compute the run expectancy matrix. You will then go ahead and calculate an approximate run expectancy matrix. Finally you will discuss any shortcomings of the matrix you calculated, and if there's time, you can see if you can come up with a slighly more accurate run expectancy matrix that deals with some of the edge cases. "
   ]
  },
  {
   "cell_type": "markdown",
   "metadata": {},
   "source": [
    "## 2.1.1 Determining the steps needed to calculate the run expectancy matrix\n",
    "\n",
    "Let's start by figuring out the steps needed to calculate the run expectancy matrix. To do this, let's start with a simple step of listing what the end result that we want is, namely what are the rows, columns, and \"fill values\" in the run expectancy matrix. \n",
    "\n",
    "Final goal: create the run expectancy matrix. What are the...?\n",
    " - rows: \n",
    " - columns: \n",
    " - fill values: \n",
    " \n"
   ]
  },
  {
   "cell_type": "markdown",
   "metadata": {},
   "source": [
    "## 2.1.2 Determining the steps needed to calculate the run expectancy matrix\n",
    "\n",
    "Now that you've clearly described the end goal, let's think about the second to last step. In the second to last step, you will apply an \"aggregating method\" to a data table in which the rows have individual plays (i.e., the data table will be similar to the retrosheet play-by-play data). \n",
    "\n",
    "By \"aggregating methods\" I mean methods that are applied to table with many rows, and produce a table with a smaller number of rows, where the values in each row are statistics computed from the original table. Please list here what the aggregating methods are in the `datascience` package: \n",
    "\n",
    "The aggregating methods are:\n",
    "1. \n",
    "2. \n",
    "3. \n"
   ]
  },
  {
   "cell_type": "markdown",
   "metadata": {},
   "source": [
    "## 2.1.3 Determining the steps needed to calculate the run expectancy matrix\n",
    "\n",
    "Now that we have a sense of aggregating methods we can use, let's think about the table that we can apply the aggregating method to in order to produce the run expectancy matrix. \n",
    "\n",
    "To do this, please list the columns that would need in a non-aggregated table, such that when we apply the aggregation method we get the final run expectancy matrix. \n",
    "\n",
    "The columns that are needed are...?\n",
    "1. \n",
    "2. \n",
    "3. \n",
    " \n",
    "Please do not continue on, or look at any of Jupyter notebook below, until you have completed this step. \n",
    "\n",
    "Also, note that the rest of the notebook walks you through some steps you can use to create an approximate run expectancy matrix. However, if your group is feeling adventurous/confident, you can try to calculate the run expectancy matrix yourself without referring to any of steps below.\n",
    "\n",
    ".\n",
    "\n",
    ".\n",
    "\n",
    ".\n",
    "\n",
    ".\n",
    "\n",
    ".\n",
    "\n",
    ".\n",
    "\n",
    ".\n",
    "\n",
    ".\n",
    "\n",
    ".\n",
    "\n",
    ".\n",
    "\n",
    ".\n",
    "\n",
    ".\n",
    "\n",
    ".\n",
    "\n",
    ".\n",
    "\n",
    ".\n",
    "\n",
    ".\n",
    "\n",
    ".\n",
    "\n",
    ".\n",
    "\n",
    ".\n",
    "\n",
    "\n"
   ]
  },
  {
   "cell_type": "markdown",
   "metadata": {},
   "source": [
    "## 2.2 Selecting relevant rows\n",
    "\n",
    "Now that we have a sense of what our end results look like, we can think about the steps needed to transform the `retro_data` table into the table we will need to get the final run expectancy matrix. \n",
    "\n",
    "Please think about, and write down, a rough sketch of all steps needed to get the end result. Then discuss these steps with the other members of your group. \n",
    "\n",
    "Once you have once you have a sense of the steps you will need, please create a table called `retro_data2` that has only the columns you think you will need for subsequent analyses; when in doubt you can leave extra columns in, although if you accidentally removed a column you will need you can always come back to this step and include it later. \n",
    " \n"
   ]
  },
  {
   "cell_type": "code",
   "execution_count": 1,
   "metadata": {},
   "outputs": [],
   "source": [
    "# start by reducing to just the columns that are needed\n",
    "# go through each variable and discuss which are needed...\n",
    "\n",
    "\n",
    "\n"
   ]
  },
  {
   "cell_type": "markdown",
   "metadata": {},
   "source": [
    "## 2.3 Creating the relevant columns\n",
    "\n",
    "As hopefully you have decided in step 2.1.3, once of the columns you will be the state of the baserunners. We can code this state using a three digit binary number where the left most digit indicates if there is a runner on third base, the middle digit indicates whether a runner is on second base, and the right most digit indicates whether a runner is on first base. For example, the number 100 would indicate a runner on 3rd base, while the digit 011 would indicate runners on first and second base. \n",
    "\n",
    "Please create a table called `retro_data3` that has a column called `BASE_RUNNER_STATE` which indicates the state of the base runners for all plays in the `retro_data2` table. Each state should be listed as a charater string. \n",
    "\n",
    "Some methods/code you will find useful are:\n",
    "1. checking whether a value is listed as \"not a number\":   x != 'nan' \n",
    "2. convering a boolean value to an interger:  ndarray.astype('int')\n",
    "3. convering a number to a string: ndarray.astype(\"str\")\n",
    "4. concatenating strings in ndarrays together:  np.char.add(ndarray1, ndarray2)\n",
    "\n",
    "Once you have created `retro_data3`, also remove any columns that were in `retro_data2` that you think you will no longer need by using the `drop()` method.\n"
   ]
  },
  {
   "cell_type": "code",
   "execution_count": null,
   "metadata": {},
   "outputs": [],
   "source": [
    "\n",
    "\n",
    "\n",
    "\n",
    "\n"
   ]
  },
  {
   "cell_type": "markdown",
   "metadata": {},
   "source": [
    "## 2.4 Create total score and half inning ID\n",
    "\n",
    "Two other useful items to create will be the total game score after each play, and a unique identifier for each half inning of every game. \n",
    "\n",
    "Please create a table called `retro_data4` that has a column `TOT_SCORE` which has the total game score, and a column called `HALF_INN_ID` that has a unique ID for each half inning of every baseball game (some of the functions listed in step 2.3 will be useful for this). \n",
    "\n",
    "Once you ahe done this, again reduce your table to only the columns you think you will need going forward. \n",
    "\n"
   ]
  },
  {
   "cell_type": "code",
   "execution_count": null,
   "metadata": {},
   "outputs": [],
   "source": [
    "\n",
    "\n",
    "\n",
    "\n",
    "\n",
    "\n"
   ]
  },
  {
   "cell_type": "markdown",
   "metadata": {},
   "source": [
    "## 2.5 Adding the score at the end of all unique innings\n",
    "\n",
    "Please now create a table called `retro_data5` that has a column with the maximum score for each unique half inning. \n",
    "\n",
    "Hint: the `join()` method might be useful here.\n",
    "\n"
   ]
  },
  {
   "cell_type": "code",
   "execution_count": null,
   "metadata": {},
   "outputs": [],
   "source": [
    "\n",
    "\n",
    "\n",
    "\n"
   ]
  },
  {
   "cell_type": "markdown",
   "metadata": {},
   "source": [
    "## 2.6  Calculate the number of runs that have yet to be scored in each half inning\n",
    "\n",
    "Create a table `retro_data6` that has a column called `RUN_ROI` which lists the number of runs that have not yet been scored in the inning. Also, again reduce the table to only the columns you will need once you have this column in your table.\n"
   ]
  },
  {
   "cell_type": "code",
   "execution_count": null,
   "metadata": {},
   "outputs": [],
   "source": [
    "\n",
    "\n",
    "\n"
   ]
  },
  {
   "cell_type": "markdown",
   "metadata": {},
   "source": [
    "## 2.7 Create run expectancy matrix\n",
    "\n",
    "Apply your aggregation method to create the run expectancy table. \n",
    "\n"
   ]
  },
  {
   "cell_type": "code",
   "execution_count": null,
   "metadata": {},
   "outputs": [],
   "source": [
    "\n",
    "\n",
    "\n",
    "\n"
   ]
  },
  {
   "cell_type": "markdown",
   "metadata": {},
   "source": [
    "## 2.8 What is missing? \n",
    "\n",
    "If you followed the steps above, the run expectancy matrix you created is an approximation of the real run expectancy matrix since it does not correctly deal with certian situations that can arise in a game. \n",
    "\n",
    "Please list which circumstances the run expectancy matrix that you created is not dealing with.\n",
    "\n",
    "\n",
    "**Answers**\n",
    "\n",
    "\n",
    "\n",
    "\n"
   ]
  },
  {
   "cell_type": "markdown",
   "metadata": {},
   "source": [
    "## 2.9 Dealing with the edge cases\n",
    "\n",
    "If you have time in class, please try to deal with some (or all) of the edge cases you listed in part 2.7. Note, to deal with some of these cases might require approaching the whole analysis in a different way, so you might want to start the analysis from the beginning below. \n",
    "\n",
    "Hint: actually calculating how many runs scored on each play could be a useful approach to capture some of the edge cases.\n"
   ]
  }
 ],
 "metadata": {
  "kernelspec": {
   "display_name": "Python 3",
   "language": "python",
   "name": "python3"
  },
  "language_info": {
   "codemirror_mode": {
    "name": "ipython",
    "version": 3
   },
   "file_extension": ".py",
   "mimetype": "text/x-python",
   "name": "python",
   "nbconvert_exporter": "python",
   "pygments_lexer": "ipython3",
   "version": "3.7.3"
  }
 },
 "nbformat": 4,
 "nbformat_minor": 4
}
