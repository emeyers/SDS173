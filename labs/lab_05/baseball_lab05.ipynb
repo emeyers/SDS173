{
 "cells": [
  {
   "cell_type": "markdown",
   "metadata": {},
   "source": [
    "# Baseball Lab 5\n",
    "\n",
    "\n",
    "Welcome to the fifth baseball lab. This lab is due by  **Monday March 15th at 11:30pm**. \n",
    "\n",
    "As always, you are welcome to work with others on the lab, but if you do work with others after class, please note on the reflection quiz who you worked with. If you have questions about the homework please use [Ed discussions](https://edstem.org/us/courses/4202/discussion/) so that everyone can benefit from your question. Additionally, please answer questions others raise on Ed discussions. Finally, please feel free to attend Neel's and my office hours for additional help. \n",
    "\n",
    "\n",
    "#### Today's Baseball Lab\n",
    "\n",
    "In today's exercises, you'll get practice:\n",
    "\n",
    "1. Adding visualizations to the Baseball_Game object \n",
    "2. Simulating All-Star Baseball in Python\n",
    "3. Using tree diagrams to calculate probabilities\n",
    "\n",
    "Readings that will be useful for solving the problems below are [chapter 9](https://www.inferentialthinking.com/chapters/09/Randomness.html) and [chapter 10](https://www.inferentialthinking.com/chapters/10/Sampling_and_Empirical_Distributions.html) of the class textbook. \n",
    "\n",
    "The code below loads the retrosheet data and packages that are needed for this homework."
   ]
  },
  {
   "cell_type": "code",
   "execution_count": 1,
   "metadata": {},
   "outputs": [
    {
     "name": "stderr",
     "output_type": "stream",
     "text": [
      "C:\\ProgramData\\Anaconda3\\lib\\site-packages\\IPython\\core\\interactiveshell.py:3057: DtypeWarning: Columns (63,64,65,85) have mixed types. Specify dtype option on import or set low_memory=False.\n",
      "  interactivity=interactivity, compiler=compiler, result=result)\n"
     ]
    }
   ],
   "source": [
    "%matplotlib inline\n",
    "%load_ext autoreload\n",
    "%autoreload 2\n",
    "\n",
    "from datascience import *\n",
    "import pandas as pd\n",
    "import numpy as np\n",
    "\n",
    "# load the retrosheet data from 2019\n",
    "data_url = 'https://raw.githubusercontent.com/emeyers/SDS173/master/data/compressed_retro_data/all_2019.gz'\n",
    "retro_data = Table.from_df(pd.read_csv(data_url))"
   ]
  },
  {
   "cell_type": "markdown",
   "metadata": {},
   "source": [
    "# Part 1: Adding visualizations to our Baseball_Game object\n",
    "\n",
    "In lab 4, you created the `Baseball_Game` object that kept track of the state of a baseball game. You also created a special method that enables you to print the state of a baseball game using the `print()` function. However, it can be easier to understand, and more aesthetically pleasing, to see a visualizations of the state of a baseball game rather than just printing out the state. Let's now add a method to our `Baseball_Game` object that create a visualiziation of the state of the game using Matplotlib's graphics. \n",
    "\n",
    "**Exercise 1.1 (18 points):** Please add a method called `display_game(self, batter_name = \"\", center_string = \"\")` that displays a visualization of the state of a baseball game. To do this problem, please start with the file `baseball_game_with_graphics.py` which has a partial implementation of this method (i.e., it has a number of graphical elements that will be useful when constructing your solution). Your display of the state of the game should have the following properties: \n",
    "\n",
    "1. It should display a baseball diamond with red dots indicating whether a running is on a particular base.\n",
    "2. It should display the number of balls, strikes and outs.\n",
    "3. It should display the inning and the score.\n",
    "4. It should have an optional argument, `batter_name`, for the name of the current batter (e.g., the default is set to the empty string)\n",
    "5. It should have an optional argument `center_string`, for a string displayed in the middle of the baseball diamond.\n",
    "\n",
    "An example of such a graphic is shown below. \n",
    "\n",
    "<img src=\"https://raw.githubusercontent.com/emeyers/SDS173/master/images/Baseball_Game_visualization.png\">\n",
    "\n",
    "\n",
    "Once you have created the `display_game()` method, show that it works by displaying a baseball game in which David Ortiz is batting in the bottom of the 14th with the score tied at 4-4, there is a runner on 1st and 2nd base, with a count of 2 balls and 2 strikes, and the `center_string` is set to the value `Esteban Loaiza`.\n",
    "\n",
    "\n"
   ]
  },
  {
   "cell_type": "code",
   "execution_count": 5,
   "metadata": {},
   "outputs": [
    {
     "data": {
      "image/png": "[encoded data removed]",
      "text/plain": [
       "<Figure size 432x288 with 1 Axes>"
      ]
     },
     "metadata": {
      "needs_background": "light"
     },
     "output_type": "display_data"
    }
   ],
   "source": [
    "\n",
    "\n",
    "import baseball_game_with_graphics as game\n",
    "\n",
    "my_game = game.Baseball_Game()\n",
    "\n",
    "\n",
    "\n",
    "\n",
    "# display the baseball game here...\n",
    "my_game.display_game(\"David Ortiz\", \"Esteban Loaiza\")\n",
    "\n"
   ]
  },
  {
   "cell_type": "markdown",
   "metadata": {},
   "source": [
    "# Part 2: Simulating All-Star Baseball\n",
    "\n",
    "\n",
    "For the second set of exercises we will use Python to simulate the [All-Star Baseball board game](https://en.wikipedia.org/wiki/All_Star_Baseball). To do this you will use the retrosheet play-by-play data set and you will simulate a game using the following steps: \n",
    "\n",
    "1. You will write a function `get_spinner_probabilities(retro_id)` that takes in a player's retrosheet ID, and returns a table with the proportion of times the player had different batting outcomes (e.g., got out, hit a single, etc.). These proporitons will be used to represent the areas of the All-Star baseball \"spinners disks\". \n",
    "\n",
    "2. You will write a function `get_lineups(game_id)` that extracts the batting lineup for a game. \n",
    "\n",
    "3. You will write a funciton `get_all_spinners(away_lineup, home_lineup)` that takes the lineups and returns a list of spinners for each batter in the lineup. \n",
    "\n",
    "4. You will then simulate a game by looping through the batting line-up, generating different random hitting outcomes for each player based on the spinners you created. You will use the Baseball_Game object from lab 4 to keep track of the state of the game and can then report the final score of the game.   \n"
   ]
  },
  {
   "cell_type": "markdown",
   "metadata": {},
   "source": [
    "## 2.1: Creating a codebook for hitting outcomes\n",
    "\n",
    "In order to simulate the All-Star Baseball board game, we will need to write a function `get_spinner_probabilities(retro_id)` that takes in a player's `retrosheet_id` and returns the proportion of times the player had different batting outcomes. As you will hopefully recall from previous labs, the retrosheet field `EVENT_CD` lists the outcome of what happened in a plate appearance based on a code that goes from 0 to 24. If we can translate these numbers into meaningful (English) event names, we can then generate random batting outcomes. \n",
    "\n",
    "\n",
    "**Exercise 2.1 (8 points):** \n",
    "\n",
    "Let's start by creating a `Table` called `event_lookup_table` that we can use to translate the numbers 0 to 24 into English names batting oucomes based on the [codebook from the retrosheet data](https://www.retrosheet.org/datause.txt). In particular, the `event_lookup_table` should have the following columns: \n",
    "\n",
    "1. `EVENT_CD`: This column lists the numbers 0 to 24. These numbers correspond to the EVENT_CD outcomes in the retrosheet data.\n",
    "\n",
    "2. `EVENT_NAME`: This column lists the names that correspond to the numbers 0 to 24 (see the section title \"event type\" from the [retrosheet codebook](https://www.retrosheet.org/datause.txt)). \n",
    "\n",
    "3. `EVENT_GROUP_NAME`: This column will have simpler names for hitting events that also group similar events together (e.g., it will list the original \"Walk\", \"Intentional walk\", and \"Hit by pitch\" just as a \"Walk\"). I have given you these grouping names in an numpy array called `event_group_names` in the code chunk below. \n",
    "\n",
    "To create the `event_lookup_table`, first create a numpy array called `event_names` that the names of the events that the numbers 0 to 24 correspond to (see the retrosheet codebook mentioned above). Then create the empty `event_lookup_table` and use the `event_lookup_table.with_column()` method to add columns `EVENT_CD`, `EVENT_NAME` and `EVENT_GROUP_NAME` to this table.\n"
   ]
  },
  {
   "cell_type": "code",
   "execution_count": 14,
   "metadata": {},
   "outputs": [],
   "source": [
    "event_names = ...\n",
    "\n",
    "\n",
    "\n",
    "# keep this\n",
    "event_group_names = [\"NA\", \"NA\", \"Out\", \"Strikeout\", \"NA\", \"NA\", \"NA\",\n",
    "                     \"NA\", \"NA\", \"NA\", \"NA\", \"NA\", \"NA\", \"NA\", \"Walk\", \"Walk\",\n",
    "                     \"Walk\", \"NA\", \"Error\", \"Out\", \"Single\", \"Double\", \"Triple\", \"Home run\", \"NA\"]\n",
    "\n"
   ]
  },
  {
   "cell_type": "markdown",
   "metadata": {},
   "source": [
    "## 2.2:  Writing the get_spinner_probabilities() functon \n",
    "\n",
    "Now that we have the `event_lookup_table` we are ready to write the `get_spinner_probabilities(retro_id)`. This function should return a table called `spinner_data` for a single player based on the `retro_id` argument that is given. The `spinner_data` should have columns `EVENT_GROUP_NAME` which correspond to the type of batting event that occurred, and `EVENT_PROPORTIONS` which list the proportion of times each event occurred. \n",
    "\n",
    "\n",
    "**Exercise 2.2 (10 points):**  Please create the `get_spinner_probabilities()` function that return the `spinner_data` by doing the following steps:\n",
    "\n",
    "1. Reduce the retrosheet data for only the player whose `retro_id` is given and store this data in the name `player_data`. Hint: the `BAT_ID` column will be useful here. \n",
    "\n",
    "2. Reduce the `player_data` table to only plate appearance events. Hint: the `BAT_EVENT_FL` column will be useful here. \n",
    "\n",
    "3. Join the `player_data` with the `event_lookup_table` so that we can translate the `EVENT_CD` codes to meaningful `EVENT_GROUP_NAME` outcomes.\n",
    "\n",
    "4. Remove all events listed as \"NA\" that is in the `EVENT_GROUP_NAME` column.\n",
    "\n",
    "5. Create a table called `spinner_data` that has the counts of how often each hitting outcome occurred by grouping the `EVENT_GROUP_NAME` columnn from the `player_data` table. \n",
    "\n",
    "6. Add a column to the `spinner_data` called `EVENT_PROPORTIONS` that has the proportion of times each hitting event ocurred by dividing by each hitting event count by the total number of hitting events.\n",
    "\n",
    "7. Test that the function works by running it on Mike Trout's data (retrosheet id: troum001). Also show that the function works by printing the table for Mike Trout. \n",
    "\n",
    "Hints: To write the `get_spinner_probabilities(retro_id)`, I recommend you start by writing code that just gets this table for Mike Trout's data. Once you know that the code is working, you should then convert it into a function that will work for any retrosheet id. \n",
    "\n"
   ]
  },
  {
   "cell_type": "code",
   "execution_count": 13,
   "metadata": {},
   "outputs": [],
   "source": [
    "def get_spinner_probabilities(retro_id):\n",
    "    \n",
    "    pass\n",
    "    \n",
    "    # get data for the current player and join it with the event_lookup_table\n",
    "\n",
    "    # get rid of the NA events\n",
    "\n",
    "    # group the data based on the EVENT_GROUP_NAME and calculate the probabilities of each batting event\n",
    "\n",
    "    # return thespinner_data\n",
    "\n",
    "\n",
    "\n",
    "# get spinner table for Mike Trout\n",
    "\n"
   ]
  },
  {
   "cell_type": "markdown",
   "metadata": {},
   "source": [
    "## 2.3: Extracting the batting lineup for a game\n",
    "\n",
    "As a next step in simulating All-Star Baseball, let's write a function `get_lineups(game_id)` that takes in a game id and returns the batting lineups for the home and away teams. To keep this simple, the batting lineup for each team should be the first 9 batters who batted for each team. The function should return two tables (as a tuple) where each table has a single column called `BAT_ID` that has the retro id for the 9 players in the batting lineup. \n",
    "\n",
    "\n",
    "**Exercise 2.3 (8 points):** Please write the `get_lineups(game_id)` function. Once you have the `get_lineups(game_id)` function written, use it to print the home lineup for the game id 'ANA201904040'.\n"
   ]
  },
  {
   "cell_type": "code",
   "execution_count": 12,
   "metadata": {},
   "outputs": [],
   "source": [
    "def get_lineups(game_id):\n",
    "    \n",
    "    pass\n",
    "\n",
    "    # return a tuple of the \n",
    "    #  return (away_lineup, home_lineup)\n",
    "\n",
    "\n",
    "    \n",
    "\n",
    "\n",
    "# get the lineups for the game 'ANA201904040' and print the home team lineup\n",
    "\n"
   ]
  },
  {
   "cell_type": "markdown",
   "metadata": {},
   "source": [
    "## 2.4: Getting the spinners for all batters\n",
    "\n",
    "Let's now write a function `get_spinners(away_lineup, home_lineup)` that gets the spinner tables for all the batters in the lineups. This function should return two lists of 9 elements, called `away_spinners` and `home_spinners`, where the elements in the list contain the spinner probability table for each batter in the lineup. To create these lists we can use the following steps:\n",
    "\n",
    "1. Create two empty tables called `away_spinners` and `home_spinners` that will contain the spinners for each player in the batting lineup.\n",
    "\n",
    "2. Use a for loop that loops 9 times, and in each iteration of the loop \n",
    "    a. Get the spinner table for the current player in the batting lineup\n",
    "    b. Append this spinner table to the list of spinner tables.\n",
    "\n",
    "3. Return a tuple that contains the `away_spinners` and `home_spinners` lists.\n",
    "\n",
    "\n",
    "**Exercise 2.4 (10 points):** Please write the `get_spinners(away_lineup, home_lineup)` function and test that the function works by printing the spinner for the first batter of the away team using the lineups calculated in exercise 1.3. \n"
   ]
  },
  {
   "cell_type": "code",
   "execution_count": 11,
   "metadata": {},
   "outputs": [],
   "source": [
    "def get_all_spinners(away_lineup, home_lineup):\n",
    "\n",
    "    pass\n",
    "\n",
    "    # create empty lists that will hold all the spinner tables for the away and home teams\n",
    "    \n",
    "\n",
    "    # loop through each batter in the line up and add their spinner information to the lists above\n",
    "    \n",
    "\n",
    "    # return the spinner lists\n",
    "    #return (away_spinners, home_spinners)\n",
    "    \n",
    "\n",
    "\n",
    "    \n",
    "    \n",
    "# test the function by getting the spinner lists for both teams \n",
    "#  and printing the spinner data for the first player in the away team\n",
    "\n",
    "\n"
   ]
  },
  {
   "cell_type": "markdown",
   "metadata": {},
   "source": [
    "## 2.5: Simulating an All-Star Baseball game\n",
    "\n",
    "Now let's write a function `simulate_game(game_id)` that takes in a game id, and simulates a complete All-Star Baseball game. This funciton should work by: \n",
    "\n",
    "1. Creating a new `Baseball_Game` object (from Lab 4) that will hold the state of the baseball game.\n",
    "\n",
    "2. Getting the home and away lineups using the  `get_lineup(game_id)` function. \n",
    "\n",
    "3. Using the `get_all_spinners(away_lineup, home_lineup)` to get the spinners for both teams.\n",
    "\n",
    "4. Creating two names `away_batter_num` and `home_batter_num` that are both initially set to 0 to indicate the index in the batting lineup that corresponds to the batters who will bat next for the away and the home teams. \n",
    "\n",
    "5. Create a while loop that loops until the `Baseball_Game` object indicates that it is the end of the game (similar to what was done in lab 4). Inside the loop your code should: \n",
    "\n",
    "a. Get the spinner for the current batter, and save it to the name `curr_spinner_data`. If it is the top of the inning, then you should get the current spinner for the away team and then increase the `away_batter_num` by 1. If the `away_batter_num` is greater than 8, it should be reset to 0 (Hint: using the modulus operator, %, could be useful here). Likewise, if it is the bottom of the inning, you should get the current spinner from the home team and update `home_batter_num`.\n",
    "\n",
    "b. You should generate a play from the `curr_spinner_data` based on the player's batting probabilities using the `np.random.choice()` function. \n",
    "\n",
    "c. Based on the value of the random play returned, you should call the appropriate `Baseball_Game` object method to update the state of the baseball game (similar to what you did in lab 4).\n",
    "\n",
    "\n",
    "**Exercise 2.5 (15 points):**  Please write the `simulate_game(game_id)` function.  Once you have the function written, use the function `np.random.seed(173)` to set the random seed, and simulate the baseball game 'ANA201904040'. Then print the final game state from this simulation. \n"
   ]
  },
  {
   "cell_type": "code",
   "execution_count": 6,
   "metadata": {},
   "outputs": [],
   "source": [
    "import baseball_game as game\n",
    "\n",
    "def simulate_game(game_id):\n",
    "\n",
    "    pass\n",
    "    \n",
    "    # create a new Baseball_Game object to store the state of the game\n",
    "\n",
    "    \n",
    "    # get the away and home team line ups\n",
    "\n",
    "    \n",
    "    # get all the spinners for all the players\n",
    "\n",
    "    \n",
    "    # create names to store the index of the next away and home team batter\n",
    "\n",
    "    \n",
    "    # create a while loop that loops until the game is over\n",
    "\n",
    "        \n",
    "        # get the current batter's spinner depending on whether it is the top or the bottom of the inning\n",
    "        # and update which index corresponds to the next batter\n",
    "        \n",
    "        \n",
    "\n",
    "\n",
    "        \n",
    "        # randomly generate a play using the current batter's spinner\n",
    "\n",
    "\n",
    "        \n",
    "        # use a series of if statements to update the state of the game based on what the hitter did\n",
    "        \n",
    "        \n",
    "   \n",
    "    # return the final state of the game\n",
    "\n",
    "\n",
    "    \n",
    "    \n",
    "    \n",
    "\n",
    "# simulate the game 'ANA201904040' and print the final results\n",
    "np.random.seed(173)\n",
    "\n",
    "\n",
    "\n",
    "\n"
   ]
  },
  {
   "cell_type": "markdown",
   "metadata": {},
   "source": [
    "## 2.6: Calculating how long it would take to simulate a season\n",
    "\n",
    "Above we have simulated one baseball game. If we wanted to simulate a whole season of games, one of the first questions we would like to ask is how long would such a simulation take. \n",
    "\n",
    "To time how long a function takes to run, we can use the `%time` magic function which will return the how long a function took to run. The code below uses this `%time` magic function to the length of time one simulation took. If we assume that all games take approximately this long to simulate, report in hours and minutes how long would it take to simulate a whole 2019 season. Hint: the function np.unique() might be helpful here. \n",
    "\n",
    "**Exercise 2.6 (8 points):** Please run the code to calculate how long it would take to run a full season of simulations and report the answer below.\n",
    "\n",
    "\n",
    "**Answer:**\n",
    "\n",
    "It would take about 132 minutes, i.e., 2 hours and 12 minutes, to simulate the whole 2019 season. \n"
   ]
  },
  {
   "cell_type": "code",
   "execution_count": 9,
   "metadata": {},
   "outputs": [],
   "source": [
    "# %time curr_game = simulate_game(game_id)\n"
   ]
  },
  {
   "cell_type": "markdown",
   "metadata": {},
   "source": [
    "# Part 3: Using tree diagrams to calculate the probabilities\n",
    "\n",
    "As discussed in class, we can use tree diagrams to calculate the probability of particular events. Let's practice this now!\n",
    "\n",
    "\n",
    "## 3.1: Calculating probabilities using tree diagrams for Stat-O-Matic\n",
    "\n",
    "\n",
    "**Exercise 3.1 (15 points):**\n",
    "\n",
    "Below is an image of the Strat-O-Matic cards for when Matt Holliday is batting against the pitcher Chad Billingsley. Using this image, please draw a tree diagram calculating the probability that Matt Holliday will hit a double against Chad Billingsley. Once you have created this tree diagram drawing, take a photo of it and include the image in the Jupyter Notebook below. \n",
    "\n",
    "![stratomatic_image](strat_matt_vs_chad.jpg)\n",
    "\n"
   ]
  },
  {
   "cell_type": "markdown",
   "metadata": {},
   "source": [
    "### Answer: Tree diagram image\n",
    "\n",
    "This probability calculated from the tree diagram that Matt Holliday will hit a double against Chad Billingsley is...\n",
    "\n",
    "\n",
    "\n",
    "\n"
   ]
  },
  {
   "cell_type": "code",
   "execution_count": null,
   "metadata": {},
   "outputs": [],
   "source": []
  },
  {
   "cell_type": "markdown",
   "metadata": {},
   "source": [
    "# Part 4: Quote and reaction to Astroball chapter 5 (5 points)\n",
    "\n",
    "Please find an interesting quote from chapter 5 of Astroball and then write a ~one paragraph reaction to the quote below.\n",
    "\n",
    "Quote: \n",
    "\n",
    "Reaction: \n",
    "\n"
   ]
  },
  {
   "cell_type": "markdown",
   "metadata": {},
   "source": [
    "# Part 5. Reflection (3 points)\n",
    "\n",
    "How did this lab go? Please complete the [reflection on lab 5](https://yale.instructure.com/courses/65116/quizzes/35187) which is under the quiz section on Canvas to let us know how it went and to reflect on what you learned. \n"
   ]
  }
 ],
 "metadata": {
  "anaconda-cloud": {},
  "kernelspec": {
   "display_name": "Python 3",
   "language": "python",
   "name": "python3"
  },
  "language_info": {
   "codemirror_mode": {
    "name": "ipython",
    "version": 3
   },
   "file_extension": ".py",
   "mimetype": "text/x-python",
   "name": "python",
   "nbconvert_exporter": "python",
   "pygments_lexer": "ipython3",
   "version": "3.7.3"
  }
 },
 "nbformat": 4,
 "nbformat_minor": 4
}
