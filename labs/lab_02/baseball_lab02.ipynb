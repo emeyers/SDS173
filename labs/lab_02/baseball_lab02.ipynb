{
 "cells": [
  {
   "cell_type": "markdown",
   "metadata": {},
   "source": [
    "# Baseball Lab 2\n",
    "\n",
    "\n",
    "Welcome to the second baseball lab. As will be the case for the rest of the semester, we will begin on the lab in class and you will turn in a pdf of the lab to Gradescope. Instructions on how to save your file as a pdf and submit it to Gradescope can be found in Lab 1. This lab is due by  **Monday, February 22nd at 11:30pm**. \n",
    "\n",
    "If you have questions about the homework please use [Ed discussions](https://edstem.org/us/courses/4202/discussion/) so that everyone can benefit from your question. Additionally, please answer questions others raise on Ed discussions in order to get the class participation credit. \n",
    "\n",
    "\n",
    "#### Today's Baseball Lab\n",
    "\n",
    "In today's exercises, you'll get practice:\n",
    "\n",
    "1. Manipulating data tables to examine how the league leaders in particular batting statistics have changed over time.\n",
    "2. Comparing players across generations.\n",
    "3. Examining aging curves to see at what age players typically have peak performance.\n",
    "\n",
    "\n",
    "Textbook reference:  [Chapter 4](https://www.inferentialthinking.com/chapters/04/Data_Types.html), [Chapter 5](https://www.inferentialthinking.com/chapters/05/Sequences.html) and [Chapter 6](https://www.inferentialthinking.com/chapters/06/Tables.html). Ideas for this lab also come from Teaching Statistics Using Baseball by Jim Albert and Visualizing Baseball Data by Jim Albert. \n"
   ]
  },
  {
   "cell_type": "markdown",
   "metadata": {},
   "source": [
    "# 1. Manipulating data to see changes in the game over years\n",
    "\n",
    "\n",
    "Let's start by practicing manipulating data tables to see how baseball has changed over time. Some of the data manipulation operations you will use we have already discussed in class, but it will be useful to become fluent in using them for data analyses we will do over the course of the semester.\n",
    "\n",
    "The data operations that you will use include: \n",
    "\n",
    "- Reducing a table to only rows of interest.\n",
    "- Selecting out particular columns as either a Table or as an ndarray.\n",
    "- Adding a new column to a table based on information in other columns.\n",
    "- Applying a function to groups of data.\n",
    "- Creating scatter plots of the results.\n",
    "\n",
    "To examine how baseball has changed and to practice using these operations, we will use the Batting.csv data set from the Lahman database which has season level batting statistics from each Major League baseball player from 1871 to 2018. The code below loads this data as a table and shows the first three rows to remind you what is in the table. \n"
   ]
  },
  {
   "cell_type": "code",
   "execution_count": 1,
   "metadata": {},
   "outputs": [
    {
     "data": {
      "text/html": [
       "<table border=\"1\" class=\"dataframe\">\n",
       "    <thead>\n",
       "        <tr>\n",
       "            <th>playerID</th> <th>yearID</th> <th>stint</th> <th>teamID</th> <th>lgID</th> <th>G</th> <th>AB</th> <th>R</th> <th>H</th> <th>2B</th> <th>3B</th> <th>HR</th> <th>RBI</th> <th>SB</th> <th>CS</th> <th>BB</th> <th>SO</th> <th>IBB</th> <th>HBP</th> <th>SH</th> <th>SF</th> <th>GIDP</th>\n",
       "        </tr>\n",
       "    </thead>\n",
       "    <tbody>\n",
       "        <tr>\n",
       "            <td>abercda01</td> <td>1871  </td> <td>1    </td> <td>TRO   </td> <td>nan </td> <td>1   </td> <td>4   </td> <td>0   </td> <td>0   </td> <td>0   </td> <td>0   </td> <td>0   </td> <td>0   </td> <td>0   </td> <td>0   </td> <td>0   </td> <td>0   </td> <td>nan </td> <td>nan </td> <td>nan </td> <td>nan </td> <td>0   </td>\n",
       "        </tr>\n",
       "        <tr>\n",
       "            <td>addybo01 </td> <td>1871  </td> <td>1    </td> <td>RC1   </td> <td>nan </td> <td>25  </td> <td>118 </td> <td>30  </td> <td>32  </td> <td>6   </td> <td>0   </td> <td>0   </td> <td>13  </td> <td>8   </td> <td>1   </td> <td>4   </td> <td>0   </td> <td>nan </td> <td>nan </td> <td>nan </td> <td>nan </td> <td>0   </td>\n",
       "        </tr>\n",
       "        <tr>\n",
       "            <td>allisar01</td> <td>1871  </td> <td>1    </td> <td>CL1   </td> <td>nan </td> <td>29  </td> <td>137 </td> <td>28  </td> <td>40  </td> <td>4   </td> <td>5   </td> <td>0   </td> <td>19  </td> <td>3   </td> <td>1   </td> <td>2   </td> <td>5   </td> <td>nan </td> <td>nan </td> <td>nan </td> <td>nan </td> <td>1   </td>\n",
       "        </tr>\n",
       "    </tbody>\n",
       "</table>\n",
       "<p>... (108786 rows omitted)</p>"
      ],
      "text/plain": [
       "<IPython.core.display.HTML object>"
      ]
     },
     "metadata": {},
     "output_type": "display_data"
    }
   ],
   "source": [
    "# load the data\n",
    "from datascience import *\n",
    "\n",
    "batting = Table.read_table('https://raw.githubusercontent.com/emeyers/SDS173/master/data/Batting.csv')  \n",
    "\n",
    "batting.show(3)\n"
   ]
  },
  {
   "cell_type": "markdown",
   "metadata": {},
   "source": [
    "## 1.1  Filtering rows based on predicates\n",
    "\n",
    "Recall last class that you filtered the Lahman batting data to get a small subset of data that only had information about the baseball player that was on your baseball card. To do this you used the `tb.where('col_name', value)` method. For example, the baseball player on my card was George Brett and I was able to get only his information using: \n",
    "\n",
    "    george_data = batting.where('playerID', 'brettge01')\n",
    "\n",
    "The datascience package includes many different predicates that allow you to filter out rows of a table based on different criteria. Below are a list of the predicates that you can filter on, and see the textbook section on selecting rows for more examples.\n",
    "\n",
    "|Predicate|Example|Result|\n",
    "|-|-|-|\n",
    "|`are.equal_to`|`are.equal_to(50)`|Find rows with values equal to 50|\n",
    "|`are.not_equal_to`|`are.not_equal_to(50)`|Find rows with values not equal to 50|\n",
    "|`are.above`|`are.above(50)`|Find rows with values above (and not equal to) 50|\n",
    "|`are.above_or_equal_to`|`are.above_or_equal_to(50)`|Find rows with values above 50 or equal to 50|\n",
    "|`are.below`|`are.below(50)`|Find rows with values below 50|\n",
    "|`are.between`|`are.between(2, 10)`|Find rows with values above or equal to 2 and below 10|\n",
    "|`are.contained_in`|`are.contained_in(make_array(10, 20))`|Find rows with values equal to 10 and 20|\n",
    "\n",
    "\n",
    "**Exercise 1.1 (3 points):** It is hard to tell how good a hitter is if he has no at bats (AB) in a season. Let's start by removing all players who have 0 at bats in a seasons and saving these results with the name `players_with_at_bats`. Then show the first three batters in the `players_with_at_bats` table.\n"
   ]
  },
  {
   "cell_type": "code",
   "execution_count": null,
   "metadata": {},
   "outputs": [],
   "source": [
    "\n",
    "\n"
   ]
  },
  {
   "cell_type": "markdown",
   "metadata": {},
   "source": [
    "## 1.2. Selecting columns as a table\n",
    "\n",
    "Recall we have also already used the `tb.select('col_name')` method to select a column out of a Table. Note this method returns a **Table** as an output. \n",
    "\n",
    "**Exercise 1.2 (3 points)**: Select the columns for the player's ID (`playerID`), the year (`yearID`), at bats (`AB`), hits (`H`), home runs (`HR`) and walks (`BB`) from the `players_with_at_bats` table and save this to the name `smaller_batting`. Then print out which type of data `smaller_batting` is using the `type` function, to show that it is a Table, and display the first three rows of the table.\n"
   ]
  },
  {
   "cell_type": "code",
   "execution_count": null,
   "metadata": {},
   "outputs": [],
   "source": [
    "\n",
    "\n",
    "\n"
   ]
  },
  {
   "cell_type": "markdown",
   "metadata": {},
   "source": [
    "## 1.3. Extracting a single column as an ndarray\n",
    "\n",
    "We can also extract single columns from a table **as an ndarray** using the syntax `tb['col_name']`. \n",
    "\n",
    "**Exercise 1.3 (3 points)**: Select the column for at bats from the `smaller_batting` table as an ndarray and save this to the name `ab_array`. Then print out which type of data `ab_array` is to show that it is an ndarray. Finally, have the notebook print the `ab_array` (i.e., print the default first few values using the `print()` function). \n"
   ]
  },
  {
   "cell_type": "code",
   "execution_count": null,
   "metadata": {},
   "outputs": [],
   "source": [
    "\n",
    "\n",
    "\n"
   ]
  },
  {
   "cell_type": "markdown",
   "metadata": {},
   "source": [
    "## 1.4. Adding a new related column to a table\n",
    "\n",
    "As we also saw on the last homework, we were can add a column to a table using the syntax `tb.with_column('col_name', ndarray)`\n",
    "\n",
    "**Exercise 1.4 (3 points)**: Let's add batting average to our `smaller_batting` using the following steps:\n",
    "\n",
    "1. Create an ndarry that has the hits for all players and save it to a name called `h_array`\n",
    "2. Create an ndarray called `ba_array` that has the batting average for all players\n",
    "3. Add this new column called `BA` to the `smaller_batting` that has the players' batting averages and store this in the name `batting_with_ba`\n",
    "4. Print the first 3 rows of `batting_with_ba`\n"
   ]
  },
  {
   "cell_type": "code",
   "execution_count": null,
   "metadata": {},
   "outputs": [],
   "source": [
    "\n",
    "\n",
    "\n",
    "\n"
   ]
  },
  {
   "cell_type": "markdown",
   "metadata": {},
   "source": [
    "## 1.5. More practice filtering and selecting\n",
    "\n",
    "In order to qualify as the league leader in a batting category, you need at least 502 **plate appearances** (note, I mistakenly wrote on the last homework that you need 502 at-bats, which is not correct!). Plate appearances are roughly equal to the number of at-bats a player has plus the number of walks a player has (also plus the number of hit by pitches, sacrifice flies and a few other events that rarely occur). \n",
    "\n",
    "**Exercise 1.5 (6 points):** Add a new column to the `batting_with_ba` table that is called `Approx_PA` which is equal to at-bats plus walks. Then reduce this table to only those players who have over 500 approximate plate appearances. Save this to the name `hitting_title_contenders`, and show the first 5 rows in this table. Also print out the number of rows this table has, which should be 12017. \n",
    "\n",
    "Note: if the number of rows in your `hitting_title_contenders` table is very different than 12017, please double check your work because the results going forward depend on the `hitting_title_contenders` being correct! \n"
   ]
  },
  {
   "cell_type": "code",
   "execution_count": null,
   "metadata": {},
   "outputs": [],
   "source": [
    "\n",
    "\n",
    "\n",
    "\n",
    "\n"
   ]
  },
  {
   "cell_type": "markdown",
   "metadata": {},
   "source": [
    "## 1.6. Applying function to groups of data to get the highest batting average in each year\n",
    "\n",
    "Next week in S&DS 123 the instructors will discuss how to write functions and apply them to tables. Right now we will preview what you are going to learn by applying a function to get the maximum statistic value produced by any player in a given year. More in-depth coverage of this material is also discussed in [Chapter 8](https://www.inferentialthinking.com/chapters/08/Functions_and_Tables.html) of the class book. \n",
    "\n",
    "To apply the `max()` function separately to each year in our table, we can use the `tb.group('group_col', function_name)` method. Using the `tb.group()` method will cause the `function_name` function to be applied separately to all elements that have a particular value in the `'group_col'` column (i.e., the function will be applied separately to each year).  \n",
    "\n",
    "**Exercise 1.6 (4 points)**: Use the `tb.group()` method along with the `max()` function to get the league leaders in a particular statistic for each year. Then print out the league leader for 1941, the year that Ted Williams had the highest batting average. Why is `youngba01` listed in the playerID max column for the year 1941? \n",
    "\n",
    "**Answer**: "
   ]
  },
  {
   "cell_type": "code",
   "execution_count": null,
   "metadata": {},
   "outputs": [],
   "source": [
    "\n",
    "\n",
    "\n"
   ]
  },
  {
   "cell_type": "markdown",
   "metadata": {},
   "source": [
    "## 1.7. Plotting batting average leader as a function of the year\n",
    "\n",
    "We can create scatter plots of our data using the `tb.scatter('col1', 'col2')` method. Note: in order to see these plots in a Jupyter notebook we need to include the line `%matplotlib inline` so please keep this line in the code section below. \n",
    "\n",
    "\n",
    "**Exercise 1.7 (3 points)**: Create a scatter plot of the batting average leader as a function of the year. Does it appear that the league leader in batting average is decreasing as a function of the year? Please describe patterns you see.\n",
    "\n",
    "**Answer**: \n"
   ]
  },
  {
   "cell_type": "code",
   "execution_count": 2,
   "metadata": {},
   "outputs": [],
   "source": [
    "# this line is needed to have figures display in jupyter notebooks\n",
    "%matplotlib inline\n",
    "\n",
    "\n"
   ]
  },
  {
   "cell_type": "markdown",
   "metadata": {},
   "source": [
    "## 1.8. Plotting the HR leader as a function of the year\n",
    "\n",
    "Let's also examine how home run production has changed as a function of the year. \n",
    "\n",
    "**Exercise 1.8 (3 points)**: Create a scatter plot of the home run leader as a function of the year. Does it appear that the league leader in home runs is changing as a function of the year? Please describe patterns you see.\n",
    "\n",
    "**Answer**: \n"
   ]
  },
  {
   "cell_type": "code",
   "execution_count": null,
   "metadata": {},
   "outputs": [],
   "source": [
    "\n"
   ]
  },
  {
   "cell_type": "markdown",
   "metadata": {},
   "source": [
    "# 2. Comparing players across years using z-scores\n",
    "\n",
    "As we saw in the previous exercise, the values for the league leaders in batting average and home runs changed drastically over the last 140 years. Thus, if we wanted to compare players across several decades, just using their raw statistics would be problematic. One way to do a fairer comparison across decades is to compare players relative to their peers who played during the same year. We can then say that a player is outstanding if he is much better than his peers who played at the same time. \n",
    "\n",
    "A z-score is one way to compare a player relative to his peers. The z-score measures how many standard deviations a player is above the mean performance and is given by the formula:\n",
    "\n",
    "$z_i = \\frac{x_i - \\bar{x}}{s}$\n",
    "\n",
    "Where we have: \n",
    "\n",
    "- $x_i$: is the raw statistic value for our player of interest.\n",
    "- $\\bar{x}$: is the mean statistic values for players who played during the same time period.\n",
    "- s: is the standard deviation of the statistic values for players who played during the same time period.\n",
    "\n",
    "In the following exercise we will compare the z-scores for the batting average of Ted Williams and Wade Boggs to see who has the most outstanding batting average relative to their peers. \n"
   ]
  },
  {
   "cell_type": "markdown",
   "metadata": {},
   "source": [
    "## 2.1 Calculating mean and standard deviation of statistics\n",
    "\n",
    "As we can see in the formula for the z-score above, in order to calculate a z-score we need to first calculate the mean and standard deviation for the statistic of interest. Since we want to calculate the z-scores separately for each year, we will need to calculate these means and standard deviations separately for each year. We can do this by using the `tb.group()` method along with the `np.mean()` and `np.std()` function from the `NumPy` package. \n",
    "\n",
    "**Exercise 2.1 (4 points):** The code below loads the NumPy module in a name called `np`. Use the `np.mean()` function to get the mean batting statistics for each year from the `hitting_title_contenders` table and save this to the name `average_stats`. Also use the `np.std()` function to get the standard deviation of batting statistics for each year from the `hitting_title_contenders` table and save this to the name `sd_stats`. Finally, print the first three rows of these the `average_stats` and `sd_stats` tables.\n"
   ]
  },
  {
   "cell_type": "code",
   "execution_count": 3,
   "metadata": {},
   "outputs": [],
   "source": [
    "import numpy as np\n",
    "\n",
    "\n",
    "\n"
   ]
  },
  {
   "cell_type": "markdown",
   "metadata": {},
   "source": [
    "## 2.2 Getting Ted Williams' and Wade Boggs' player IDs\n",
    "\n",
    "In order to compare Ted Williams' and Wade Boggs' statistics, we need to get just their batting data. To do this, the first step is to get their Lahman player IDs. \n",
    "\n",
    "**Exercise 2.2 (4 points):** The code below loads the `People.csv` data in a table called players. Use this table to get Ted Williams' and Wade Boggs' player IDs and report what these player IDs are (and also be sure to show the code you used below to get these IDs). \n",
    "\n",
    "**Answer**: \n",
    "\n",
    "Ted Williams' playerID is: \n",
    "\n",
    "Wade Boggs' playerID is: "
   ]
  },
  {
   "cell_type": "code",
   "execution_count": 4,
   "metadata": {},
   "outputs": [],
   "source": [
    "# load the table containing information about baseball players including their Lahman IDs\n",
    "players = Table.read_table('https://raw.githubusercontent.com/emeyers/SDS173/master/data/People.csv')  \n",
    "\n",
    "\n",
    "\n"
   ]
  },
  {
   "cell_type": "markdown",
   "metadata": {},
   "source": [
    "## 2.3 Getting Ted and Wade's batting statistics\n",
    "\n",
    "**Exercise 2.3 (4 points):** Now use Ted and Wade's Lahman player IDs to get their batting statistics and save these to the names \n",
    "`ted_batting` and `wade_batting`. Then print how many years each of these players played. \n"
   ]
  },
  {
   "cell_type": "code",
   "execution_count": null,
   "metadata": {},
   "outputs": [],
   "source": [
    "\n",
    "\n",
    "\n"
   ]
  },
  {
   "cell_type": "markdown",
   "metadata": {},
   "source": [
    "## 2.4 Calculating the mean and standard deviations of statistics for the years Ted and Wade played\n",
    "\n",
    "\n",
    "**Exercise 2.4 (6 points):** \n",
    "\n",
    "Now let's get the mean and standard deviation across all players for years Ted and Wade played using the following steps:\n",
    "\n",
    "1. Use the `ted_batting` table to get an ndarray that has all the years Ted Williams played. \n",
    "2. Get the average batting statistics for the years Ted played from the `average_stats` table and save this to the name `ave_ted_years`. Hint: using one of the predicates listed in exercise 1.1 will help here. \n",
    "3. Get the standard deviation of the batting statistics for the years Ted played from the `sd_stats` table and save this to the name `sd_ted_years`.\n",
    "4. Repeat steps 1-3 to create the tables named `ave_wade_years` and `sd_wade_years` for the average and standard deviation of statistics for the years Wade Boggs played. \n"
   ]
  },
  {
   "cell_type": "code",
   "execution_count": null,
   "metadata": {},
   "outputs": [],
   "source": [
    "\n",
    "\n",
    "\n",
    "\n",
    "\n"
   ]
  },
  {
   "cell_type": "markdown",
   "metadata": {},
   "source": [
    "## 2.5 Calculating z-scores for Ted and Wade\n",
    "\n",
    "Now that we have the Ted and Wade's statistics for all years they played, along with tables that have the mean and standard deviations for the statistics for the years they played, we can get their z-scores for the years they played. \n",
    "\n",
    "**Exercise 2.5 (4 points)**. Create an ndarray of the z-scores for the Ted Williams' *batting average* for all years that he played. Also do this for Wade Boggs. Then print out the z-score for all years from both Ted and Wade. \n",
    "\n",
    "Hint: remember that we can easily do vector subtractions and divisions on ndarrays, and also that you already have tables with ted and wade's battting statistics.\n"
   ]
  },
  {
   "cell_type": "code",
   "execution_count": null,
   "metadata": {},
   "outputs": [],
   "source": [
    "\n",
    "\n",
    "\n",
    "\n",
    "\n"
   ]
  },
  {
   "cell_type": "markdown",
   "metadata": {},
   "source": [
    "## 2.6 Side-by-side boxplots of Ted and Wade's z-scored batting averages\n",
    "\n",
    "Now let's visualize their z-scores to see who appears to have the better batting average relative to his peers by creating side-by-side boxplots. \n",
    "\n",
    "To create side-by-side boxplots for datasets with the same number of rows (as is the case here), we can simply create a table that has a separate column for each variable we would like to compare. We can then use the `tb.boxplot()` function to create side-by-side boxplots. \n",
    "\n",
    "**Exercise 2.6 (4 points):** Create an empty table called `both_table`, and then add a column to it called `Ted` that has Ted Williams' batting average z-scores, and add a column called `Wade` that has Wade Boggs' batting average z-scores. Then create a side-by-side boxplot comparing their z-scored batting average. Answer below whether or not you think one player is better than the other.\n",
    "\n",
    "**Answer**:  While Wade Boggs had more variability season to season, overall comparing their z-scored batting averages, there does not appear to be a large difference in their hitting abilities relative to their peers. \n"
   ]
  },
  {
   "cell_type": "code",
   "execution_count": null,
   "metadata": {},
   "outputs": [],
   "source": [
    "\n",
    "\n",
    "\n",
    "\n",
    "\n",
    "\n"
   ]
  },
  {
   "cell_type": "markdown",
   "metadata": {},
   "source": [
    "## 2.7 Side-by-side boxplots of Ted and Wade's z-scored home runs\n",
    "\n",
    "Finally, let's also compare Ted Williams and Wade Boggs in terms of their ability to hit home runs relative to their peers. \n",
    "\n",
    "**Exercise 2.7 (6 points):** Create a side-by-side boxplot of the z-scores for Ted Williams' and Wade Boggs' home runs. Does one player appear better than the other in terms of home runs?\n",
    "\n",
    "**Answer:** \n"
   ]
  },
  {
   "cell_type": "code",
   "execution_count": null,
   "metadata": {},
   "outputs": [],
   "source": [
    "\n",
    "\n",
    "\n",
    "\n",
    "\n",
    "\n",
    "\n"
   ]
  },
  {
   "cell_type": "markdown",
   "metadata": {},
   "source": [
    "# 3. Aging curves\n",
    "\n"
   ]
  },
  {
   "cell_type": "markdown",
   "metadata": {},
   "source": [
    "As players age, their performance often increases over the first few years of their careers and then decreases toward the end of their careers. Let's see if we can see this in the data we have! \n",
    "\n",
    "If you are interested in reading more about aging curves, check out [this article from fangraphs.com](https://library.fangraphs.com/the-beginners-guide-to-aging-curves/), which has links to other articles on the topic as well. Also, some of the material we will discuss below will be covered in S&DS 123 next week, but this will give you a preview of a few topics to come, and you can read more in the class textbook [Chapter 6](https://www.inferentialthinking.com/chapters/06/Tables.html).\n",
    "\n",
    "\n",
    "## 3.1 Exploring Ted and Wade's aging curves\n",
    "\n",
    "Since we already have the data from Ted Williams and Wade Boggs in convenient tables, let's start by examining how Ted Williams' and Wage Boggs' batting average changed over their careers. \n",
    "\n",
    "**Exercise 3.1 (4 points):** Create scatter plots Ted Williams' and Wage Boggs' batting average as a function of the year. Does it appear that their performance changed as they got older? \n",
    "\n",
    "**Answer:**  \n"
   ]
  },
  {
   "cell_type": "code",
   "execution_count": null,
   "metadata": {},
   "outputs": [],
   "source": [
    "\n",
    "\n"
   ]
  },
  {
   "cell_type": "markdown",
   "metadata": {},
   "source": [
    "## 3.2 Joining data tables\n",
    "\n",
    "Let's now create a more general aging curve that is more robust by averaging individual aging curves of many players together. \n",
    "\n",
    "In the exercises above, we created separate tables for players' demographic information (in People.csv) and players' batting statistics (in Batting.csv). However, often it is useful to combine data from two separate tables into a single table. \n",
    "\n",
    "Combining data tables based on values in a column is called a `join`. The Table object in the datascience package makes it easy to join tables using the syntax:\n",
    "\n",
    "`tb1.join('col_tb1', tb2, 'col_tb2')`\n",
    "\n",
    "where:\n",
    "\n",
    "- `tb1` refers to the first table\n",
    "- `'col_tb1'` refers to the name of the column in the first table\n",
    "- `tb2` refers to the second table\n",
    "- `'col_tb2'` refers to the name of the column in the second table\n",
    "\n",
    "What the join function does is it merges rows where the values in the `'col_tb1'` column from the first table match the values in the `'col_tb2'` column from the second table. \n",
    "\n",
    "**Exercise 3.2 (5 points):** Join the hitting information in the `hitting_title_contenders` table with the players' demographic information in the `players` table, and save the result to the name `joined_batting_players`. Join these tables based on the `playerID` column.  Also make sure that `tb1` (the left table) is `hitting_title_contenders` and the table passed as an argument to the join() method is the `players` table (i.e., your code should contain `hitting_title_contenders.join`). Then report the number of rows in this joined table and show the first three rows. \n"
   ]
  },
  {
   "cell_type": "code",
   "execution_count": null,
   "metadata": {},
   "outputs": [],
   "source": [
    "\n",
    "\n",
    "\n",
    "\n"
   ]
  },
  {
   "cell_type": "markdown",
   "metadata": {},
   "source": [
    "## 3.3 Adding players' ages to the joined table\n",
    "\n",
    "One of the fields in the `players` table is the `birthYear`, which is now also a column in the `joined_batting_players`. We can use the `birthYear` combined with the `yearID` column to approximate each player's age in a given season. \n",
    "\n",
    "**Exercise 3.3 (6 points):** Create an ndarray that has players' approximate ages in each season by subtracting the `yearID` from `birthYear`. Then add a new column to the `joined_batting_players` table called `Age` that has these ages. Finally, show the first three rows of the `joined_batting_players` table.\n"
   ]
  },
  {
   "cell_type": "code",
   "execution_count": null,
   "metadata": {},
   "outputs": [],
   "source": [
    "\n",
    "\n",
    "\n",
    "\n"
   ]
  },
  {
   "cell_type": "markdown",
   "metadata": {},
   "source": [
    "## 3.4 Finding players with relatively long careers\n",
    "\n",
    "Now that we have players' ages along with the batting statistics, we are almost ready to plot aging curves. However, to create more meaningful aging curves it will be useful to only use players who have played many seasons. \n",
    "\n",
    "**Exercise 3.4 (6 points):** Let's create our aging curve based on only players who have played 10 or more seasons. To do this use the following steps: \n",
    "\n",
    "1. create a table called `count_years_played` that contains the number of years each player has played (hint: group on `playersID` using the `joined_batting_players`, see: https://www.inferentialthinking.com/chapters/08/2/Classifying_by_One_Variable.html). \n",
    "\n",
    "2. Filter `count_years_played` table to only contain counts that are greater than 10 and save this table as the name `count_many_seasons`.\n",
    "\n",
    "3. Extract an ndarray of the playerIDs from the `count_many_seasons` table and store it in the name `many_seasons_IDs`\n",
    "\n",
    "4. Filter the `joined_batting_players` to only contain playerIDs that are in `many_seasons_IDs` and store this in the name `played_many_seasons`. \n",
    "\n",
    "5. Show the first 3 entries to the `played_many_seasons` table, and also show the counts for how many players are in each age in the `played_many_seasons` table. \n",
    "\n"
   ]
  },
  {
   "cell_type": "code",
   "execution_count": null,
   "metadata": {},
   "outputs": [],
   "source": [
    "\n",
    "\n",
    "\n",
    "\n",
    "\n",
    "\n",
    "\n",
    "\n",
    "\n",
    "\n"
   ]
  },
  {
   "cell_type": "markdown",
   "metadata": {},
   "source": [
    "## 3.5 Averaging performance at each age\n",
    "\n",
    "Now let's create the average player performance and plot it as a scatter plot.  \n",
    "\n",
    "**Exercise 3.5 (5 points):** Use the following steps to create the average performance as a function of age for ages between 23 and 36:\n",
    "\n",
    "1. To make the data easier to deal with, select only the columns for age, home runs and batting average. Then get the mean performance of these statistics by grouping by Age and using `np.mean()` \n",
    "\n",
    "2. Filter the results to only have ages between 23 and 36\n",
    "\n",
    "3. Create a scatter plot of home runs as a function of age\n",
    "\n",
    "4. Create a scatter plot of batting average as a function of age \n",
    "\n",
    "For home runs and batting average, does it appear that players get better up to a certain age and then worse? And if so, what appears to be the peak age? \n",
    "\n",
    "**Answer:** \n",
    "\n"
   ]
  },
  {
   "cell_type": "code",
   "execution_count": 5,
   "metadata": {},
   "outputs": [],
   "source": [
    "# 4. Average batting statistics from these players together (group by year)\n",
    "\n",
    "\n",
    "\n",
    "\n",
    "\n",
    "\n"
   ]
  },
  {
   "cell_type": "markdown",
   "metadata": {},
   "source": [
    "# 4. Explore your own question (6 points)\n",
    "\n",
    "Try your own exploration of the data to see if you can find anything interesting. The level of complexity is up to you. For example, if you wanted to try something relatively simple you could look at how the number of stolen bases for the league leader changed as a function of the year. \n"
   ]
  },
  {
   "cell_type": "code",
   "execution_count": null,
   "metadata": {},
   "outputs": [],
   "source": [
    "\n",
    "\n",
    "\n"
   ]
  },
  {
   "cell_type": "markdown",
   "metadata": {},
   "source": [
    "## 5. Bonus exercises (0 points)\n",
    "\n",
    "Did you find this lab too easy? If so, copy over this lab to a new Jupyter notebook and repreat some (or all) of the exercises without using the `datascience` package and instead use the `NumPy`, `Pandas` and `Matplotlib` packages. This exercise will not contribute to your grade in the class but it will be good practice if you intend to use Python to analyze data in your future work. \n",
    "\n",
    "\n"
   ]
  },
  {
   "cell_type": "markdown",
   "metadata": {},
   "source": [
    "## 6. Quote and reaction to Astroball chapter 2 (5 points)\n",
    "\n",
    "Please find an interesting quote from chapter 2 of Astroball and then write a ~one paragraph reaction to the quote below.\n",
    "\n",
    "Quote: \n",
    "\n",
    "Reaction: \n",
    "\n"
   ]
  },
  {
   "cell_type": "markdown",
   "metadata": {},
   "source": [
    "## 7. Reflection (3 points)\n",
    "\n",
    "How did this lab go? Please complete the [reflection homework 2](https://yale.instructure.com/courses/56241/quizzes/21979) which is under the quiz section on Canvas to let us know how it went and to reflect on what you learned. \n"
   ]
  }
 ],
 "metadata": {
  "anaconda-cloud": {},
  "kernelspec": {
   "display_name": "Python 3",
   "language": "python",
   "name": "python3"
  },
  "language_info": {
   "codemirror_mode": {
    "name": "ipython",
    "version": 3
   },
   "file_extension": ".py",
   "mimetype": "text/x-python",
   "name": "python",
   "nbconvert_exporter": "python",
   "pygments_lexer": "ipython3",
   "version": "3.7.3"
  }
 },
 "nbformat": 4,
 "nbformat_minor": 4
}
