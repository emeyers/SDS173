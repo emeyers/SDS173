{
 "cells": [
  {
   "cell_type": "markdown",
   "metadata": {},
   "source": [
    "\n",
    "# Class 3 exercises \n",
    "\n",
    "The following are some exercises we will do in class. Lab 2 will build off the results from these exercises.\n",
    "\n"
   ]
  },
  {
   "cell_type": "markdown",
   "metadata": {},
   "source": [
    "## Creating lead leaders in batting average for every year\n",
    "\n",
    "Let's try to figure out the steps needed to create a plot of the league leaders in batting average as a function of the year starting from the Lahman batting data set (which is loaded below).\n",
    "\n",
    "Relevant questions:\n",
    "\n",
    "1. What allows someone to qualify as a \"league leader\" in statistics?\n",
    "2. What statistics are needed to plot the league leader in batting average? \n",
    "\n",
    "\n",
    "See if you can describe the steps needed to plot the league leader in batting average? \n",
    "\n",
    "The steps are:\n",
    "\n",
    "1. \n",
    "2. \n",
    "3. \n",
    "...\n",
    "\n"
   ]
  },
  {
   "cell_type": "code",
   "execution_count": 8,
   "metadata": {},
   "outputs": [
    {
     "data": {
      "text/html": [
       "<table border=\"1\" class=\"dataframe\">\n",
       "    <thead>\n",
       "        <tr>\n",
       "            <th>playerID</th> <th>yearID</th> <th>stint</th> <th>teamID</th> <th>lgID</th> <th>G</th> <th>AB</th> <th>R</th> <th>H</th> <th>2B</th> <th>3B</th> <th>HR</th> <th>RBI</th> <th>SB</th> <th>CS</th> <th>BB</th> <th>SO</th> <th>IBB</th> <th>HBP</th> <th>SH</th> <th>SF</th> <th>GIDP</th>\n",
       "        </tr>\n",
       "    </thead>\n",
       "    <tbody>\n",
       "        <tr>\n",
       "            <td>abercda01</td> <td>1871  </td> <td>1    </td> <td>TRO   </td> <td>nan </td> <td>1   </td> <td>4   </td> <td>0   </td> <td>0   </td> <td>0   </td> <td>0   </td> <td>0   </td> <td>0   </td> <td>0   </td> <td>0   </td> <td>0   </td> <td>0   </td> <td>nan </td> <td>nan </td> <td>nan </td> <td>nan </td> <td>0   </td>\n",
       "        </tr>\n",
       "        <tr>\n",
       "            <td>addybo01 </td> <td>1871  </td> <td>1    </td> <td>RC1   </td> <td>nan </td> <td>25  </td> <td>118 </td> <td>30  </td> <td>32  </td> <td>6   </td> <td>0   </td> <td>0   </td> <td>13  </td> <td>8   </td> <td>1   </td> <td>4   </td> <td>0   </td> <td>nan </td> <td>nan </td> <td>nan </td> <td>nan </td> <td>0   </td>\n",
       "        </tr>\n",
       "        <tr>\n",
       "            <td>allisar01</td> <td>1871  </td> <td>1    </td> <td>CL1   </td> <td>nan </td> <td>29  </td> <td>137 </td> <td>28  </td> <td>40  </td> <td>4   </td> <td>5   </td> <td>0   </td> <td>19  </td> <td>3   </td> <td>1   </td> <td>2   </td> <td>5   </td> <td>nan </td> <td>nan </td> <td>nan </td> <td>nan </td> <td>1   </td>\n",
       "        </tr>\n",
       "    </tbody>\n",
       "</table>\n",
       "<p>... (108786 rows omitted)</p>"
      ],
      "text/plain": [
       "<IPython.core.display.HTML object>"
      ]
     },
     "metadata": {},
     "output_type": "display_data"
    }
   ],
   "source": [
    "# load the data\n",
    "from datascience import *\n",
    "\n",
    "batting = Table.read_table('https://raw.githubusercontent.com/emeyers/SDS173/master/data/Batting.csv')  \n",
    "\n",
    "batting.show(3)\n",
    "\n"
   ]
  },
  {
   "cell_type": "markdown",
   "metadata": {},
   "source": [
    "## Aging curves\n",
    "\n",
    "What steps are needed to create aging curves from the Lahman batting and people data sets? \n",
    "\n",
    "The steps are:\n",
    "\n",
    "1. \n",
    "2. \n",
    "3. \n",
    "...\n",
    "\n"
   ]
  },
  {
   "cell_type": "code",
   "execution_count": null,
   "metadata": {},
   "outputs": [],
   "source": [
    "\n",
    "players = Table.read_table('https://raw.githubusercontent.com/emeyers/SDS173/master/data/People.csv')  \n",
    "\n"
   ]
  }
 ],
 "metadata": {
  "kernelspec": {
   "display_name": "Python 3",
   "language": "python",
   "name": "python3"
  },
  "language_info": {
   "codemirror_mode": {
    "name": "ipython",
    "version": 3
   },
   "file_extension": ".py",
   "mimetype": "text/x-python",
   "name": "python",
   "nbconvert_exporter": "python",
   "pygments_lexer": "ipython3",
   "version": "3.7.9"
  }
 },
 "nbformat": 4,
 "nbformat_minor": 4
}
