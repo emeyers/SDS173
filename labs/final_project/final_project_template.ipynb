{
 "cells": [
  {
   "cell_type": "markdown",
   "metadata": {},
   "source": [
    "## Final project: Add your title here\n",
    "\n",
    "\n",
    "\n",
    "<br>\n",
    "\n",
    "This is a template for creating your final project report. It lays out the sections that should be in your write-up and describes a little about these sections. However, there a lot of flexibility to deviate from this structure. For example, interweaving more visualizations and analyses could work well. \n",
    "\n",
    "Your report should be between 5-10 pages long and should contain:\n",
    "\n",
    "    1. Introduction: \n",
    "      a. what is question you are addressing? \n",
    "      b. why is the question important?\n",
    "      c. where did you get the data?\n",
    "      d. a description of any other analyses that been done on the data\n",
    "      \n",
    "    2. Visualizations of the data: one or more plots\n",
    "    \n",
    "    3. Analyses: models, hypothesis tests, confidence intervals and other inferential statistics that give insight into your question\n",
    "    \n",
    "    4. Conclusions: what you found, future directions, etc.\n",
    "    \n",
    "    5. Reflection  (also do be done on Canvas): \n",
    "       a. what went well \n",
    "       b. what did you struggle with\n",
    "       c. what analyses did you do that you are not including, etc. \n",
    "\n",
    "If there is additional code or data you would like to include with your report, you can also create a GitHub page and add a link to it in your report. Additionally, you can append the full code for your analysis in an appendix section at the end of the document, and then include only the most important pieces of code in the body of the report. For example, you can exclude details of data cleaning from the body of the report, but include anything of central to your analyses, and also any information about particular choices you made that might affect the results and why you made those choices (e.g., explain if data was excluded and why, etc.). \n",
    "\n",
    "Please make your report look good by paying attention to details. Please delete all instruction for when you turn in the final project and only keep the relevant sections. \n",
    "\n",
    "You will also create a short video presentation about your project that you will submit by Monday May 2nd. Your project does not need to be complete when you create the video, but you should describe what you have found so far and what will be in the project once it is completed. We will then have a discussion about everyone's project during class on May 5th and your final project report (i.e, this document) will be due as a pdf on Canvas by May 13th (the last day of reading period). \n",
    "\n",
    "\n",
    "<br>\n"
   ]
  },
  {
   "cell_type": "markdown",
   "metadata": {},
   "source": [
    "## Introduction \n",
    "\n",
    "\n",
    "Write a few paragraphs describing:\n",
    "\n",
    "1. What problem you are addressing and why the problem you are addressing is interesting.\n",
    "\n",
    "2. Where you got the data from, including a link to the website where you got the data if applicable. \n",
    "\n",
    "3. What other analyses have already been done with the data and possibly links to other analyses \n",
    "\n"
   ]
  },
  {
   "cell_type": "markdown",
   "metadata": {},
   "source": [
    "## Data wrangling: change the subtitle here to be more descriptive of what you are doing in this section\n",
    "\n",
    "\n",
    "Briefly discuss how you got the data into shape for your analyses. You can include some code here, although extensive data cleaning code should be put on GitHub or in an appendix at the end of the document. \n",
    "\n"
   ]
  },
  {
   "cell_type": "code",
   "execution_count": 4,
   "metadata": {},
   "outputs": [],
   "source": [
    "# Show the analyses you did here\n",
    "\n",
    "# Breaking this up to multiple cells with multiple descriptions of what you did is probably a good idea.\n",
    "\n"
   ]
  },
  {
   "cell_type": "markdown",
   "metadata": {},
   "source": [
    "## Visualize the data: Change the subtitle here to describe what you are plotting etc.\n",
    " \n",
    "\n",
    "Create one or more plots of your data. Describe the plot(s), what they shows, and why they are of interest to your analysis. Include the code to create these plots in the Python sections belows. You can also discuss the plots after the code. Finally, be sure to make plots as clear as possible by having clear axis labels, legends, captions etc., so that it is easy for the reader to quickly understand the central information being conveyed. \n",
    "\n"
   ]
  },
  {
   "cell_type": "code",
   "execution_count": 1,
   "metadata": {},
   "outputs": [],
   "source": [
    "# Show the analyses you did here\n",
    "\n",
    "# Breaking this up to multiple cells with multiple descriptions of what you did is probably a good idea.\n",
    "\n"
   ]
  },
  {
   "cell_type": "markdown",
   "metadata": {},
   "source": [
    "## Analyses: subtitle about the analyses/models you are using \n",
    "\n",
    "\n",
    "Build linear models, run hypothesis tests, create confidence intervals and/or run simulations to answer questions that are of interest. \n",
    "\n",
    "\n"
   ]
  },
  {
   "cell_type": "code",
   "execution_count": 6,
   "metadata": {},
   "outputs": [],
   "source": [
    "# Show the analyses you did here\n",
    "\n",
    "# Breaking this up to multiple cells with multiple descriptions of what you did is probably a good idea.\n",
    "\n"
   ]
  },
  {
   "cell_type": "markdown",
   "metadata": {},
   "source": [
    "## Conclusions\n",
    "\n",
    "Write a few paragraphs summarizing what you found, how the findings address your question of interest, and possible future directions. Please make sure describe your conclusions in an intuitive way, and make sure that your argument is strong and backed by solid evidence from your data. \n"
   ]
  },
  {
   "cell_type": "markdown",
   "metadata": {},
   "source": [
    "## Reflection\n",
    "  \n",
    "\n",
    "Write a few paragraphs describing what went well with this project and what was more difficult. Also describe any additional things you tried that you did not end up including in this write-up, and approximately how much time you spend working the project. \n",
    "\n",
    "Finally, please go to Canvas and answer a few questions related to the class and how this project went: https://yale.instructure.com/courses/65116/quizzes/35177\n",
    "\n"
   ]
  },
  {
   "cell_type": "markdown",
   "metadata": {},
   "source": [
    "## Appendix (optional)\n",
    "\n",
    "If there is additional code you would like to include (in order to keep your project write-up 10 pages or less) you can include it here. Additionally, you could create a GitHub page that has all the working code and data for your analyses (this could be beneficial later as well if you want to show this to future employers, etc.).  \n",
    "\n"
   ]
  },
  {
   "cell_type": "code",
   "execution_count": null,
   "metadata": {},
   "outputs": [],
   "source": []
  }
 ],
 "metadata": {
  "kernelspec": {
   "display_name": "Python 3",
   "language": "python",
   "name": "python3"
  },
  "language_info": {
   "codemirror_mode": {
    "name": "ipython",
    "version": 3
   },
   "file_extension": ".py",
   "mimetype": "text/x-python",
   "name": "python",
   "nbconvert_exporter": "python",
   "pygments_lexer": "ipython3",
   "version": "3.7.3"
  }
 },
 "nbformat": 4,
 "nbformat_minor": 4
}
