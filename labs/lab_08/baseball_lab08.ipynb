{
 "cells": [
  {
   "cell_type": "markdown",
   "metadata": {},
   "source": [
    "# Baseball Lab 8\n",
    "\n",
    "\n",
    "Welcome to the eighth baseball lab. This lab is due by  **Monday April 19th at 11:30pm**. \n",
    "\n",
    "As always, you are welcome to work with others on the lab, but if you do work with others after class, please note on the reflection quiz who you worked with. If you have questions about the homework please use [Ed discussions](https://edstem.org/us/courses/4202/discussion/) so that everyone can benefit from your question. Additionally, please answer questions others raise on Ed discussions. Finally, please feel free to attend Neel's and my office hours for additional help. \n",
    "\n",
    "\n",
    "\n",
    "#### Today's Baseball Lab\n",
    "\n",
    "In today's exercises, you'll get practice:\n",
    "\n",
    "1. Exploring sampling and bootstrap distributions using a web app.\n",
    "2. Creating bootstrap confidence intervals in Python.\n",
    "3. Using the correlation coefficient to determine which batting statistic is the best.\n",
    "\n",
    "Reading that will be useful for solving the problems below are chapters 11-15 from the class textbook. [Chapter 13](https://www.inferentialthinking.com/chapters/13/Estimation.html) of the class textbook will be particularly helpful for computing bootstrap confidence intervals in Python. And chapter 15.1 will be useful for understanding correlation (although we will compute correlation in a different way in Python).  \n"
   ]
  },
  {
   "cell_type": "code",
   "execution_count": 11,
   "metadata": {},
   "outputs": [],
   "source": [
    "# importing packages that will be used in this lab\n",
    "\n",
    "from datascience import *\n",
    "import pandas as pd\n",
    "import numpy as np\n",
    "from scipy.stats import binom\n",
    "import matplotlib.pyplot as plt\n",
    "\n",
    "\n",
    "np.random.seed(173)\n",
    "\n",
    "%matplotlib inline\n"
   ]
  },
  {
   "cell_type": "markdown",
   "metadata": {},
   "source": [
    "# Part 1: Exploring sampling distributions\n",
    "\n",
    "\n",
    "In the exercises for part 1 and part 2 you will use a web application to explore sampling and bootstrap distributions. You will also explore standard errors and confidence intervals computed from these distributions. The application to use is located at http://bit.ly/SE_app. Note, the application can occasionally be buggy, so if it acts strangely please reload the web page.\n",
    "\n",
    "To complete these exercises, open up the web application. When the application is open you will see the following three plots:\n",
    "\n",
    "a. The plot on the upper left shows the distribution of data in a population. The shape of the population distribution can be changed using the population distribution dropdown box, where the choices are: right-skewed, bimodal and normal.\n",
    "\n",
    "b. The plot on the lower left shows a histogram of the data from one single sample of size n. The size of the sample can be changed using the sample size input box.\n",
    "\n",
    "c. The plot on the upper right shows an (approximate) sampling distribution (histogram) of statistics based on 5,000 samples (i.e., each statistic in the histogram was computed from one of the 5,000 samples). The type of statistic that goes into this distribution can be changed using the ‘statistic’ drop-down box. Options for the statistics you can use are: the mean, the median and the standard deviation.\n"
   ]
  },
  {
   "cell_type": "markdown",
   "metadata": {},
   "source": [
    "## 1.1: Describing the shape of the sampling distribution for different distributions\n",
    "\n",
    "**Exercise 1.1 (4 points)**: Using the mean statistic and a sample size of n = 100, describe the shape of the sampling distribution for the:\n",
    "\n",
    "1. The right skewed population distribution \n",
    "\n",
    "2. The bimodal population distribution\n",
    "\n",
    "3. The normal population distribution\n",
    "\n",
    "In the conclusion section below, please answer the question: does the shape of the sampling distribution\n",
    "change a lot depending on the shape of the population distribution? \n",
    "\n",
    "**Answers:**\n",
    "\n",
    "1. The shape of the sampling distribution is: \n",
    "\n",
    "2. The shape of the sampling distribution is: \n",
    "\n",
    "3. The shape of the sampling distribution is: \n",
    "\n",
    "Conclusion: \n",
    "\n"
   ]
  },
  {
   "cell_type": "markdown",
   "metadata": {},
   "source": [
    "## 1.2:  Describing the shape of the sampling distribution for different statistics\n",
    "\n",
    "**Exercise 1.2 (4 points)**: Using a sample size of n = 100 and a population distribution that is right skewed, describe the shape of the sampling distribution for the statistics of:\n",
    "\n",
    "1. mean ($\\bar{x}$)\n",
    "\n",
    "2. standard deviation (s)\n",
    "\n",
    "3. median\n",
    "\n",
    "\n",
    "Answer in the conclusion section below: does the shape of the distribution change a lot depending on the statistic chosen?\n",
    "\n",
    "**Answers:**\n",
    "\n",
    "1. The shape of the sampling distribution is: \n",
    "\n",
    "2. The shape of the sampling distribution is: \n",
    "\n",
    "3. The shape of the sampling distribution is: \n",
    "\n",
    "Conclusion: \n"
   ]
  },
  {
   "cell_type": "markdown",
   "metadata": {},
   "source": [
    "## 1.3:  Describing the shape of the sampling distribution for different sample sizes (n)\n",
    "\n",
    "**Exercise 1.3 (4 points)**: Keeping population distribution right-skewed and the statistic being the sample mean $\\bar{x}$. Compare the sample sizes of:\n",
    "\n",
    "1. n = 20 \n",
    "\n",
    "2. n = 80\n",
    "\n",
    "3. n = 320\n",
    "\n",
    "In the answer section below describe the shape of the sampling distribution for these different sample sizes and what the standard errors (SE) are. Is this what you would expect? Why? Also, do you notice any relationship between the different standard errors?\n",
    "\n",
    "**Answers:**\n",
    "\n",
    "1. The shape is _________. The SE = \n",
    "\n",
    "2. The shape is _________. The SE = \n",
    "\n",
    "3. The shape is _________. The SE = \n",
    "\n",
    "Conclusion:  \n"
   ]
  },
  {
   "cell_type": "markdown",
   "metadata": {},
   "source": [
    "# Part 2:  Exploring sampling distributions\n",
    "\n",
    "For the next three questions check the box that says ‘Display Bootstrap Distribution’. You should notice a new plot in the lower right that shows the bootstrap distribution that is created from the one sample in the lower left plot.\n"
   ]
  },
  {
   "cell_type": "markdown",
   "metadata": {},
   "source": [
    "## 2.1:  Comparing the centers of different distributions\n",
    "\n",
    "\n",
    "The centers of these distributions are given by red lines on the plots, and the center values are listed at the top of the 4 plots. To get a sense of the relationship between the center values between the plots, set the statistic to the mean, and explore relationships between these plots by changing the sample size to values around 100 which will generate: a) a new sample, b) a new sampling distribution and c) the resulting bootstrap distribution from the sample. Also check that you get similar results for different underlying population distributions. \n",
    "\n",
    "**Exercise 2.1 (5 points)**: Please answer the following questions:\n",
    "\n",
    "1. How does the population mean (μ) relate to the center of the sampling distribution ($E[\\bar{x}]$)? \n",
    "\n",
    "\n",
    "2. How does the center of the sample ($\\bar{x}$) relate to the population mean (μ)? Is this expected?\n",
    "\n",
    "\n",
    "3. How does the center of the bootstrap distribution ($E[\\bar{x}^∗]$) relate to the center of the sample ($\\bar{x}$)?\n",
    "\n",
    "\n",
    "4. How does the center of the bootstrap distribution relate to the center of the population (μ)?\n",
    "\n",
    "\n",
    "**Answers:**\n",
    "\n",
    "1. \n",
    "\n",
    "2. \n",
    "\n",
    "3. \n",
    "\n",
    "4. \n",
    "\n"
   ]
  },
  {
   "cell_type": "markdown",
   "metadata": {},
   "source": [
    "## 2.2:  Creating confidence intervals\n",
    "\n",
    "\n",
    "**Exercise 2.2 (5 points)**: How does the standard error and confidence interval of the sampling distribution compare to the standard error and confidence interval created from the bootstrap distribution? To explore this, set the distribution to normal and the statistic to the mean. Then run the following steps three times and fill in answers below:\n",
    "\n",
    "1.  Set the sample size to n = 99 and then reset it to n = 100. This will rerun the app to create a new sample and a new bootstrap distribution.\n",
    "\n",
    "2. Write down the SE from the sampling distribution, the SE* from the bootstrap distribution, and the mean ($\\bar{x}$) from the one sample on the lower left.\n",
    "\n",
    "3.  Using the statistic value from the one sample ($\\bar{x}$), compute a 95% confidence interval from the sampling distribution (using SE) and using the bootstrap distribution (SE*) using the formulas: CI = $\\bar{x}$ ± 2·SE and $CI_b = \\bar{x}$ ± 2 · SE∗.\n",
    "\n",
    "Do all these intervals capture the population parameter?\n",
    "\n",
    "\n",
    "\n",
    "**Answers:**\n",
    "\n",
    "1. $\\bar{x}$ = ________ SE = ________ CI = [________ ________]  SE∗ = ________ CIb = [________ ________ ]\n",
    "\n",
    "2. $\\bar{x}$ = ________ SE = ________ CI = [________ ________]  SE∗ = ________ CIb = [________ ________ ]\n",
    "\n",
    "3. $\\bar{x}$ = ________ SE = ________ CI = [________ ________]  SE∗ = ________ CIb = [________ ________ ]\n",
    "\n",
    "Do all three intervals capture the population parameter?"
   ]
  },
  {
   "cell_type": "markdown",
   "metadata": {},
   "source": [
    "## 2.3:  Creating confidence intervals when the population distribution is right skewed\n",
    "\n",
    "**Exercise 2.3 (5 points)**: Repeat exercise 2.2 but using the right skewed population. Do all three intervals capture the population parameter?\n",
    "\n",
    "\n",
    "1. Set the sample size to n = 99 and then reset it to n = 100. This will rerun the app to create a new sample and a new bootstrap distribution.\n",
    "\n",
    "\n",
    "2. Write down the SE from the sampling distribution, the SE* from the bootstrap distribution, and the mean ($\\bar{x}$) from the one sample on the lower left.\n",
    "\n",
    "\n",
    "3. Using the statistic value from the one sample ($\\bar{x}$), compute a 95% confidence interval from the sampling distribution (using SE) and using the bootstrap distribution (SE∗) using the formulas: CI = $\\bar{x}$ ± 2 · SE and $CI_b = \\bar{x}$ ± 2 · SE∗.\n",
    "\n",
    "**Answers:**\n",
    "\n",
    "1. $\\bar{x}$ = ________ SE = ________ CI = [________ ________] SE∗ = ________ CIb = [________ ________ ]\n",
    "\n",
    "2. $\\bar{x}$ = ________ SE = ________ CI = [________ ________] SE∗ = ________ CIb = [________ ________ ]\n",
    "\n",
    "3. $\\bar{x}$ = ________ SE = ________ CI = [________ ________] SE∗ = ________ CIb = [________ ________ ]\n",
    "\n",
    "Do all three intervals capture the population parameter?\n",
    "\n"
   ]
  },
  {
   "cell_type": "markdown",
   "metadata": {},
   "source": [
    "# Part 3:  Computing bootstrap confidence intervals using Python\n",
    "\n",
    "In labs 6 and 7 you ran a randomization test and a parametric hypothesis test to examine whether A-Rod's true OBP ability was π = .300. Both of those tests rejected the null hypothesis and thus we determined that A-Rod's true OBP ability must be greater than π = .300. But what is a plausible range for his OBP ability? In the following exercise we will use the bootstrap to calculate a confidence interval which will give a range of plausible values for A-Rod's OBP ability π. \n",
    "\n",
    "\n",
    "### The logic beyond bootstrap confidence intervals\n",
    "\n",
    "As discussed in class, the bootstrap is a method that can be used to calculate confidence intervals. It works by generating a **bootstrap distribution** which approximates the **sampling distribution** of our statistic of interest. The standard deviation of this bootstrap distribution (SE*) is often a good approximation for the standard error of the sampling distribution (SE). \n",
    "\n",
    "If our sampling distribution is normal (which it often is, as demonstrated by Exercises 1 and 2 above), then a 95% confidence interval can be calculated using the formula: stat $\\pm$ 2 $\\cdot$ SE. Since we almost never know the true SE, we can instead calculate a confidence interval using the formula: stat $\\pm$ 2 $\\cdot$ SE* (i.e., we replace the true sampling distribution standard error SE, with our bootstrap estimate SE*). \n",
    "\n",
    "We can also create bootstrap confidence intervals using percentiles. For example, we could create a 95% confidence interval by taking the percentiles of our bootstrap distribution such that 95% of the data is contained in the middle of the distribution; i.e., we can take the 2.5 and 97.5 percentiles of our bootstrap distribution to get a 95% confidence interval (this is the method described in chapter 13 of the class textbook). \n",
    "\n",
    "To run the bootstrap, we need to sample with replacement from our actual data. We will run through the procedure on how to do this in this exercise. \n"
   ]
  },
  {
   "cell_type": "markdown",
   "metadata": {},
   "source": [
    "## 3.1: Generating data to do the bootstrap\n",
    "\n",
    "Recall that the problem statement for when we ran a hypothesis tests to examine if A-Rod's OBP ability was greater than π = .300 started by saying \"In 2012, Alex Rodriguez (A-Rod) had a .353 on-base percentage (OBP) based on 529 plate appearances.\" This statement lists all the data that is needed in order to run a hypothesis test. However, to run a bootstrap procedure, we need an actual sample of data. So to start with, we will need to recreate a data sample that matches the statistics given in the problem statement (alternatively, we could go to the retrosheet play-by-play data from 2012 and extract A-Rod's data, but this would likely be more difficult). \n",
    "\n",
    "Let's call this table we will create `ARod_onbase_table`. This table should have the following properties:\n",
    "\n",
    "1. It should have a single column that is called `ONBASE_EVENT`.\n",
    "\n",
    "2. The entries in this `ONBASE_EVENT` column are the boolean value True for plate appearances in which A-Rod got on base, and False for plate appearances in which he got out. \n",
    "\n",
    "3. For the purpose of running the bootstrap, the order of the entries on-base events and out events does not matter (i.e., the order of the True and False values in the `ONBASE_EVENT` column does not matter. All that matters is that there are the correct number of these events). \n",
    "\n",
    "A function that will be very useful when creating this table is the `np.full(num_rows, fill_value)` which creates an ndarray that has `num_rows` entries in it, where each entry is given by the `fill_value`. It will also be useful to first create a table that only has the out events in it (i.e., only the False values), and a table that only has the value on-base events in it (i.e., the True values), and then use the `tb.append()` function to combine these tables to create the full `ARod_onbase_table`.  \n",
    "\n",
    "**Exercise 3.1 (7 points)**: Please go ahead and create the `ARod_onbase_table` table in the Python chunk below. Once you have created this table, calculate and print A-Rod's on-base percentage from this table and the number of rows in the table to show that it matches A-Rod's 2012 statistics.\n"
   ]
  },
  {
   "cell_type": "code",
   "execution_count": null,
   "metadata": {},
   "outputs": [],
   "source": [
    "\n",
    "\n",
    "\n",
    "\n",
    "\n"
   ]
  },
  {
   "cell_type": "markdown",
   "metadata": {},
   "source": [
    "## 3.2:  Creating the bootstrap distribution\n",
    "\n",
    "To create a bootstrap distribution, you should write a function called `bootstrap_proportion(original_sample, label, replications)` that takes a Table and returns an ndarray that contains the bootstrapped distribution of proportions. The input arguments for this function are: \n",
    "\n",
    "1. original_sample: The table that contains the data \n",
    "\n",
    "2. label: The name of the column that contains the data sample which will be used to create the bootstrap distribution\n",
    "\n",
    "3. replications: The number of bootstrap replicate statistics to create\n",
    "\n",
    "For more information about how to write this function, please see [chapter 13 of the class textbook](https://www.inferentialthinking.com/chapters/13/Estimation.html)\n",
    "\n",
    "**Exercise 3.2 (6 points)**:  Please write the `bootstrap_proportion()` function. Once you have written this function, run it on `ARod_onbase_table` to create a bootstrap distribution for A-Rod's OBP that has 5000 bootstraps replicate statistics in it. Then plot a histogram of this bootstrap distribution. \n"
   ]
  },
  {
   "cell_type": "code",
   "execution_count": 2,
   "metadata": {},
   "outputs": [],
   "source": [
    "\n",
    "def bootstrap_proportion(original_sample, label, replications):    \n",
    "    \n",
    "    # if you get stuck, see chapter 13 for the full code for this function\n",
    "    pass\n",
    "\n",
    "\n",
    "\n",
    "\n",
    "\n",
    "\n"
   ]
  },
  {
   "cell_type": "markdown",
   "metadata": {},
   "source": [
    "## 3.3: Creating a 95% confidence interval using the percentile method\n",
    "\n",
    "Now let's create a 95% confidence interval using the percentile method. To do this you can use the `percentile()` function to get the end points such that 95% of the bootstrap statistics are contained between the left and right end points. \n",
    "\n",
    "**Exercise 3.3 (6 points)**: Please create this bootstrap confidence interval and save this confidence interval (two values) in an ndarray named `CI_bootstrap_percentile`. Again, I highly recommend looking at chapter 13 of the class textbook to see how to do this.\n"
   ]
  },
  {
   "cell_type": "code",
   "execution_count": 4,
   "metadata": {},
   "outputs": [],
   "source": [
    "\n",
    "# create CI using the percentile method\n",
    "\n",
    "\n",
    "\n",
    "\n",
    "\n",
    "\n",
    "\n"
   ]
  },
  {
   "cell_type": "markdown",
   "metadata": {},
   "source": [
    "## 3.4: Creating a 95% confidence interval based on a normal distribution\n",
    "\n",
    "As discussed in class, when the bootstrap distribution is relatively normal, we can create a 95% confidence interval using the formula:  $CI_{95} = stat  \\pm  1.96 \\cdot SE$. \n",
    "\n",
    "Recall that the SE (standard error) in this formula is can be approximated with the bootstrap standard error SE*, which can be computed by taking the standard deviation of the bootstrap distribution (using `np.std`). Also, the `stat` in this equation for A-Rod would be his observed OBP $\\hat{p}$ from 2012. \n",
    "\n",
    "**Exercise 3.4 (6 points)**: Please use this formula to create another estimate for the 95% confidence interval in the Python chunk below and save it to the name `CI_bootstrap_normal`. Also print the value you got for the bootstrap standard error SE*, and the value you got for this confidence interval. \n"
   ]
  },
  {
   "cell_type": "code",
   "execution_count": 6,
   "metadata": {},
   "outputs": [],
   "source": [
    "\n",
    "# create CI based on the normal distribution\n",
    "\n",
    "\n",
    "\n",
    "\n",
    "\n",
    "\n",
    "\n"
   ]
  },
  {
   "cell_type": "markdown",
   "metadata": {},
   "source": [
    "## Exercise 3.5: Plotting the CIs on top of the bootstrap distribution\n",
    "\n",
    "Let's end this set of exercises by plotting the bootstrap distribution again, and adding a horizontal line for the percentile confidence interval and the confidence interval based on normal distribution. To add horizontal lines you can use matplotlib's `plt.plot()` function (again see the class textbook). \n",
    "\n",
    "**Exercise 3.5 (6 points)**:  Please create this plot and then answer these questions:\n",
    "\n",
    "1. Do the confidence intervals based on the bootstrap percentile method and the bootstrap standard error seem similar? \n",
    "\n",
    "2. Do either of these intervals contain the value of $\\pi$ = .300 that we specified when we ran our hypothesis tests? Would we expect that these intervals would contain $\\pi$ = .300? Why or why not? \n",
    "\n",
    "\n",
    "**Answers:**\n",
    "\n",
    "1. \n",
    "\n",
    "\n",
    "2. \n",
    "\n",
    "\n"
   ]
  },
  {
   "cell_type": "code",
   "execution_count": null,
   "metadata": {},
   "outputs": [],
   "source": [
    "\n",
    "\n",
    "\n"
   ]
  },
  {
   "cell_type": "markdown",
   "metadata": {},
   "source": [
    "# Part 4: Using the correlation coefficient to determine which batting statistic is best\n",
    "\n",
    "\n",
    "Suppose we want to compare David Ortiz and Derek Jeter to determine who is the better hitter. If we were to look at basic statistics from these players, we would notice that Derek Jeter has a higher batting average while David Ortiz hits more home runs. This raises the question, which statistic is best to compare players to determine who is the best better? \n",
    "\n",
    "The value of a hitter can be determined by how many runs he contributes to the team. Thus, one way to define which statistic is best, would be the statistic that has the highest correlation with runs. In the following exercises you will compare the correlation among several statistics to determine which statistic is best and then you will compare David Ortiz and Derek Jeter using this statistic. The statistic you will look at are: \n",
    "\n",
    "1. Home runs (HR)\n",
    "2. Batting average (BA) \n",
    "3. Sluggingh percentage (SLG)\n",
    "4. On-base percentage (OBP)\n",
    "5. On-base plus slugging (OPS) \n",
    "\n"
   ]
  },
  {
   "cell_type": "markdown",
   "metadata": {},
   "source": [
    "## 4.1: Display scatter plot and calculate the correlation between home runs and runs\n",
    "\n",
    "Let's start by visualizing, and calculating the correlation, between home runs and the number of runs teams score in a season. \n",
    "\n",
    "**Exercise 4.1 (6 points)**:  The code below loads data that contains the season level statistics from all baseball teams. Start by selecting only the years from 1970 onward, and only those teams that played exactly 162 games in a season. Store these results in the name `teams_162` and display the number of rows in the table, which should be 1047. \n",
    "\n",
    "Then calculate the correlation between home runs and runs. To do this you can use the numpy's `corr_matrix = np.corrcoef(array1, array2)` function which takes two ndarrays and returns a correlation matrix between these arrays. Since you will only be passing this function 2 arrays, this will be a 2 x 2 matrix, where the diagonal elements are the correlation of each vector and itself (and therefore 1) and the off diagonal elements will be the correlation between `array1` and `array2`. We are only interested in the off diagonal elements (i.e., the correlation between `array1` and `array2`, so to get this value we can use the syntax `corr_val = corr_matrix[0, 1]`. \n",
    "\n",
    "Finally, display a scatter plot of runs as a function of home runs. Also add the correlation value to the title of this scatter plot using: `plt.title(str(corr_val)`, and make sure the correlation value is rounded to 3 decimal places using the `round(x, 3)` function.  \n"
   ]
  },
  {
   "cell_type": "code",
   "execution_count": 7,
   "metadata": {},
   "outputs": [],
   "source": [
    "# load the teams data...\n",
    "teams = Table.read_table('https://raw.githubusercontent.com/emeyers/SDS173/master/data/Teams.csv')  \n"
   ]
  },
  {
   "cell_type": "code",
   "execution_count": 7,
   "metadata": {},
   "outputs": [],
   "source": [
    "\n",
    "# create teams_162 which has team-seasons from 1970 to the present where each team played exactly 162 games\n",
    "\n",
    "\n",
    "\n",
    "\n",
    "# get the correlation \n",
    "\n",
    "\n",
    "\n",
    "\n",
    "\n",
    "# create scatter plot with the correlation value in the title\n",
    "\n",
    "\n",
    "\n",
    "\n"
   ]
  },
  {
   "cell_type": "markdown",
   "metadata": {},
   "source": [
    "## 4.2: Create a function to display scatter plot and correlation\n",
    "\n",
    "Let's now write a function called `corr_plot` that generalizes the scatter plot visualization created above. This function should work as `corr_plot(the_table, x_col_name, y_col_name)` where:\n",
    "\n",
    "- `the_table`: is our data table\n",
    "- `x_col_name`: is a string that is the name of the column that should be on the x-axis of the scatter plot\n",
    "- `y_col_name`: is a string that is the name of the column that should be on the y-axis of the scatter plot\n",
    "\n",
    "The title of the plot should be the correlation between these two variables.\n",
    "\n",
    "**Exercise 4.2 (6 points)**:  Please create this function and then run it to recreate the figure showing the relationship between home runs and runs.\n"
   ]
  },
  {
   "cell_type": "code",
   "execution_count": 8,
   "metadata": {},
   "outputs": [],
   "source": [
    "def corr_plot(the_table, x_col_name, y_col_name):\n",
    "    \n",
    "    pass\n",
    "\n",
    "\n",
    "\n",
    "\n",
    "\n",
    "\n",
    "\n"
   ]
  },
  {
   "cell_type": "markdown",
   "metadata": {},
   "source": [
    "## 4.3: Create summary statistic measures\n",
    "\n",
    "Next we want to use the function above to create these figures showing the relationship between runs and the following statistics: \n",
    "\n",
    "1. Home runs (HR) \n",
    "2. Batting average (BA): H/AB   \n",
    "3. Slugging percentage (SLG): (1 * 1B + 2 * 2B + 3 * 3B + 4 * HR)/AB    \n",
    "4. On-base percentage (OBP):  (H + BB + HBP)/(AB + BB + HBP + SF)\n",
    "5. On-base plus slugging (OPS): OBP + SLG   \n",
    "\n",
    "Unfortunately, the statistics BA, SLG, OBP and OPS do not exist in the `teams_162` table. Fortunately, you are already proficient at data manipulation and all the components you need to create these statistics do. Thus, you can (easily) add these statistics to your data table. \n",
    "\n",
    "**Exercise 4.3 (8 points)**: Please create a new data table named `teams_with_addition_stats` that has the `yearID`, `teamID` and `HR` from the `teams_162` table, along with columns `BA`, `SLG`, `OBP` and `OPS` that have the additional derived statistics. Once you have created this table, display the first 5 rows of the table.\n"
   ]
  },
  {
   "cell_type": "code",
   "execution_count": 9,
   "metadata": {},
   "outputs": [],
   "source": [
    "\n",
    "# create the derived statistics as ndarrays \n",
    "\n",
    "\n",
    "\n",
    "\n",
    "\n",
    "\n",
    "\n",
    "\n",
    "\n",
    "\n",
    "\n",
    "\n",
    "\n",
    "\n"
   ]
  },
  {
   "cell_type": "markdown",
   "metadata": {},
   "source": [
    "## 4.4: Compare summary statistic measures\n",
    "\n",
    "**Exercise 4.4 (6 points)**:  Now that we have all the derived statistics, use the `corr_plot()` function to create 5 scatter plots (with the correlation the title) between the 5 statistics of interest and runs. Then, list in ascending order below how much each statistic is correlated with runs, and state which statistic is the \"best\". \n",
    "\n",
    "**Answers** \n",
    "\n",
    "1. \n",
    "2. \n",
    "3. \n",
    "4. \n",
    "5. \n",
    "\n",
    "The \"best\" statistic is ...\n"
   ]
  },
  {
   "cell_type": "code",
   "execution_count": null,
   "metadata": {},
   "outputs": [],
   "source": [
    "\n",
    "\n",
    "\n",
    "\n",
    "\n",
    "\n",
    "\n",
    "\n",
    "\n",
    "\n",
    "\n",
    "\n"
   ]
  },
  {
   "cell_type": "markdown",
   "metadata": {},
   "source": [
    "## 4.5: Compare Jeter and Oritz on the \"best\" summary statistic measure\n",
    "\n",
    "\n",
    "Finally, let's create a side-by-side boxplot to compare Jeter and Ortiz on this \"best\" statistic. The code below loads a table called `players` which has the demographic information on players and a table called `batting` which has the season level batting statistics on players (these tables are from the Lahman database and you have used these tables before). We can create a side-by-side boxplot using the following steps: \n",
    "\n",
    "1. Start with the `batting` table and add OPS to this table (save in a name called `batting_with_ops`).\n",
    "\n",
    "2. Use the `player` tables to find Jeter and Ortiz's playerIDs.  \n",
    "\n",
    "3. Create two tables called `batting_jeter` and `batting_ortiz`. Fortunately, Jeter and Ortiz played the same number of seasons, so these tables have the same number of rows!\n",
    "\n",
    "4. Create a table called `jeter_ortiz_ops` that has a column called `Jeter` which has the \"best statistic\" for Jeter on each season he played, and a column called `Ortiz` which has the \"best statistic\" for Ortiz on each season he played.\n",
    "\n",
    "5. Use the `tb.boxplot()` method to create a side-by-side boxplot. \n",
    "\n",
    "**Exercise 4.5 (6 points)**:  Please create this plot. From looking at the box plots, who is better?\n",
    "\n",
    "\n",
    "**Answer:**\n",
    "\n",
    "\n"
   ]
  },
  {
   "cell_type": "code",
   "execution_count": 12,
   "metadata": {},
   "outputs": [],
   "source": [
    "np.seterr(divide='ignore', invalid='ignore')  # ignore any divide by 0 errors\n",
    "\n",
    "\n",
    "# load information to get Ortiz and Jeter's playerIDs\n",
    "players = Table.read_table('https://raw.githubusercontent.com/emeyers/SDS173/master/data/People.csv')  \n",
    "\n",
    "# load season batting data from all players\n",
    "batting = Table.read_table('https://raw.githubusercontent.com/emeyers/SDS173/master/data/Batting.csv')  \n",
    "\n",
    "\n",
    "# add \"best\" statistic to the batting data\n",
    "\n",
    "\n",
    "\n",
    "\n",
    "\n",
    "# get jeter and ortiz's Lahman ID\n",
    "\n",
    "\n",
    "\n",
    "# get \"best\" statistics from just jeter and ortiz in a table\n",
    "\n",
    "\n",
    "\n",
    "\n",
    "# create side-by-side boxplot comparing these players\n",
    "\n",
    "\n",
    "\n",
    "\n"
   ]
  },
  {
   "cell_type": "markdown",
   "metadata": {},
   "source": [
    "# Part 5: Quote and reaction to Astroball chapter 8 (5 points)\n",
    "\n",
    "Please find an interesting quote from chapter 8 Astroball and then write a ~one paragraph reaction to the quote below.\n",
    "\n",
    "Quote: \n",
    "\n",
    "Reaction: \n",
    "\n"
   ]
  },
  {
   "cell_type": "markdown",
   "metadata": {},
   "source": [
    "# Part 6. Reflection (3 points)\n",
    "\n",
    "How did this lab go? Please complete the [reflection homework 8](https://yale.instructure.com/courses/65116/quizzes/35178) which is under the quiz section on Canvas to let us know how it went and to reflect on what you learned. \n"
   ]
  }
 ],
 "metadata": {
  "anaconda-cloud": {},
  "kernelspec": {
   "display_name": "Python 3",
   "language": "python",
   "name": "python3"
  },
  "language_info": {
   "codemirror_mode": {
    "name": "ipython",
    "version": 3
   },
   "file_extension": ".py",
   "mimetype": "text/x-python",
   "name": "python",
   "nbconvert_exporter": "python",
   "pygments_lexer": "ipython3",
   "version": "3.7.3"
  }
 },
 "nbformat": 4,
 "nbformat_minor": 4
}
